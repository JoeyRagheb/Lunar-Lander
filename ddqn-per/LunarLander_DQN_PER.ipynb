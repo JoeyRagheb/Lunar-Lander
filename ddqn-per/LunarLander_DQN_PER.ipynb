{
 "cells": [
  {
   "cell_type": "code",
   "execution_count": 1,
   "metadata": {},
   "outputs": [
    {
     "name": "stdout",
     "output_type": "stream",
     "text": [
      "WARNING:tensorflow:From C:\\Users\\edupe\\AppData\\Local\\Continuum\\anaconda3\\envs\\rl_assignment_2\\lib\\site-packages\\tensorflow_core\\python\\compat\\v2_compat.py:65: disable_resource_variables (from tensorflow.python.ops.variable_scope) is deprecated and will be removed in a future version.\n",
      "Instructions for updating:\n",
      "non-resource variables are not supported in the long term\n"
     ]
    }
   ],
   "source": [
    "import gym\n",
    "import time\n",
    "import numpy as np\n",
    "from collections import deque\n",
    "import matplotlib.pylab as plt\n",
    "from DoubleDQN_PER import DoubleDQN_PER"
   ]
  },
  {
   "cell_type": "code",
   "execution_count": 2,
   "metadata": {},
   "outputs": [
    {
     "data": {
      "text/plain": [
       "[123]"
      ]
     },
     "execution_count": 2,
     "metadata": {},
     "output_type": "execute_result"
    }
   ],
   "source": [
    "env = gym.make('LunarLander-v2')\n",
    "env.seed(123)"
   ]
  },
  {
   "cell_type": "code",
   "execution_count": 3,
   "metadata": {},
   "outputs": [],
   "source": [
    "N_A = env.action_space.n\n",
    "N_S = env.observation_space.shape[0]\n",
    "MEMORY_CAPACITY = 20000\n",
    "TARGET_REP_ITER = 2000\n",
    "MAX_EPISODES = 1000\n",
    "E_GREEDY = 0.95\n",
    "E_INCREMENT = 0.00001\n",
    "GAMMA = 0.99\n",
    "LR = 0.0001\n",
    "BATCH_SIZE = 32\n",
    "HIDDEN = [400, 100]\n",
    "RENDER=False"
   ]
  },
  {
   "cell_type": "code",
   "execution_count": 4,
   "metadata": {},
   "outputs": [],
   "source": [
    "agent = DoubleDQN_PER(\n",
    "    n_actions=N_A, \n",
    "    n_features=N_S, \n",
    "    learning_rate=LR, \n",
    "    e_greedy=E_GREEDY, \n",
    "    reward_decay=GAMMA,\n",
    "    hidden=HIDDEN, \n",
    "    batch_size=BATCH_SIZE, \n",
    "    replace_target_iter=TARGET_REP_ITER,\n",
    "    memory_size=MEMORY_CAPACITY, \n",
    "    e_greedy_increment=E_INCREMENT\n",
    "    )"
   ]
  },
  {
   "cell_type": "code",
   "execution_count": 6,
   "metadata": {},
   "outputs": [
    {
     "name": "stdout",
     "output_type": "stream",
     "text": [
      "episode: 0 \t total steps: 77 \tsum_rewards: 11.60 \t avg_reward: 11.60 \t eps: 0.5 \t lr: 0.0001\n",
      "episode: 50 \t total steps: 5385 \tsum_rewards: -118.31 \t avg_reward: -127.96 \t eps: 0.5 \t lr: 0.0001\n",
      "episode: 100 \t total steps: 10263 \tsum_rewards: -27.34 \t avg_reward: -118.45 \t eps: 0.5 \t lr: 0.0001\n",
      "episode: 150 \t total steps: 15165 \tsum_rewards: -124.85 \t avg_reward: -129.51 \t eps: 0.5 \t lr: 0.0001\n",
      "episode: 200 \t total steps: 19776 \tsum_rewards: -53.43 \t avg_reward: -137.06 \t eps: 0.5 \t lr: 0.0001\n",
      "episode: 250 \t total steps: 26079 \tsum_rewards: -321.06 \t avg_reward: -168.68 \t eps: 0.5612599999997212 \t lr: 0.0001\n",
      "episode: 300 \t total steps: 46998 \tsum_rewards: 13.05 \t avg_reward: -150.08 \t eps: 0.7709499999987669 \t lr: 0.0001\n",
      "episode: 350 \t total steps: 92253 \tsum_rewards: -57.42 \t avg_reward: -74.22 \t eps: 0.95 \t lr: 0.0001\n",
      "episode: 400 \t total steps: 139876 \tsum_rewards: -24.49 \t avg_reward: -47.80 \t eps: 0.95 \t lr: 0.0001\n",
      "episode: 450 \t total steps: 186097 \tsum_rewards: 140.19 \t avg_reward: -15.99 \t eps: 0.95 \t lr: 0.0001\n",
      "episode: 500 \t total steps: 231966 \tsum_rewards: -10.60 \t avg_reward: -10.65 \t eps: 0.95 \t lr: 0.0001\n",
      "episode: 550 \t total steps: 275941 \tsum_rewards: -45.51 \t avg_reward: 10.46 \t eps: 0.95 \t lr: 0.0001\n",
      "episode: 600 \t total steps: 303541 \tsum_rewards: 40.04 \t avg_reward: 115.36 \t eps: 0.95 \t lr: 0.0001\n",
      "episode: 650 \t total steps: 320313 \tsum_rewards: 53.16 \t avg_reward: 161.52 \t eps: 0.95 \t lr: 0.0001\n",
      "episode: 700 \t total steps: 341893 \tsum_rewards: 208.40 \t avg_reward: 156.01 \t eps: 0.95 \t lr: 0.0001\n",
      "episode: 750 \t total steps: 364661 \tsum_rewards: 206.79 \t avg_reward: 187.06 \t eps: 0.95 \t lr: 0.0001\n",
      "episode: 800 \t total steps: 389337 \tsum_rewards: 243.13 \t avg_reward: 207.18 \t eps: 0.95 \t lr: 0.0001\n",
      "episode: 850 \t total steps: 412778 \tsum_rewards: 219.75 \t avg_reward: 212.32 \t eps: 0.95 \t lr: 0.0001\n",
      "episode: 900 \t total steps: 434355 \tsum_rewards: 150.35 \t avg_reward: 204.04 \t eps: 0.95 \t lr: 0.0001\n",
      "episode: 950 \t total steps: 454560 \tsum_rewards: 248.01 \t avg_reward: 201.93 \t eps: 0.95 \t lr: 0.0001\n"
     ]
    }
   ],
   "source": [
    "total_steps = 0\n",
    "running_r = 0\n",
    "\n",
    "total_reward = []\n",
    "aver = deque(maxlen=100)\n",
    "ep_rewards = []\n",
    "aver_reward = []\n",
    "\n",
    "for i_episode in range(MAX_EPISODES):\n",
    "    s = env.reset()  # (coord_x, coord_y, vel_x, vel_y, angle, angular_vel, l_leg_on_ground, r_leg_on_ground)\n",
    "    ep_r = 0\n",
    "    while True:\n",
    "        if RENDER: env.render()\n",
    "        a = agent.choose_action(s)\n",
    "        s_, r, done, _ = env.step(a)\n",
    "        ep_r += r\n",
    "        \n",
    "        agent.store_transition(s, a, r, s_)\n",
    "\n",
    "        if total_steps > MEMORY_CAPACITY:\n",
    "            agent.learn()\n",
    "        if done:\n",
    "            aver.append(ep_r)\n",
    "            current_avg = np.mean(aver)\n",
    "            aver_reward.append(current_avg)\n",
    "            \n",
    "            total_reward.append(ep_r)\n",
    "\n",
    "            if i_episode%50 ==0:\n",
    "                print(f\"episode: {i_episode} \\t total steps: {total_steps} \\tsum_rewards: {ep_r:.2f} \\t avg_reward: {current_avg:.2f} \\t eps: {agent.epsilon} \\t lr: {agent.lr}\")\n",
    "            break\n",
    "\n",
    "        s = s_\n",
    "        total_steps += 1"
   ]
  },
  {
   "cell_type": "code",
   "execution_count": 7,
   "metadata": {},
   "outputs": [
    {
     "data": {
      "text/plain": [
       "[<matplotlib.lines.Line2D at 0x22139bb9048>]"
      ]
     },
     "execution_count": 7,
     "metadata": {},
     "output_type": "execute_result"
    },
    {
     "data": {
      "image/png": "[encoded data removed]",
      "text/plain": [
       "<Figure size 432x288 with 1 Axes>"
      ]
     },
     "metadata": {
      "needs_background": "light"
     },
     "output_type": "display_data"
    }
   ],
   "source": [
    "plt.plot(total_reward)\n",
    "plt.plot(aver_reward)"
   ]
  },
  {
   "cell_type": "code",
   "execution_count": 8,
   "metadata": {},
   "outputs": [
    {
     "name": "stdout",
     "output_type": "stream",
     "text": [
      "results/results_DDQN_PER_sum_1650732510\n",
      "results/results_DDQN_PER_avg_1650732510\n"
     ]
    }
   ],
   "source": [
    "# Save results\n",
    "# Save results\n",
    "fn1 = f\"results/results_DDQN_PER_sum_{int(time.time())}\"\n",
    "fn2 = f\"results/results_DDQN_PER_avg_{int(time.time())}\"\n",
    "print(fn1)\n",
    "print(fn2)"
   ]
  },
  {
   "cell_type": "code",
   "execution_count": 9,
   "metadata": {},
   "outputs": [],
   "source": [
    "np.save(fn1, total_reward)\n",
    "np.save(fn2, aver_reward)"
   ]
  },
  {
   "cell_type": "markdown",
   "metadata": {},
   "source": [
    "# Render"
   ]
  },
  {
   "cell_type": "code",
   "execution_count": 14,
   "metadata": {},
   "outputs": [],
   "source": [
    "done = False\n",
    "for _ in range(3):\n",
    "    s = env.reset()\n",
    "    while not done:\n",
    "        env.render()\n",
    "        a = agent.choose_action(s)\n",
    "        s_, r, done, _ = env.step(a)\n",
    "        s = s_\n",
    "    done= False"
   ]
  },
  {
   "cell_type": "code",
   "execution_count": 40,
   "metadata": {},
   "outputs": [],
   "source": [
    "from matplotlib import animation\n",
    "import matplotlib.pyplot as plt\n",
    "import os\n",
    "def save_frames_as_gif(frames, filename, interval, fps):\n",
    "\n",
    "    #Mess with this to change frame size\n",
    "    fig = plt.figure(figsize=(frames[0].shape[1] / 72.0, frames[0].shape[0] / 72.0), dpi=72, frameon=False)\n",
    "    ax = plt.Axes(fig, [0., 0., 1., 1.])\n",
    "    ax.set_axis_off()\n",
    "    fig.add_axes(ax)\n",
    "    patch = plt.imshow(frames[0], aspect='auto')\n",
    "    plt.axis('off')\n",
    "\n",
    "    def animate(i):\n",
    "        patch.set_data(frames[i])\n",
    "\n",
    "    anim = animation.FuncAnimation(plt.gcf(), animate, frames = len(frames), interval=interval)\n",
    "    anim.save(filename, writer='Pillow', fps=fps)"
   ]
  },
  {
   "cell_type": "code",
   "execution_count": 25,
   "metadata": {},
   "outputs": [],
   "source": [
    "#Run the env\n",
    "frames = []\n",
    "for _ in range(3):\n",
    "    done= False\n",
    "    s = env.reset()\n",
    "    while not done:\n",
    "        frames.append(env.render(mode=\"rgb_array\"))\n",
    "        a = agent.choose_action(s)\n",
    "        s_, _, done, _ = env.step(a)\n",
    "        s = s_\n",
    "\n",
    "env.close()"
   ]
  },
  {
   "cell_type": "code",
   "execution_count": 49,
   "metadata": {},
   "outputs": [
    {
     "name": "stderr",
     "output_type": "stream",
     "text": [
      "MovieWriter Pillow unavailable; using Pillow instead.\n"
     ]
    },
    {
     "data": {
      "image/png": "[encoded data removed]",
      "text/plain": [
       "<Figure size 600x400 with 1 Axes>"
      ]
     },
     "metadata": {
      "needs_background": "light"
     },
     "output_type": "display_data"
    }
   ],
   "source": [
    "fname_gif = os.path.join(\"animation\",\"LunarLander_DDQN_PER.gif\")\n",
    "save_frames_as_gif(frames, filename=fname_gif, interval=120, fps=30)"
   ]
  },
  {
   "cell_type": "code",
   "execution_count": null,
   "metadata": {},
   "outputs": [],
   "source": []
  }
 ],
 "metadata": {
  "interpreter": {
   "hash": "f53dfc5d1cc28f3436c55c545335c6e9743d85a9cac805011354d5d530a7c8a0"
  },
  "kernelspec": {
   "display_name": "Python 3.6.13 ('rl_assignment_2')",
   "language": "python",
   "name": "python3"
  },
  "language_info": {
   "codemirror_mode": {
    "name": "ipython",
    "version": 3
   },
   "file_extension": ".py",
   "mimetype": "text/x-python",
   "name": "python",
   "nbconvert_exporter": "python",
   "pygments_lexer": "ipython3",
   "version": "3.6.13"
  },
  "orig_nbformat": 4
 },
 "nbformat": 4,
 "nbformat_minor": 2
}
