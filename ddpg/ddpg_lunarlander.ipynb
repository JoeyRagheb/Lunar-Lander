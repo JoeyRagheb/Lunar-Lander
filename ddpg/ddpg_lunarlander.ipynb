{
 "cells": [
  {
   "cell_type": "code",
   "execution_count": 1,
   "id": "4c447810",
   "metadata": {},
   "outputs": [],
   "source": [
    "# ! pip install numpy==1.19.5\n",
    "import os\n",
    "import gym\n",
    "import time\n",
    "import keras\n",
    "import random\n",
    "import pickle\n",
    "import numpy as np\n",
    "import pandas as pd\n",
    "from tqdm import tqdm\n",
    "import tensorflow as tf\n",
    "import matplotlib.pyplot as plt\n",
    "from collections import deque, defaultdict\n",
    "from keras.models import Model, save_model, load_model\n",
    "from keras.models import Sequential\n",
    "from keras.layers import Input, Dense, Flatten, Dropout\n",
    "from keras.utils.layer_utils import count_params\n",
    "\n",
    "%matplotlib inline\n"
   ]
  },
  {
   "cell_type": "code",
   "execution_count": 2,
   "id": "5fc7a071",
   "metadata": {},
   "outputs": [],
   "source": [
    "env = gym.make(\"LunarLanderContinuous-v2\")"
   ]
  },
  {
   "cell_type": "markdown",
   "id": "ec36829d",
   "metadata": {},
   "source": [
    "#### Lunar Lander Continous"
   ]
  },
  {
   "cell_type": "markdown",
   "id": "f827d916",
   "metadata": {},
   "source": [
    "Landing pad is always at coordinates (0,0). Coordinates are the first two numbers in state vector. Reward for moving from the top of the screen to landing pad and zero speed is about 100..140 points. If lander moves away from landing pad it loses reward back. Episode finishes if the lander crashes or comes to rest, receiving additional -100 or +100 points. Each leg ground contact is +10. Firing main engine is -0.3 points each frame. Solved is 200 points. Landing outside landing pad is possible. Fuel is infinite, so an agent can learn to fly and then land on its first attempt. Four discrete actions available: do nothing, fire left orientation engine, fire main engine, fire right orientation engine."
   ]
  },
  {
   "cell_type": "code",
   "execution_count": 3,
   "id": "19ad1eb3",
   "metadata": {},
   "outputs": [
    {
     "name": "stdout",
     "output_type": "stream",
     "text": [
      "State Space Size 8\n",
      "Action Space Size 2\n",
      "Max Value of Action: 1.0\n",
      "Min Value of Action: -1.0\n"
     ]
    }
   ],
   "source": [
    "# print out base information about the environment\n",
    "n_states = env.observation_space.shape[0]\n",
    "print('State Space Size', n_states)\n",
    "n_actions = env.action_space.shape[0]\n",
    "print('Action Space Size', n_actions)\n",
    "\n",
    "upper_bound = env.action_space.high[0]\n",
    "lower_bound = env.action_space.low[0]\n",
    "\n",
    "print('Max Value of Action:', upper_bound)\n",
    "print('Min Value of Action:', lower_bound)"
   ]
  },
  {
   "cell_type": "code",
   "execution_count": 4,
   "id": "1a73983f",
   "metadata": {},
   "outputs": [],
   "source": [
    "# create actor model\n",
    "def create_actor_model(inputs=n_states, learning_rate=0.01):\n",
    "    actor_model = Sequential()\n",
    "    actor_model.add(Input(shape=(inputs,)))\n",
    "    actor_model.add(Dense(512, activation='relu'))\n",
    "    actor_model.add(Dense(256, activation='relu'))\n",
    "    actor_model.add(Dense(2, activation='tanh', kernel_initializer=tf.random_uniform_initializer(minval=-0.05, maxval=0.05)))\n",
    "    # ADAM optimiser\n",
    "    opt = tf.keras.optimizers.Adam(learning_rate=learning_rate)\n",
    "    actor_model.compile(optimizer=opt)\n",
    "    return actor_model"
   ]
  },
  {
   "cell_type": "code",
   "execution_count": 5,
   "id": "5ec8cef2",
   "metadata": {},
   "outputs": [],
   "source": [
    "# create critic model\n",
    "def create_critic_model(inputs=n_states+n_actions, learning_rate=0.01):\n",
    "    critic_model = Sequential()\n",
    "    critic_model.add(Input(shape=(inputs,)))\n",
    "    critic_model.add(Dense(512, activation='relu'))\n",
    "    critic_model.add(Dense(256, activation='relu'))\n",
    "    critic_model.add(Dense(1, activation='linear'))\n",
    "    # ADAM optimiser\n",
    "    opt = tf.keras.optimizers.Adam(learning_rate=learning_rate)\n",
    "    critic_model.compile(optimizer=opt)\n",
    "    return critic_model"
   ]
  },
  {
   "cell_type": "code",
   "execution_count": 6,
   "id": "bc6e4dd2",
   "metadata": {},
   "outputs": [],
   "source": [
    "# FileLogger class adapted from the lunarlander dqn notebook\n",
    "class FileLogger():\n",
    "    def __init__(self, file_name='logs/ddpg_progress.log'):\n",
    "        self.file_name = file_name\n",
    "        self.clean_progress_file()\n",
    "\n",
    "    def log(self, episode, reward, average_reward):\n",
    "        with open(self.file_name, 'a+') as f:\n",
    "            f.write(f\"{episode};{reward};{average_reward}\\n\")\n",
    "\n",
    "    \n",
    "    def clean_progress_file(self):\n",
    "        if os.path.exists(self.file_name):\n",
    "            os.remove(self.file_name)\n",
    "        with open(self.file_name, 'a+') as f:\n",
    "            f.write(\"episode;reward;average\\n\")\n",
    "\n",
    "# define function to select action with Gaussian noise\n",
    "def select_action(state, env, actor_network):\n",
    "    upper_bound = env.action_space.high[0]\n",
    "    lower_bound = env.action_space.low[0]\n",
    "    actions = actor_network.predict(np.reshape(state, (1, env.observation_space.shape[0])))\n",
    "#     adding noise with Gaussian distribution\n",
    "    actions += np.random.normal(loc=0.0, scale=0.2, size=[n_actions])\n",
    "    actions = tf.clip_by_value(actions, lower_bound, upper_bound)\n",
    "    return actions[0]\n",
    "\n",
    "# function to update target networks\n",
    "@tf.function\n",
    "def update_target_weights(target_actor, actor, target_critic, critic):\n",
    "    tau = 0.05\n",
    "    actor_weights = actor.weights\n",
    "    target_actor_weights = target_actor.weights\n",
    "    for index in range(len(actor_weights)):\n",
    "        target_actor_weights[index] = tau * actor_weights[index] + (1 - tau) * target_actor_weights[index]\n",
    "    target_actor.set_weights(target_actor_weights)\n",
    "    \n",
    "    critic_weights = critic.weights\n",
    "    target_critic_weights = target_critic.weights\n",
    "    for index in range(len(critic_weights)):\n",
    "        target_critic_weights[index] = tau * critic_weights[index] + (1 - tau) * target_critic_weights[index]\n",
    "    target_critic.set_weights(target_critic_weights)\n",
    "\n",
    "@tf.function\n",
    "def update(gamma, states, actions, rewards, next_states, terminal_states, target_actor_network, actor_network, target_critic_network, critic_network):\n",
    "    terminal_states = tf.cast(terminal_states, tf.float32)\n",
    "    with tf.GradientTape() as tape:\n",
    "        target_actions = target_actor_network(next_states, training=True)\n",
    "        target_values = tf.squeeze(target_critic_network(tf.concat(values=[next_states, target_actions], axis=1)), 1)\n",
    "        target = rewards + gamma * target_values * ((tf.ones(shape=(terminal_states.shape), dtype=tf.float32)) - terminal_states)\n",
    "        q_value = tf.squeeze(critic_network(tf.concat(values=[states, actions], axis=1), training=True), 1)\n",
    "        critic_loss = tf.keras.losses.MSE(target, q_value)\n",
    "\n",
    "    critic_grads = tape.gradient(critic_loss, critic_network.trainable_variables)\n",
    "    critic_network.optimizer.apply_gradients(zip(critic_grads, critic_network.trainable_variables))\n",
    "\n",
    "    with tf.GradientTape() as tape:\n",
    "        actions = actor_network(states, training=True)\n",
    "        critic_value = - critic_network(tf.concat(values=[states, actions], axis=1), training=True)\n",
    "        actor_loss = tf.math.reduce_mean(critic_value)\n",
    "\n",
    "    actor_grad = tape.gradient(actor_loss, actor_network.trainable_variables)\n",
    "    actor_network.optimizer.apply_gradients(zip(actor_grad, actor_network.trainable_variables))\n"
   ]
  },
  {
   "cell_type": "code",
   "execution_count": 7,
   "id": "bb83cdb4",
   "metadata": {},
   "outputs": [],
   "source": [
    "# ddpg train function\n",
    "def ddpg(\n",
    "    env,\n",
    "    max_exp_replay=100_000,\n",
    "    gamma=0.99,\n",
    "    alpha=0.001,\n",
    "    beta=0.002,\n",
    "    update_target=10,\n",
    "    n_episodes=1000,\n",
    "    max_episode_steps=1_000,\n",
    "    batchsize=64\n",
    "):\n",
    "    replay_buffer = deque(maxlen=max_exp_replay)\n",
    "    best_score = env.reward_range[0]\n",
    "    score_history = []\n",
    "    model_dir = './model'\n",
    "    file_logger = FileLogger()\n",
    "\n",
    "    my_callbacks = [\n",
    "    tf.keras.callbacks.ModelCheckpoint(filepath=os.path.join(model_dir, 'model.{epoch:02d}-{loss:.2f}.h5'),\n",
    "                                       save_freq=1024),\n",
    "    tf.keras.callbacks.TensorBoard(log_dir='./logs')]\n",
    "    \n",
    "#     initialize actor networks\n",
    "    actor_network = create_actor_model(learning_rate=alpha)\n",
    "    target_actor_network = create_actor_model(learning_rate=alpha)\n",
    "#     set weights as as in actor network\n",
    "    target_actor_network.set_weights(actor_network.get_weights())\n",
    "#     initialize critic networks\n",
    "    critic_network = create_critic_model(learning_rate=beta)\n",
    "    target_critic_network = create_critic_model(learning_rate=beta)\n",
    "#     set weights as in critic network\n",
    "    target_critic_network.set_weights(critic_network.get_weights())\n",
    "    \n",
    "    random.seed(42)\n",
    "    start = time.time()\n",
    "    for episode in tqdm(range(1, n_episodes + 1), ascii=True, unit='episodes'):\n",
    "        print('episode', episode)\n",
    "        done = False\n",
    "        state = env.reset()\n",
    "        ep_reward = 0\n",
    "        while not done:\n",
    "            action = select_action(state, env, actor_network)\n",
    "            next_state, reward, done, _ = env.step(action)\n",
    "            replay_buffer.append((np.reshape(state, (n_states)),\n",
    "                                  np.reshape(action, (n_actions)), reward,\n",
    "                                  np.reshape(next_state, (n_states)), done))\n",
    "            ep_reward += reward           \n",
    "            if ep_reward > best_score:\n",
    "                best_score = ep_reward\n",
    "            if len(replay_buffer) < batchsize:\n",
    "                continue\n",
    "            batch = random.sample(replay_buffer, batchsize)\n",
    "            states = tf.convert_to_tensor([transition[0] for transition in batch])\n",
    "            actions = tf.convert_to_tensor([transition[1] for transition in batch])\n",
    "            rewards = tf.convert_to_tensor([transition[2] for transition in batch])\n",
    "            rewards = tf.cast(rewards, dtype=tf.float32)\n",
    "            next_states = tf.convert_to_tensor([transition[3] for transition in batch])\n",
    "            terminal_states = tf.convert_to_tensor([transition[4] for transition in batch])\n",
    "            update(gamma, states, actions, rewards, next_states, terminal_states, target_actor_network, actor_network, target_critic_network, critic_network)\n",
    "                \n",
    "            update_target_weights(target_actor=target_actor_network,\n",
    "                                  actor=actor_network,\n",
    "                                  target_critic=target_critic_network,\n",
    "                                  critic=critic_network)    \n",
    "            if done:\n",
    "                break\n",
    "            state = next_state\n",
    "        print(ep_reward)\n",
    "        score_history.append(ep_reward)\n",
    "        avg_score = np.mean(score_history[-100:])\n",
    "        file_logger.log(episode, ep_reward, avg_score)\n",
    "#         if ep_reward >= 200:\n",
    "#             actor_network.save(os.path.join(model_dir, 'actor200.h5')) \n",
    "#             break\n",
    "    critic_network.save(os.path.join(model_dir, 'critic.h5'))\n",
    "    actor_network.save(os.path.join(model_dir, 'ddpg_model.h5'))\n",
    "    # save_model(actor_network, 'actor_model.h5')\n",
    "    end = time.time()\n",
    "    try:\n",
    "        with open('logs/rewards_history.pickle','wb') as f: pickle.dump(score_history, f)\n",
    "    except:\n",
    "        pass\n",
    "    try:\n",
    "        with open('logs/average_scores.pickle','wb') as f: pickle.dump(avg_score, f)\n",
    "    except:\n",
    "        pass\n",
    "    print('Total time passed:', end - start,  'seconds')\n",
    "    \n",
    "    return score_history, actor_network"
   ]
  },
  {
   "cell_type": "code",
   "execution_count": 8,
   "id": "c31e870f",
   "metadata": {
    "scrolled": true
   },
   "outputs": [
    {
     "name": "stderr",
     "output_type": "stream",
     "text": [
      "  0%|          | 0/1000 [00:00<?, ?episodes/s]/anaconda/envs/azureml_py38/lib/python3.8/site-packages/tensorflow/python/data/ops/structured_function.py:264: UserWarning: Even though the `tf.config.experimental_run_functions_eagerly` option is set, this option does not apply to tf.data functions. To force eager execution of tf.data functions, please use `tf.data.experimental.enable_debug_mode()`.\n",
      "  warnings.warn(\n"
     ]
    },
    {
     "name": "stdout",
     "output_type": "stream",
     "text": [
      "episode 1\n"
     ]
    },
    {
     "name": "stderr",
     "output_type": "stream",
     "text": [
      "\r\n",
      "  0%|          | 1/1000 [00:08<2:20:54,  8.46s/episodes]"
     ]
    },
    {
     "name": "stdout",
     "output_type": "stream",
     "text": [
      "-316.00783509681924\n",
      "episode 2\n"
     ]
    },
    {
     "name": "stderr",
     "output_type": "stream",
     "text": [
      "\r\n",
      "  0%|          | 2/1000 [00:13<1:43:38,  6.23s/episodes]"
     ]
    },
    {
     "name": "stdout",
     "output_type": "stream",
     "text": [
      "-348.8384126126766\n",
      "episode 3\n"
     ]
    },
    {
     "name": "stderr",
     "output_type": "stream",
     "text": [
      "\r\n",
      "  0%|          | 3/1000 [00:19<1:45:35,  6.35s/episodes]"
     ]
    },
    {
     "name": "stdout",
     "output_type": "stream",
     "text": [
      "-499.6546195211568\n",
      "episode 4\n"
     ]
    },
    {
     "name": "stderr",
     "output_type": "stream",
     "text": [
      "\r\n",
      "  0%|          | 4/1000 [00:35<2:44:49,  9.93s/episodes]"
     ]
    },
    {
     "name": "stdout",
     "output_type": "stream",
     "text": [
      "-333.15252197188534\n",
      "episode 5\n"
     ]
    },
    {
     "name": "stderr",
     "output_type": "stream",
     "text": [
      "\r\n",
      "  0%|          | 5/1000 [01:16<5:55:00, 21.41s/episodes]"
     ]
    },
    {
     "name": "stdout",
     "output_type": "stream",
     "text": [
      "-226.43592754083795\n",
      "episode 6\n"
     ]
    },
    {
     "name": "stderr",
     "output_type": "stream",
     "text": [
      "\r\n",
      "  1%|          | 6/1000 [01:28<4:58:30, 18.02s/episodes]"
     ]
    },
    {
     "name": "stdout",
     "output_type": "stream",
     "text": [
      "-241.8904833136507\n",
      "episode 7\n"
     ]
    },
    {
     "name": "stderr",
     "output_type": "stream",
     "text": [
      "\r\n",
      "  1%|          | 7/1000 [01:33<3:46:47, 13.70s/episodes]"
     ]
    },
    {
     "name": "stdout",
     "output_type": "stream",
     "text": [
      "-222.87585364524443\n",
      "episode 8\n"
     ]
    },
    {
     "name": "stderr",
     "output_type": "stream",
     "text": [
      "\r\n",
      "  1%|          | 8/1000 [02:00<5:01:24, 18.23s/episodes]"
     ]
    },
    {
     "name": "stdout",
     "output_type": "stream",
     "text": [
      "-283.97234050166094\n",
      "episode 9\n"
     ]
    },
    {
     "name": "stderr",
     "output_type": "stream",
     "text": [
      "\r\n",
      "  1%|          | 9/1000 [02:24<5:30:01, 19.98s/episodes]"
     ]
    },
    {
     "name": "stdout",
     "output_type": "stream",
     "text": [
      "247.77078854308905\n",
      "episode 10\n"
     ]
    },
    {
     "name": "stderr",
     "output_type": "stream",
     "text": [
      "\r\n",
      "  1%|1         | 10/1000 [02:32<4:26:05, 16.13s/episodes]"
     ]
    },
    {
     "name": "stdout",
     "output_type": "stream",
     "text": [
      "-303.68544927658013\n",
      "episode 11\n"
     ]
    },
    {
     "name": "stderr",
     "output_type": "stream",
     "text": [
      "\r\n",
      "  1%|1         | 11/1000 [02:42<3:57:16, 14.39s/episodes]"
     ]
    },
    {
     "name": "stdout",
     "output_type": "stream",
     "text": [
      "-305.5848254883299\n",
      "episode 12\n"
     ]
    },
    {
     "name": "stderr",
     "output_type": "stream",
     "text": [
      "\r\n",
      "  1%|1         | 12/1000 [03:06<4:44:14, 17.26s/episodes]"
     ]
    },
    {
     "name": "stdout",
     "output_type": "stream",
     "text": [
      "-549.3481695357642\n",
      "episode 13\n"
     ]
    },
    {
     "name": "stderr",
     "output_type": "stream",
     "text": [
      "\r\n",
      "  1%|1         | 13/1000 [03:24<4:44:51, 17.32s/episodes]"
     ]
    },
    {
     "name": "stdout",
     "output_type": "stream",
     "text": [
      "-121.80105753035924\n",
      "episode 14\n"
     ]
    },
    {
     "name": "stderr",
     "output_type": "stream",
     "text": [
      "\r\n",
      "  1%|1         | 14/1000 [03:50<5:28:38, 20.00s/episodes]"
     ]
    },
    {
     "name": "stdout",
     "output_type": "stream",
     "text": [
      "-256.38484059431846\n",
      "episode 15\n"
     ]
    },
    {
     "name": "stderr",
     "output_type": "stream",
     "text": [
      "\r\n",
      "  2%|1         | 15/1000 [04:07<5:12:45, 19.05s/episodes]"
     ]
    },
    {
     "name": "stdout",
     "output_type": "stream",
     "text": [
      "-114.12598301312795\n",
      "episode 16\n"
     ]
    },
    {
     "name": "stderr",
     "output_type": "stream",
     "text": [
      "\r\n",
      "  2%|1         | 16/1000 [04:31<5:40:43, 20.78s/episodes]"
     ]
    },
    {
     "name": "stdout",
     "output_type": "stream",
     "text": [
      "-269.0912956248727\n",
      "episode 17\n"
     ]
    },
    {
     "name": "stderr",
     "output_type": "stream",
     "text": [
      "\r\n",
      "  2%|1         | 17/1000 [04:48<5:18:49, 19.46s/episodes]"
     ]
    },
    {
     "name": "stdout",
     "output_type": "stream",
     "text": [
      "-20.308612424166682\n",
      "episode 18\n"
     ]
    },
    {
     "name": "stderr",
     "output_type": "stream",
     "text": [
      "\r\n",
      "  2%|1         | 18/1000 [05:25<6:45:45, 24.79s/episodes]"
     ]
    },
    {
     "name": "stdout",
     "output_type": "stream",
     "text": [
      "-277.7091432537776\n",
      "episode 19\n"
     ]
    },
    {
     "name": "stderr",
     "output_type": "stream",
     "text": [
      "\r\n",
      "  2%|1         | 19/1000 [06:47<11:26:55, 42.01s/episodes]"
     ]
    },
    {
     "name": "stdout",
     "output_type": "stream",
     "text": [
      "-183.16608600044606\n",
      "episode 20\n"
     ]
    },
    {
     "name": "stderr",
     "output_type": "stream",
     "text": [
      "\r\n",
      "  2%|2         | 20/1000 [07:16<10:23:44, 38.19s/episodes]"
     ]
    },
    {
     "name": "stdout",
     "output_type": "stream",
     "text": [
      "-258.7013455504736\n",
      "episode 21\n"
     ]
    },
    {
     "name": "stderr",
     "output_type": "stream",
     "text": [
      "\r\n",
      "  2%|2         | 21/1000 [07:40<9:11:55, 33.83s/episodes] "
     ]
    },
    {
     "name": "stdout",
     "output_type": "stream",
     "text": [
      "-216.97604741959265\n",
      "episode 22\n"
     ]
    },
    {
     "name": "stderr",
     "output_type": "stream",
     "text": [
      "\r\n",
      "  2%|2         | 22/1000 [07:49<7:07:29, 26.23s/episodes]"
     ]
    },
    {
     "name": "stdout",
     "output_type": "stream",
     "text": [
      "-75.2222865616873\n",
      "episode 23\n"
     ]
    },
    {
     "name": "stderr",
     "output_type": "stream",
     "text": [
      "\r\n",
      "  2%|2         | 23/1000 [08:00<5:56:20, 21.88s/episodes]"
     ]
    },
    {
     "name": "stdout",
     "output_type": "stream",
     "text": [
      "-90.84972914854458\n",
      "episode 24\n"
     ]
    },
    {
     "name": "stderr",
     "output_type": "stream",
     "text": [
      "\r\n",
      "  2%|2         | 24/1000 [08:07<4:41:11, 17.29s/episodes]"
     ]
    },
    {
     "name": "stdout",
     "output_type": "stream",
     "text": [
      "-201.671898183203\n",
      "episode 25\n"
     ]
    },
    {
     "name": "stderr",
     "output_type": "stream",
     "text": [
      "\r\n",
      "  2%|2         | 25/1000 [08:42<6:09:15, 22.72s/episodes]"
     ]
    },
    {
     "name": "stdout",
     "output_type": "stream",
     "text": [
      "-253.47078159372313\n",
      "episode 26\n"
     ]
    },
    {
     "name": "stderr",
     "output_type": "stream",
     "text": [
      "\r\n",
      "  3%|2         | 26/1000 [09:20<7:19:55, 27.10s/episodes]"
     ]
    },
    {
     "name": "stdout",
     "output_type": "stream",
     "text": [
      "-198.4887164288729\n",
      "episode 27\n"
     ]
    },
    {
     "name": "stderr",
     "output_type": "stream",
     "text": [
      "\r\n",
      "  3%|2         | 27/1000 [10:09<9:09:06, 33.86s/episodes]"
     ]
    },
    {
     "name": "stdout",
     "output_type": "stream",
     "text": [
      "-364.7276196113291\n",
      "episode 28\n"
     ]
    },
    {
     "name": "stderr",
     "output_type": "stream",
     "text": [
      "\r\n",
      "  3%|2         | 28/1000 [10:29<7:58:48, 29.56s/episodes]"
     ]
    },
    {
     "name": "stdout",
     "output_type": "stream",
     "text": [
      "-471.2457517420084\n",
      "episode 29\n"
     ]
    },
    {
     "name": "stderr",
     "output_type": "stream",
     "text": [
      "\r\n",
      "  3%|2         | 29/1000 [11:47<11:54:59, 44.18s/episodes]"
     ]
    },
    {
     "name": "stdout",
     "output_type": "stream",
     "text": [
      "-317.07765350740874\n",
      "episode 30\n"
     ]
    },
    {
     "name": "stderr",
     "output_type": "stream",
     "text": [
      "\r\n",
      "  3%|3         | 30/1000 [12:11<10:16:06, 38.11s/episodes]"
     ]
    },
    {
     "name": "stdout",
     "output_type": "stream",
     "text": [
      "-236.260757331544\n",
      "episode 31\n"
     ]
    },
    {
     "name": "stderr",
     "output_type": "stream",
     "text": [
      "\r\n",
      "  3%|3         | 31/1000 [12:23<8:08:10, 30.23s/episodes] "
     ]
    },
    {
     "name": "stdout",
     "output_type": "stream",
     "text": [
      "-188.7096720037507\n",
      "episode 32\n"
     ]
    },
    {
     "name": "stderr",
     "output_type": "stream",
     "text": [
      "\r\n",
      "  3%|3         | 32/1000 [12:50<7:50:44, 29.18s/episodes]"
     ]
    },
    {
     "name": "stdout",
     "output_type": "stream",
     "text": [
      "-431.1747280275527\n",
      "episode 33\n"
     ]
    },
    {
     "name": "stderr",
     "output_type": "stream",
     "text": [
      "\r\n",
      "  3%|3         | 33/1000 [13:04<6:36:53, 24.63s/episodes]"
     ]
    },
    {
     "name": "stdout",
     "output_type": "stream",
     "text": [
      "-183.8129232149373\n",
      "episode 34\n"
     ]
    },
    {
     "name": "stderr",
     "output_type": "stream",
     "text": [
      "\r\n",
      "  3%|3         | 34/1000 [13:13<5:24:49, 20.18s/episodes]"
     ]
    },
    {
     "name": "stdout",
     "output_type": "stream",
     "text": [
      "-145.5284604493844\n",
      "episode 35\n"
     ]
    },
    {
     "name": "stderr",
     "output_type": "stream",
     "text": [
      "\r\n",
      "  4%|3         | 35/1000 [13:40<5:55:19, 22.09s/episodes]"
     ]
    },
    {
     "name": "stdout",
     "output_type": "stream",
     "text": [
      "-127.30921289556167\n",
      "episode 36\n"
     ]
    },
    {
     "name": "stderr",
     "output_type": "stream",
     "text": [
      "\r\n",
      "  4%|3         | 36/1000 [14:06<6:16:03, 23.41s/episodes]"
     ]
    },
    {
     "name": "stdout",
     "output_type": "stream",
     "text": [
      "-216.66150380378267\n",
      "episode 37\n"
     ]
    },
    {
     "name": "stderr",
     "output_type": "stream",
     "text": [
      "\r\n",
      "  4%|3         | 37/1000 [15:18<10:06:06, 37.76s/episodes]"
     ]
    },
    {
     "name": "stdout",
     "output_type": "stream",
     "text": [
      "-292.5706901093399\n",
      "episode 38\n"
     ]
    },
    {
     "name": "stderr",
     "output_type": "stream",
     "text": [
      "\r\n",
      "  4%|3         | 38/1000 [15:31<8:08:11, 30.45s/episodes] "
     ]
    },
    {
     "name": "stdout",
     "output_type": "stream",
     "text": [
      "-296.87447130336875\n",
      "episode 39\n"
     ]
    },
    {
     "name": "stderr",
     "output_type": "stream",
     "text": [
      "\r\n",
      "  4%|3         | 39/1000 [16:44<11:33:01, 43.27s/episodes]"
     ]
    },
    {
     "name": "stdout",
     "output_type": "stream",
     "text": [
      "147.4516561627085\n",
      "episode 40\n"
     ]
    },
    {
     "name": "stderr",
     "output_type": "stream",
     "text": [
      "\r\n",
      "  4%|4         | 40/1000 [18:15<15:19:24, 57.46s/episodes]"
     ]
    },
    {
     "name": "stdout",
     "output_type": "stream",
     "text": [
      "-96.0517410645519\n",
      "episode 41\n"
     ]
    },
    {
     "name": "stderr",
     "output_type": "stream",
     "text": [
      "\r\n",
      "  4%|4         | 41/1000 [18:21<11:12:00, 42.04s/episodes]"
     ]
    },
    {
     "name": "stdout",
     "output_type": "stream",
     "text": [
      "-21.515345020471244\n",
      "episode 42\n"
     ]
    },
    {
     "name": "stderr",
     "output_type": "stream",
     "text": [
      "\r\n",
      "  4%|4         | 42/1000 [19:51<15:01:20, 56.45s/episodes]"
     ]
    },
    {
     "name": "stdout",
     "output_type": "stream",
     "text": [
      "-72.04225521129229\n",
      "episode 43\n"
     ]
    },
    {
     "name": "stderr",
     "output_type": "stream",
     "text": [
      "\r\n",
      "  4%|4         | 43/1000 [21:23<17:52:17, 67.23s/episodes]"
     ]
    },
    {
     "name": "stdout",
     "output_type": "stream",
     "text": [
      "-42.442120432902954\n",
      "episode 44\n"
     ]
    },
    {
     "name": "stderr",
     "output_type": "stream",
     "text": [
      "\r\n",
      "  4%|4         | 44/1000 [22:26<17:31:32, 66.00s/episodes]"
     ]
    },
    {
     "name": "stdout",
     "output_type": "stream",
     "text": [
      "-230.8292983276104\n",
      "episode 45\n"
     ]
    },
    {
     "name": "stderr",
     "output_type": "stream",
     "text": [
      "\r\n",
      "  4%|4         | 45/1000 [23:58<19:32:12, 73.65s/episodes]"
     ]
    },
    {
     "name": "stdout",
     "output_type": "stream",
     "text": [
      "19.617212494632255\n",
      "episode 46\n"
     ]
    },
    {
     "name": "stderr",
     "output_type": "stream",
     "text": [
      "\r\n",
      "  5%|4         | 46/1000 [25:26<20:40:17, 78.01s/episodes]"
     ]
    },
    {
     "name": "stdout",
     "output_type": "stream",
     "text": [
      "147.37377036161303\n",
      "episode 47\n"
     ]
    },
    {
     "name": "stderr",
     "output_type": "stream",
     "text": [
      "\r\n",
      "  5%|4         | 47/1000 [26:49<21:00:20, 79.35s/episodes]"
     ]
    },
    {
     "name": "stdout",
     "output_type": "stream",
     "text": [
      "-35.145732583452016\n",
      "episode 48\n"
     ]
    },
    {
     "name": "stderr",
     "output_type": "stream",
     "text": [
      "\r\n",
      "  5%|4         | 48/1000 [27:43<18:59:44, 71.83s/episodes]"
     ]
    },
    {
     "name": "stdout",
     "output_type": "stream",
     "text": [
      "214.09057599456378\n",
      "episode 49\n"
     ]
    },
    {
     "name": "stderr",
     "output_type": "stream",
     "text": [
      "\r\n",
      "  5%|4         | 49/1000 [29:13<20:25:14, 77.30s/episodes]"
     ]
    },
    {
     "name": "stdout",
     "output_type": "stream",
     "text": [
      "-17.065805438047196\n",
      "episode 50\n"
     ]
    },
    {
     "name": "stderr",
     "output_type": "stream",
     "text": [
      "\r\n",
      "  5%|5         | 50/1000 [30:06<18:31:00, 70.17s/episodes]"
     ]
    },
    {
     "name": "stdout",
     "output_type": "stream",
     "text": [
      "210.65122280644087\n",
      "episode 51\n"
     ]
    },
    {
     "name": "stderr",
     "output_type": "stream",
     "text": [
      "\r\n",
      "  5%|5         | 51/1000 [31:08<17:47:06, 67.47s/episodes]"
     ]
    },
    {
     "name": "stdout",
     "output_type": "stream",
     "text": [
      "-179.08659215936743\n",
      "episode 52\n"
     ]
    },
    {
     "name": "stderr",
     "output_type": "stream",
     "text": [
      "\r\n",
      "  5%|5         | 52/1000 [31:32<14:21:51, 54.55s/episodes]"
     ]
    },
    {
     "name": "stdout",
     "output_type": "stream",
     "text": [
      "-243.6108750030376\n",
      "episode 53\n"
     ]
    },
    {
     "name": "stderr",
     "output_type": "stream",
     "text": [
      "\r\n",
      "  5%|5         | 53/1000 [31:41<10:46:27, 40.96s/episodes]"
     ]
    },
    {
     "name": "stdout",
     "output_type": "stream",
     "text": [
      "-56.569410558222046\n",
      "episode 54\n"
     ]
    },
    {
     "name": "stderr",
     "output_type": "stream",
     "text": [
      "\r\n",
      "  5%|5         | 54/1000 [31:55<8:39:08, 32.93s/episodes] "
     ]
    },
    {
     "name": "stdout",
     "output_type": "stream",
     "text": [
      "-217.51556934913094\n",
      "episode 55\n"
     ]
    },
    {
     "name": "stderr",
     "output_type": "stream",
     "text": [
      "\r\n",
      "  6%|5         | 55/1000 [32:50<10:20:20, 39.39s/episodes]"
     ]
    },
    {
     "name": "stdout",
     "output_type": "stream",
     "text": [
      "-566.2754182599818\n",
      "episode 56\n"
     ]
    },
    {
     "name": "stderr",
     "output_type": "stream",
     "text": [
      "\r\n",
      "  6%|5         | 56/1000 [34:01<12:47:51, 48.80s/episodes]"
     ]
    },
    {
     "name": "stdout",
     "output_type": "stream",
     "text": [
      "-394.48796639228806\n",
      "episode 57\n"
     ]
    },
    {
     "name": "stderr",
     "output_type": "stream",
     "text": [
      "\r\n",
      "  6%|5         | 57/1000 [34:52<12:56:29, 49.41s/episodes]"
     ]
    },
    {
     "name": "stdout",
     "output_type": "stream",
     "text": [
      "-263.5230311553281\n",
      "episode 58\n"
     ]
    },
    {
     "name": "stderr",
     "output_type": "stream",
     "text": [
      "\r\n",
      "  6%|5         | 58/1000 [36:22<16:08:17, 61.67s/episodes]"
     ]
    },
    {
     "name": "stdout",
     "output_type": "stream",
     "text": [
      "-72.24097736389311\n",
      "episode 59\n"
     ]
    },
    {
     "name": "stderr",
     "output_type": "stream",
     "text": [
      "\r\n",
      "  6%|5         | 59/1000 [37:53<18:24:21, 70.42s/episodes]"
     ]
    },
    {
     "name": "stdout",
     "output_type": "stream",
     "text": [
      "-105.27495445284634\n",
      "episode 60\n"
     ]
    },
    {
     "name": "stderr",
     "output_type": "stream",
     "text": [
      "\r\n",
      "  6%|6         | 60/1000 [38:24<15:20:41, 58.77s/episodes]"
     ]
    },
    {
     "name": "stdout",
     "output_type": "stream",
     "text": [
      "-485.8066489757397\n",
      "episode 61\n"
     ]
    },
    {
     "name": "stderr",
     "output_type": "stream",
     "text": [
      "\r\n",
      "  6%|6         | 61/1000 [38:53<12:59:24, 49.80s/episodes]"
     ]
    },
    {
     "name": "stdout",
     "output_type": "stream",
     "text": [
      "-351.4666699665555\n",
      "episode 62\n"
     ]
    },
    {
     "name": "stderr",
     "output_type": "stream",
     "text": [
      "\r\n",
      "  6%|6         | 62/1000 [39:13<10:36:50, 40.74s/episodes]"
     ]
    },
    {
     "name": "stdout",
     "output_type": "stream",
     "text": [
      "-186.71206525101326\n",
      "episode 63\n"
     ]
    },
    {
     "name": "stderr",
     "output_type": "stream",
     "text": [
      "\r\n",
      "  6%|6         | 63/1000 [39:42<9:43:05, 37.34s/episodes] "
     ]
    },
    {
     "name": "stdout",
     "output_type": "stream",
     "text": [
      "-636.1888902206217\n",
      "episode 64\n"
     ]
    },
    {
     "name": "stderr",
     "output_type": "stream",
     "text": [
      "\r\n",
      "  6%|6         | 64/1000 [40:07<8:42:28, 33.49s/episodes]"
     ]
    },
    {
     "name": "stdout",
     "output_type": "stream",
     "text": [
      "-572.4082015571713\n",
      "episode 65\n"
     ]
    },
    {
     "name": "stderr",
     "output_type": "stream",
     "text": [
      "\r\n",
      "  6%|6         | 65/1000 [40:34<8:11:47, 31.56s/episodes]"
     ]
    },
    {
     "name": "stdout",
     "output_type": "stream",
     "text": [
      "-590.75955052294\n",
      "episode 66\n"
     ]
    },
    {
     "name": "stderr",
     "output_type": "stream",
     "text": [
      "\r\n",
      "  7%|6         | 66/1000 [41:01<7:49:58, 30.19s/episodes]"
     ]
    },
    {
     "name": "stdout",
     "output_type": "stream",
     "text": [
      "-517.0027594926044\n",
      "episode 67\n"
     ]
    },
    {
     "name": "stderr",
     "output_type": "stream",
     "text": [
      "\r\n",
      "  7%|6         | 67/1000 [41:46<8:59:43, 34.71s/episodes]"
     ]
    },
    {
     "name": "stdout",
     "output_type": "stream",
     "text": [
      "-802.3760985474346\n",
      "episode 68\n"
     ]
    },
    {
     "name": "stderr",
     "output_type": "stream",
     "text": [
      "\r\n",
      "  7%|6         | 68/1000 [42:20<8:56:36, 34.55s/episodes]"
     ]
    },
    {
     "name": "stdout",
     "output_type": "stream",
     "text": [
      "-514.5793886716347\n",
      "episode 69\n"
     ]
    },
    {
     "name": "stderr",
     "output_type": "stream",
     "text": [
      "\r\n",
      "  7%|6         | 69/1000 [43:13<10:20:03, 39.96s/episodes]"
     ]
    },
    {
     "name": "stdout",
     "output_type": "stream",
     "text": [
      "-564.1894331821732\n",
      "episode 70\n"
     ]
    },
    {
     "name": "stderr",
     "output_type": "stream",
     "text": [
      "\r\n",
      "  7%|7         | 70/1000 [43:30<8:35:32, 33.26s/episodes] "
     ]
    },
    {
     "name": "stdout",
     "output_type": "stream",
     "text": [
      "-47.01006526816562\n",
      "episode 71\n"
     ]
    },
    {
     "name": "stderr",
     "output_type": "stream",
     "text": [
      "\r\n",
      "  7%|7         | 71/1000 [45:04<13:14:17, 51.30s/episodes]"
     ]
    },
    {
     "name": "stdout",
     "output_type": "stream",
     "text": [
      "-210.58246294560843\n",
      "episode 72\n"
     ]
    },
    {
     "name": "stderr",
     "output_type": "stream",
     "text": [
      "\r\n",
      "  7%|7         | 72/1000 [45:24<10:50:04, 42.03s/episodes]"
     ]
    },
    {
     "name": "stdout",
     "output_type": "stream",
     "text": [
      "-168.6944294253592\n",
      "episode 73\n"
     ]
    },
    {
     "name": "stderr",
     "output_type": "stream",
     "text": [
      "\r\n",
      "  7%|7         | 73/1000 [45:32<8:11:06, 31.79s/episodes] "
     ]
    },
    {
     "name": "stdout",
     "output_type": "stream",
     "text": [
      "-18.837931947548853\n",
      "episode 74\n"
     ]
    },
    {
     "name": "stderr",
     "output_type": "stream",
     "text": [
      "\r\n",
      "  7%|7         | 74/1000 [45:54<7:24:54, 28.83s/episodes]"
     ]
    },
    {
     "name": "stdout",
     "output_type": "stream",
     "text": [
      "-134.2386319609464\n",
      "episode 75\n"
     ]
    },
    {
     "name": "stderr",
     "output_type": "stream",
     "text": [
      "\r\n",
      "  8%|7         | 75/1000 [47:27<12:22:33, 48.17s/episodes]"
     ]
    },
    {
     "name": "stdout",
     "output_type": "stream",
     "text": [
      "-118.41775192144624\n",
      "episode 76\n"
     ]
    },
    {
     "name": "stderr",
     "output_type": "stream",
     "text": [
      "\r\n",
      "  8%|7         | 76/1000 [48:17<12:30:16, 48.72s/episodes]"
     ]
    },
    {
     "name": "stdout",
     "output_type": "stream",
     "text": [
      "-212.74328341818216\n",
      "episode 77\n"
     ]
    },
    {
     "name": "stderr",
     "output_type": "stream",
     "text": [
      "\r\n",
      "  8%|7         | 77/1000 [49:51<15:56:03, 62.15s/episodes]"
     ]
    },
    {
     "name": "stdout",
     "output_type": "stream",
     "text": [
      "-23.45531076507242\n",
      "episode 78\n"
     ]
    },
    {
     "name": "stderr",
     "output_type": "stream",
     "text": [
      "\r\n",
      "  8%|7         | 78/1000 [50:21<13:26:39, 52.49s/episodes]"
     ]
    },
    {
     "name": "stdout",
     "output_type": "stream",
     "text": [
      "-187.85536001849482\n",
      "episode 79\n"
     ]
    },
    {
     "name": "stderr",
     "output_type": "stream",
     "text": [
      "\r\n",
      "  8%|7         | 79/1000 [50:33<10:23:07, 40.59s/episodes]"
     ]
    },
    {
     "name": "stdout",
     "output_type": "stream",
     "text": [
      "-194.47773656796952\n",
      "episode 80\n"
     ]
    },
    {
     "name": "stderr",
     "output_type": "stream",
     "text": [
      "\r\n",
      "  8%|8         | 80/1000 [51:54<13:24:36, 52.47s/episodes]"
     ]
    },
    {
     "name": "stdout",
     "output_type": "stream",
     "text": [
      "-423.11227807786406\n",
      "episode 81\n"
     ]
    },
    {
     "name": "stderr",
     "output_type": "stream",
     "text": [
      "\r\n",
      "  8%|8         | 81/1000 [52:47<13:26:30, 52.66s/episodes]"
     ]
    },
    {
     "name": "stdout",
     "output_type": "stream",
     "text": [
      "-299.52525766857445\n",
      "episode 82\n"
     ]
    },
    {
     "name": "stderr",
     "output_type": "stream",
     "text": [
      "\r\n",
      "  8%|8         | 82/1000 [54:19<16:26:17, 64.46s/episodes]"
     ]
    },
    {
     "name": "stdout",
     "output_type": "stream",
     "text": [
      "-28.117502236307082\n",
      "episode 83\n"
     ]
    },
    {
     "name": "stderr",
     "output_type": "stream",
     "text": [
      "\r\n",
      "  8%|8         | 83/1000 [54:24<11:55:20, 46.81s/episodes]"
     ]
    },
    {
     "name": "stdout",
     "output_type": "stream",
     "text": [
      "-521.8030127624512\n",
      "episode 84\n"
     ]
    },
    {
     "name": "stderr",
     "output_type": "stream",
     "text": [
      "\r\n",
      "  8%|8         | 84/1000 [55:56<15:21:54, 60.39s/episodes]"
     ]
    },
    {
     "name": "stdout",
     "output_type": "stream",
     "text": [
      "-161.9949872478401\n",
      "episode 85\n"
     ]
    },
    {
     "name": "stderr",
     "output_type": "stream",
     "text": [
      "\r\n",
      "  8%|8         | 85/1000 [57:29<17:47:45, 70.02s/episodes]"
     ]
    },
    {
     "name": "stdout",
     "output_type": "stream",
     "text": [
      "-80.87362416618107\n",
      "episode 86\n"
     ]
    },
    {
     "name": "stderr",
     "output_type": "stream",
     "text": [
      "\r\n",
      "  9%|8         | 86/1000 [58:24<16:37:16, 65.47s/episodes]"
     ]
    },
    {
     "name": "stdout",
     "output_type": "stream",
     "text": [
      "-348.0381581479262\n",
      "episode 87\n"
     ]
    },
    {
     "name": "stderr",
     "output_type": "stream",
     "text": [
      "\r\n",
      "  9%|8         | 87/1000 [58:34<12:24:10, 48.91s/episodes]"
     ]
    },
    {
     "name": "stdout",
     "output_type": "stream",
     "text": [
      "-182.79143270466767\n",
      "episode 88\n"
     ]
    },
    {
     "name": "stderr",
     "output_type": "stream",
     "text": [
      "\r\n",
      "  9%|8         | 88/1000 [59:19<12:05:39, 47.74s/episodes]"
     ]
    },
    {
     "name": "stdout",
     "output_type": "stream",
     "text": [
      "-45.78426847309439\n",
      "episode 89\n"
     ]
    },
    {
     "name": "stderr",
     "output_type": "stream",
     "text": [
      "\r\n",
      "  9%|8         | 89/1000 [59:29<9:12:23, 36.38s/episodes] "
     ]
    },
    {
     "name": "stdout",
     "output_type": "stream",
     "text": [
      "-20.017364214300386\n",
      "episode 90\n"
     ]
    },
    {
     "name": "stderr",
     "output_type": "stream",
     "text": [
      "\r\n",
      "  9%|9         | 90/1000 [59:56<8:30:22, 33.65s/episodes]"
     ]
    },
    {
     "name": "stdout",
     "output_type": "stream",
     "text": [
      "-214.37156702613683\n",
      "episode 91\n"
     ]
    },
    {
     "name": "stderr",
     "output_type": "stream",
     "text": [
      "\r\n",
      "  9%|9         | 91/1000 [1:00:37<9:01:36, 35.75s/episodes]"
     ]
    },
    {
     "name": "stdout",
     "output_type": "stream",
     "text": [
      "-191.24307280228595\n",
      "episode 92\n"
     ]
    },
    {
     "name": "stderr",
     "output_type": "stream",
     "text": [
      "\r\n",
      "  9%|9         | 92/1000 [1:00:48<7:09:54, 28.41s/episodes]"
     ]
    },
    {
     "name": "stdout",
     "output_type": "stream",
     "text": [
      "-106.92525849968678\n",
      "episode 93\n"
     ]
    },
    {
     "name": "stderr",
     "output_type": "stream",
     "text": [
      "\r\n",
      "  9%|9         | 93/1000 [1:01:42<9:04:18, 36.01s/episodes]"
     ]
    },
    {
     "name": "stdout",
     "output_type": "stream",
     "text": [
      "-233.9731313962517\n",
      "episode 94\n"
     ]
    },
    {
     "name": "stderr",
     "output_type": "stream",
     "text": [
      "\r\n",
      "  9%|9         | 94/1000 [1:02:00<7:40:41, 30.51s/episodes]"
     ]
    },
    {
     "name": "stdout",
     "output_type": "stream",
     "text": [
      "-88.19812997332605\n",
      "episode 95\n"
     ]
    },
    {
     "name": "stderr",
     "output_type": "stream",
     "text": [
      "\r\n",
      " 10%|9         | 95/1000 [1:02:21<6:57:46, 27.70s/episodes]"
     ]
    },
    {
     "name": "stdout",
     "output_type": "stream",
     "text": [
      "-114.94418274423326\n",
      "episode 96\n"
     ]
    },
    {
     "name": "stderr",
     "output_type": "stream",
     "text": [
      "\r\n",
      " 10%|9         | 96/1000 [1:03:52<11:45:48, 46.85s/episodes]"
     ]
    },
    {
     "name": "stdout",
     "output_type": "stream",
     "text": [
      "-67.87597440864732\n",
      "episode 97\n"
     ]
    },
    {
     "name": "stderr",
     "output_type": "stream",
     "text": [
      "\r\n",
      " 10%|9         | 97/1000 [1:04:38<11:42:10, 46.66s/episodes]"
     ]
    },
    {
     "name": "stdout",
     "output_type": "stream",
     "text": [
      "-323.63105878756903\n",
      "episode 98\n"
     ]
    },
    {
     "name": "stderr",
     "output_type": "stream",
     "text": [
      "\r\n",
      " 10%|9         | 98/1000 [1:04:57<9:33:18, 38.14s/episodes] "
     ]
    },
    {
     "name": "stdout",
     "output_type": "stream",
     "text": [
      "-43.198462219913964\n",
      "episode 99\n"
     ]
    },
    {
     "name": "stderr",
     "output_type": "stream",
     "text": [
      "\r\n",
      " 10%|9         | 99/1000 [1:05:15<8:03:11, 32.18s/episodes]"
     ]
    },
    {
     "name": "stdout",
     "output_type": "stream",
     "text": [
      "-204.72372571043903\n",
      "episode 100\n"
     ]
    },
    {
     "name": "stderr",
     "output_type": "stream",
     "text": [
      "\r\n",
      " 10%|#         | 100/1000 [1:05:29<6:40:40, 26.71s/episodes]"
     ]
    },
    {
     "name": "stdout",
     "output_type": "stream",
     "text": [
      "-318.1946702881878\n",
      "episode 101\n"
     ]
    },
    {
     "name": "stderr",
     "output_type": "stream",
     "text": [
      "\r\n",
      " 10%|#         | 101/1000 [1:05:38<5:20:04, 21.36s/episodes]"
     ]
    },
    {
     "name": "stdout",
     "output_type": "stream",
     "text": [
      "-279.95912326000064\n",
      "episode 102\n"
     ]
    },
    {
     "name": "stderr",
     "output_type": "stream",
     "text": [
      "\r\n",
      " 10%|#         | 102/1000 [1:05:57<5:09:22, 20.67s/episodes]"
     ]
    },
    {
     "name": "stdout",
     "output_type": "stream",
     "text": [
      "0.55313486947081\n",
      "episode 103\n"
     ]
    },
    {
     "name": "stderr",
     "output_type": "stream",
     "text": [
      "\r\n",
      " 10%|#         | 103/1000 [1:06:10<4:35:59, 18.46s/episodes]"
     ]
    },
    {
     "name": "stdout",
     "output_type": "stream",
     "text": [
      "-133.30552821227684\n",
      "episode 104\n"
     ]
    },
    {
     "name": "stderr",
     "output_type": "stream",
     "text": [
      "\r\n",
      " 10%|#         | 104/1000 [1:06:31<4:44:43, 19.07s/episodes]"
     ]
    },
    {
     "name": "stdout",
     "output_type": "stream",
     "text": [
      "-19.15202394836561\n",
      "episode 105\n"
     ]
    },
    {
     "name": "stderr",
     "output_type": "stream",
     "text": [
      "\r\n",
      " 10%|#         | 105/1000 [1:07:00<5:28:59, 22.06s/episodes]"
     ]
    },
    {
     "name": "stdout",
     "output_type": "stream",
     "text": [
      "-95.71356074717086\n",
      "episode 106\n"
     ]
    },
    {
     "name": "stderr",
     "output_type": "stream",
     "text": [
      "\r\n",
      " 11%|#         | 106/1000 [1:07:54<7:52:58, 31.74s/episodes]"
     ]
    },
    {
     "name": "stdout",
     "output_type": "stream",
     "text": [
      "-129.37748991910897\n",
      "episode 107\n"
     ]
    },
    {
     "name": "stderr",
     "output_type": "stream",
     "text": [
      "\r\n",
      " 11%|#         | 107/1000 [1:08:44<9:14:54, 37.28s/episodes]"
     ]
    },
    {
     "name": "stdout",
     "output_type": "stream",
     "text": [
      "-319.00862652440935\n",
      "episode 108\n"
     ]
    },
    {
     "name": "stderr",
     "output_type": "stream",
     "text": [
      "\r\n",
      " 11%|#         | 108/1000 [1:10:17<13:23:16, 54.03s/episodes]"
     ]
    },
    {
     "name": "stdout",
     "output_type": "stream",
     "text": [
      "59.49947086595936\n",
      "episode 109\n"
     ]
    },
    {
     "name": "stderr",
     "output_type": "stream",
     "text": [
      "\r\n",
      " 11%|#         | 109/1000 [1:11:07<13:01:31, 52.63s/episodes]"
     ]
    },
    {
     "name": "stdout",
     "output_type": "stream",
     "text": [
      "-252.36792169826066\n",
      "episode 110\n"
     ]
    },
    {
     "name": "stderr",
     "output_type": "stream",
     "text": [
      "\r\n",
      " 11%|#1        | 110/1000 [1:11:30<10:50:47, 43.87s/episodes]"
     ]
    },
    {
     "name": "stdout",
     "output_type": "stream",
     "text": [
      "-371.15720840407994\n",
      "episode 111\n"
     ]
    },
    {
     "name": "stderr",
     "output_type": "stream",
     "text": [
      "\r\n",
      " 11%|#1        | 111/1000 [1:12:03<9:59:21, 40.45s/episodes] "
     ]
    },
    {
     "name": "stdout",
     "output_type": "stream",
     "text": [
      "-50.575742470133726\n",
      "episode 112\n"
     ]
    },
    {
     "name": "stderr",
     "output_type": "stream",
     "text": [
      "\r\n",
      " 11%|#1        | 112/1000 [1:12:40<9:43:19, 39.41s/episodes]"
     ]
    },
    {
     "name": "stdout",
     "output_type": "stream",
     "text": [
      "270.03084953198413\n",
      "episode 113\n"
     ]
    },
    {
     "name": "stderr",
     "output_type": "stream",
     "text": [
      "\r\n",
      " 11%|#1        | 113/1000 [1:13:56<12:25:29, 50.43s/episodes]"
     ]
    },
    {
     "name": "stdout",
     "output_type": "stream",
     "text": [
      "155.39473985789272\n",
      "episode 114\n"
     ]
    },
    {
     "name": "stderr",
     "output_type": "stream",
     "text": [
      "\r\n",
      " 11%|#1        | 114/1000 [1:15:27<15:23:54, 62.57s/episodes]"
     ]
    },
    {
     "name": "stdout",
     "output_type": "stream",
     "text": [
      "-56.64735519041865\n",
      "episode 115\n"
     ]
    },
    {
     "name": "stderr",
     "output_type": "stream",
     "text": [
      "\r\n",
      " 12%|#1        | 115/1000 [1:16:58<17:28:41, 71.10s/episodes]"
     ]
    },
    {
     "name": "stdout",
     "output_type": "stream",
     "text": [
      "-6.110216419398501\n",
      "episode 116\n"
     ]
    },
    {
     "name": "stderr",
     "output_type": "stream",
     "text": [
      "\r\n",
      " 12%|#1        | 116/1000 [1:18:28<18:52:28, 76.87s/episodes]"
     ]
    },
    {
     "name": "stdout",
     "output_type": "stream",
     "text": [
      "-7.077990192654021\n",
      "episode 117\n"
     ]
    },
    {
     "name": "stderr",
     "output_type": "stream",
     "text": [
      "\r\n",
      " 12%|#1        | 117/1000 [1:19:58<19:47:45, 80.71s/episodes]"
     ]
    },
    {
     "name": "stdout",
     "output_type": "stream",
     "text": [
      "-112.89840869816761\n",
      "episode 118\n"
     ]
    },
    {
     "name": "stderr",
     "output_type": "stream",
     "text": [
      "\r\n",
      " 12%|#1        | 118/1000 [1:21:29<20:31:53, 83.80s/episodes]"
     ]
    },
    {
     "name": "stdout",
     "output_type": "stream",
     "text": [
      "-92.97302626169038\n",
      "episode 119\n"
     ]
    },
    {
     "name": "stderr",
     "output_type": "stream",
     "text": [
      "\r\n",
      " 12%|#1        | 119/1000 [1:22:59<20:57:23, 85.63s/episodes]"
     ]
    },
    {
     "name": "stdout",
     "output_type": "stream",
     "text": [
      "-96.88694704038157\n",
      "episode 120\n"
     ]
    },
    {
     "name": "stderr",
     "output_type": "stream",
     "text": [
      "\r\n",
      " 12%|#2        | 120/1000 [1:24:28<21:12:32, 86.76s/episodes]"
     ]
    },
    {
     "name": "stdout",
     "output_type": "stream",
     "text": [
      "-58.27077569466582\n",
      "episode 121\n"
     ]
    },
    {
     "name": "stderr",
     "output_type": "stream",
     "text": [
      "\r\n",
      " 12%|#2        | 121/1000 [1:25:49<20:47:04, 85.12s/episodes]"
     ]
    },
    {
     "name": "stdout",
     "output_type": "stream",
     "text": [
      "-104.20062284610698\n",
      "episode 122\n"
     ]
    },
    {
     "name": "stderr",
     "output_type": "stream",
     "text": [
      "\r\n",
      " 12%|#2        | 122/1000 [1:27:20<21:09:41, 86.77s/episodes]"
     ]
    },
    {
     "name": "stdout",
     "output_type": "stream",
     "text": [
      "-35.37246247153844\n",
      "episode 123\n"
     ]
    },
    {
     "name": "stderr",
     "output_type": "stream",
     "text": [
      "\r\n",
      " 12%|#2        | 123/1000 [1:28:51<21:27:29, 88.08s/episodes]"
     ]
    },
    {
     "name": "stdout",
     "output_type": "stream",
     "text": [
      "-111.26534041764064\n",
      "episode 124\n"
     ]
    },
    {
     "name": "stderr",
     "output_type": "stream",
     "text": [
      "\r\n",
      " 12%|#2        | 124/1000 [1:29:28<17:42:56, 72.80s/episodes]"
     ]
    },
    {
     "name": "stdout",
     "output_type": "stream",
     "text": [
      "-289.21603726953026\n",
      "episode 125\n"
     ]
    },
    {
     "name": "stderr",
     "output_type": "stream",
     "text": [
      "\r\n",
      " 12%|#2        | 125/1000 [1:29:38<13:05:05, 53.84s/episodes]"
     ]
    },
    {
     "name": "stdout",
     "output_type": "stream",
     "text": [
      "-57.807979573640395\n",
      "episode 126\n"
     ]
    },
    {
     "name": "stderr",
     "output_type": "stream",
     "text": [
      "\r\n",
      " 13%|#2        | 126/1000 [1:30:34<13:12:45, 54.42s/episodes]"
     ]
    },
    {
     "name": "stdout",
     "output_type": "stream",
     "text": [
      "199.46223352410885\n",
      "episode 127\n"
     ]
    },
    {
     "name": "stderr",
     "output_type": "stream",
     "text": [
      "\r\n",
      " 13%|#2        | 127/1000 [1:30:44<9:58:02, 41.10s/episodes] "
     ]
    },
    {
     "name": "stdout",
     "output_type": "stream",
     "text": [
      "-87.04597843921579\n",
      "episode 128\n"
     ]
    },
    {
     "name": "stderr",
     "output_type": "stream",
     "text": [
      "\r\n",
      " 13%|#2        | 128/1000 [1:32:14<13:31:58, 55.87s/episodes]"
     ]
    },
    {
     "name": "stdout",
     "output_type": "stream",
     "text": [
      "48.03819928790652\n",
      "episode 129\n"
     ]
    },
    {
     "name": "stderr",
     "output_type": "stream",
     "text": [
      "\r\n",
      " 13%|#2        | 129/1000 [1:33:26<14:42:52, 60.82s/episodes]"
     ]
    },
    {
     "name": "stdout",
     "output_type": "stream",
     "text": [
      "-277.0549576835084\n",
      "episode 130\n"
     ]
    },
    {
     "name": "stderr",
     "output_type": "stream",
     "text": [
      "\r\n",
      " 13%|#3        | 130/1000 [1:33:50<12:01:40, 49.77s/episodes]"
     ]
    },
    {
     "name": "stdout",
     "output_type": "stream",
     "text": [
      "276.39738958991916\n",
      "episode 131\n"
     ]
    },
    {
     "name": "stderr",
     "output_type": "stream",
     "text": [
      "\r\n",
      " 13%|#3        | 131/1000 [1:35:20<14:54:14, 61.74s/episodes]"
     ]
    },
    {
     "name": "stdout",
     "output_type": "stream",
     "text": [
      "-65.649153949168\n",
      "episode 132\n"
     ]
    },
    {
     "name": "stderr",
     "output_type": "stream",
     "text": [
      "\r\n",
      " 13%|#3        | 132/1000 [1:36:02<13:26:25, 55.74s/episodes]"
     ]
    },
    {
     "name": "stdout",
     "output_type": "stream",
     "text": [
      "-360.9121045710149\n",
      "episode 133\n"
     ]
    },
    {
     "name": "stderr",
     "output_type": "stream",
     "text": [
      "\r\n",
      " 13%|#3        | 133/1000 [1:36:39<12:05:02, 50.18s/episodes]"
     ]
    },
    {
     "name": "stdout",
     "output_type": "stream",
     "text": [
      "-140.84804035859216\n",
      "episode 134\n"
     ]
    },
    {
     "name": "stderr",
     "output_type": "stream",
     "text": [
      "\r\n",
      " 13%|#3        | 134/1000 [1:37:48<13:27:33, 55.95s/episodes]"
     ]
    },
    {
     "name": "stdout",
     "output_type": "stream",
     "text": [
      "-246.50934426285875\n",
      "episode 135\n"
     ]
    },
    {
     "name": "stderr",
     "output_type": "stream",
     "text": [
      "\r\n",
      " 14%|#3        | 135/1000 [1:38:26<12:09:35, 50.61s/episodes]"
     ]
    },
    {
     "name": "stdout",
     "output_type": "stream",
     "text": [
      "251.05930865488065\n",
      "episode 136\n"
     ]
    },
    {
     "name": "stderr",
     "output_type": "stream",
     "text": [
      "\r\n",
      " 14%|#3        | 136/1000 [1:39:56<14:57:33, 62.33s/episodes]"
     ]
    },
    {
     "name": "stdout",
     "output_type": "stream",
     "text": [
      "77.47668563049118\n",
      "episode 137\n"
     ]
    },
    {
     "name": "stderr",
     "output_type": "stream",
     "text": [
      "\r\n",
      " 14%|#3        | 137/1000 [1:41:27<16:57:44, 70.76s/episodes]"
     ]
    },
    {
     "name": "stdout",
     "output_type": "stream",
     "text": [
      "-49.0134945394546\n",
      "episode 138\n"
     ]
    },
    {
     "name": "stderr",
     "output_type": "stream",
     "text": [
      "\r\n",
      " 14%|#3        | 138/1000 [1:41:59<14:09:57, 59.16s/episodes]"
     ]
    },
    {
     "name": "stdout",
     "output_type": "stream",
     "text": [
      "-181.45590438594098\n",
      "episode 139\n"
     ]
    },
    {
     "name": "stderr",
     "output_type": "stream",
     "text": [
      "\r\n",
      " 14%|#3        | 139/1000 [1:42:05<10:22:06, 43.35s/episodes]"
     ]
    },
    {
     "name": "stdout",
     "output_type": "stream",
     "text": [
      "-38.76207586796597\n",
      "episode 140\n"
     ]
    },
    {
     "name": "stderr",
     "output_type": "stream",
     "text": [
      "\r\n",
      " 14%|#4        | 140/1000 [1:42:13<7:50:50, 32.85s/episodes] "
     ]
    },
    {
     "name": "stdout",
     "output_type": "stream",
     "text": [
      "-70.44251799695243\n",
      "episode 141\n"
     ]
    },
    {
     "name": "stderr",
     "output_type": "stream",
     "text": [
      "\r\n",
      " 14%|#4        | 141/1000 [1:43:26<10:41:33, 44.81s/episodes]"
     ]
    },
    {
     "name": "stdout",
     "output_type": "stream",
     "text": [
      "212.081029845701\n",
      "episode 142\n"
     ]
    },
    {
     "name": "stderr",
     "output_type": "stream",
     "text": [
      "\r\n",
      " 14%|#4        | 142/1000 [1:43:54<9:26:02, 39.58s/episodes] "
     ]
    },
    {
     "name": "stdout",
     "output_type": "stream",
     "text": [
      "21.011480863454636\n",
      "episode 143\n"
     ]
    },
    {
     "name": "stderr",
     "output_type": "stream",
     "text": [
      "\r\n",
      " 14%|#4        | 143/1000 [1:44:39<9:51:25, 41.41s/episodes]"
     ]
    },
    {
     "name": "stdout",
     "output_type": "stream",
     "text": [
      "260.7827654445231\n",
      "episode 144\n"
     ]
    },
    {
     "name": "stderr",
     "output_type": "stream",
     "text": [
      "\r\n",
      " 14%|#4        | 144/1000 [1:44:53<7:52:08, 33.09s/episodes]"
     ]
    },
    {
     "name": "stdout",
     "output_type": "stream",
     "text": [
      "4.669544603400965\n",
      "episode 145\n"
     ]
    },
    {
     "name": "stderr",
     "output_type": "stream",
     "text": [
      "\r\n",
      " 14%|#4        | 145/1000 [1:45:15<7:05:29, 29.86s/episodes]"
     ]
    },
    {
     "name": "stdout",
     "output_type": "stream",
     "text": [
      "48.575353360092265\n",
      "episode 146\n"
     ]
    },
    {
     "name": "stderr",
     "output_type": "stream",
     "text": [
      "\r\n",
      " 15%|#4        | 146/1000 [1:46:06<8:35:53, 36.25s/episodes]"
     ]
    },
    {
     "name": "stdout",
     "output_type": "stream",
     "text": [
      "167.48869887903186\n",
      "episode 147\n"
     ]
    },
    {
     "name": "stderr",
     "output_type": "stream",
     "text": [
      "\r\n",
      " 15%|#4        | 147/1000 [1:46:32<7:51:49, 33.19s/episodes]"
     ]
    },
    {
     "name": "stdout",
     "output_type": "stream",
     "text": [
      "260.4073720656934\n",
      "episode 148\n"
     ]
    },
    {
     "name": "stderr",
     "output_type": "stream",
     "text": [
      "\r\n",
      " 15%|#4        | 148/1000 [1:46:48<6:37:04, 27.96s/episodes]"
     ]
    },
    {
     "name": "stdout",
     "output_type": "stream",
     "text": [
      "-64.78563524447335\n",
      "episode 149\n"
     ]
    },
    {
     "name": "stderr",
     "output_type": "stream",
     "text": [
      "\r\n",
      " 15%|#4        | 149/1000 [1:47:30<7:37:33, 32.26s/episodes]"
     ]
    },
    {
     "name": "stdout",
     "output_type": "stream",
     "text": [
      "293.1352140109244\n",
      "episode 150\n"
     ]
    },
    {
     "name": "stderr",
     "output_type": "stream",
     "text": [
      "\r\n",
      " 15%|#5        | 150/1000 [1:47:51<6:47:46, 28.78s/episodes]"
     ]
    },
    {
     "name": "stdout",
     "output_type": "stream",
     "text": [
      "288.3809549351886\n",
      "episode 151\n"
     ]
    },
    {
     "name": "stderr",
     "output_type": "stream",
     "text": [
      "\r\n",
      " 15%|#5        | 151/1000 [1:48:09<6:00:48, 25.50s/episodes]"
     ]
    },
    {
     "name": "stdout",
     "output_type": "stream",
     "text": [
      "87.45901910526993\n",
      "episode 152\n"
     ]
    },
    {
     "name": "stderr",
     "output_type": "stream",
     "text": [
      "\r\n",
      " 15%|#5        | 152/1000 [1:48:26<5:25:21, 23.02s/episodes]"
     ]
    },
    {
     "name": "stdout",
     "output_type": "stream",
     "text": [
      "12.394229461120773\n",
      "episode 153\n"
     ]
    },
    {
     "name": "stderr",
     "output_type": "stream",
     "text": [
      "\r\n",
      " 15%|#5        | 153/1000 [1:48:53<5:42:38, 24.27s/episodes]"
     ]
    },
    {
     "name": "stdout",
     "output_type": "stream",
     "text": [
      "242.95263049923102\n",
      "episode 154\n"
     ]
    },
    {
     "name": "stderr",
     "output_type": "stream",
     "text": [
      "\r\n",
      " 15%|#5        | 154/1000 [1:49:22<5:58:43, 25.44s/episodes]"
     ]
    },
    {
     "name": "stdout",
     "output_type": "stream",
     "text": [
      "210.00769124405792\n",
      "episode 155\n"
     ]
    },
    {
     "name": "stderr",
     "output_type": "stream",
     "text": [
      "\r\n",
      " 16%|#5        | 155/1000 [1:49:50<6:11:31, 26.38s/episodes]"
     ]
    },
    {
     "name": "stdout",
     "output_type": "stream",
     "text": [
      "-196.22287730666585\n",
      "episode 156\n"
     ]
    },
    {
     "name": "stderr",
     "output_type": "stream",
     "text": [
      "\r\n",
      " 16%|#5        | 156/1000 [1:51:15<10:17:09, 43.87s/episodes]"
     ]
    },
    {
     "name": "stdout",
     "output_type": "stream",
     "text": [
      "201.94371215236254\n",
      "episode 157\n"
     ]
    },
    {
     "name": "stderr",
     "output_type": "stream",
     "text": [
      "\r\n",
      " 16%|#5        | 157/1000 [1:51:34<8:32:26, 36.47s/episodes] "
     ]
    },
    {
     "name": "stdout",
     "output_type": "stream",
     "text": [
      "222.80613871394797\n",
      "episode 158\n"
     ]
    },
    {
     "name": "stderr",
     "output_type": "stream",
     "text": [
      "\r\n",
      " 16%|#5        | 158/1000 [1:51:54<7:24:19, 31.66s/episodes]"
     ]
    },
    {
     "name": "stdout",
     "output_type": "stream",
     "text": [
      "261.30606105401193\n",
      "episode 159\n"
     ]
    },
    {
     "name": "stderr",
     "output_type": "stream",
     "text": [
      "\r\n",
      " 16%|#5        | 159/1000 [1:52:26<7:22:50, 31.59s/episodes]"
     ]
    },
    {
     "name": "stdout",
     "output_type": "stream",
     "text": [
      "228.48563305779973\n",
      "episode 160\n"
     ]
    },
    {
     "name": "stderr",
     "output_type": "stream",
     "text": [
      "\r\n",
      " 16%|#6        | 160/1000 [1:53:24<9:13:35, 39.54s/episodes]"
     ]
    },
    {
     "name": "stdout",
     "output_type": "stream",
     "text": [
      "159.99725900342878\n",
      "episode 161\n"
     ]
    },
    {
     "name": "stderr",
     "output_type": "stream",
     "text": [
      "\r\n",
      " 16%|#6        | 161/1000 [1:53:55<8:36:24, 36.93s/episodes]"
     ]
    },
    {
     "name": "stdout",
     "output_type": "stream",
     "text": [
      "284.55642362458923\n",
      "episode 162\n"
     ]
    },
    {
     "name": "stderr",
     "output_type": "stream",
     "text": [
      "\r\n",
      " 16%|#6        | 162/1000 [1:54:24<8:03:48, 34.64s/episodes]"
     ]
    },
    {
     "name": "stdout",
     "output_type": "stream",
     "text": [
      "234.18089479122526\n",
      "episode 163\n"
     ]
    },
    {
     "name": "stderr",
     "output_type": "stream",
     "text": [
      "\r\n",
      " 16%|#6        | 163/1000 [1:54:34<6:18:42, 27.15s/episodes]"
     ]
    },
    {
     "name": "stdout",
     "output_type": "stream",
     "text": [
      "-2.8986240776245893\n",
      "episode 164\n"
     ]
    },
    {
     "name": "stderr",
     "output_type": "stream",
     "text": [
      "\r\n",
      " 16%|#6        | 164/1000 [1:54:52<5:39:33, 24.37s/episodes]"
     ]
    },
    {
     "name": "stdout",
     "output_type": "stream",
     "text": [
      "282.8946264513986\n",
      "episode 165\n"
     ]
    },
    {
     "name": "stderr",
     "output_type": "stream",
     "text": [
      "\r\n",
      " 16%|#6        | 165/1000 [1:55:21<5:58:40, 25.77s/episodes]"
     ]
    },
    {
     "name": "stdout",
     "output_type": "stream",
     "text": [
      "274.68500407980605\n",
      "episode 166\n"
     ]
    },
    {
     "name": "stderr",
     "output_type": "stream",
     "text": [
      "\r\n",
      " 17%|#6        | 166/1000 [1:55:58<6:45:54, 29.20s/episodes]"
     ]
    },
    {
     "name": "stdout",
     "output_type": "stream",
     "text": [
      "257.6028637115876\n",
      "episode 167\n"
     ]
    },
    {
     "name": "stderr",
     "output_type": "stream",
     "text": [
      "\r\n",
      " 17%|#6        | 167/1000 [1:56:35<7:18:15, 31.57s/episodes]"
     ]
    },
    {
     "name": "stdout",
     "output_type": "stream",
     "text": [
      "261.44766590590393\n",
      "episode 168\n"
     ]
    },
    {
     "name": "stderr",
     "output_type": "stream",
     "text": [
      "\r\n",
      " 17%|#6        | 168/1000 [1:56:49<6:04:53, 26.31s/episodes]"
     ]
    },
    {
     "name": "stdout",
     "output_type": "stream",
     "text": [
      "41.08042705074723\n",
      "episode 169\n"
     ]
    },
    {
     "name": "stderr",
     "output_type": "stream",
     "text": [
      "\r\n",
      " 17%|#6        | 169/1000 [1:58:19<10:28:38, 45.39s/episodes]"
     ]
    },
    {
     "name": "stdout",
     "output_type": "stream",
     "text": [
      "-3.282265647975608\n",
      "episode 170\n"
     ]
    },
    {
     "name": "stderr",
     "output_type": "stream",
     "text": [
      "\r\n",
      " 17%|#7        | 170/1000 [1:59:50<13:38:04, 59.14s/episodes]"
     ]
    },
    {
     "name": "stdout",
     "output_type": "stream",
     "text": [
      "-1.7181273535978683\n",
      "episode 171\n"
     ]
    },
    {
     "name": "stderr",
     "output_type": "stream",
     "text": [
      "\r\n",
      " 17%|#7        | 171/1000 [2:01:03<14:32:50, 63.17s/episodes]"
     ]
    },
    {
     "name": "stdout",
     "output_type": "stream",
     "text": [
      "146.52632161096838\n",
      "episode 172\n"
     ]
    },
    {
     "name": "stderr",
     "output_type": "stream",
     "text": [
      "\r\n",
      " 17%|#7        | 172/1000 [2:01:51<13:31:05, 58.78s/episodes]"
     ]
    },
    {
     "name": "stdout",
     "output_type": "stream",
     "text": [
      "215.48132319854443\n",
      "episode 173\n"
     ]
    },
    {
     "name": "stderr",
     "output_type": "stream",
     "text": [
      "\r\n",
      " 17%|#7        | 173/1000 [2:02:21<11:28:30, 49.95s/episodes]"
     ]
    },
    {
     "name": "stdout",
     "output_type": "stream",
     "text": [
      "258.1036582311167\n",
      "episode 174\n"
     ]
    },
    {
     "name": "stderr",
     "output_type": "stream",
     "text": [
      "\r\n",
      " 17%|#7        | 174/1000 [2:03:06<11:07:50, 48.51s/episodes]"
     ]
    },
    {
     "name": "stdout",
     "output_type": "stream",
     "text": [
      "-150.4528560477954\n",
      "episode 175\n"
     ]
    },
    {
     "name": "stderr",
     "output_type": "stream",
     "text": [
      "\r\n",
      " 18%|#7        | 175/1000 [2:04:36<13:59:21, 61.04s/episodes]"
     ]
    },
    {
     "name": "stdout",
     "output_type": "stream",
     "text": [
      "-30.35715046124187\n",
      "episode 176\n"
     ]
    },
    {
     "name": "stderr",
     "output_type": "stream",
     "text": [
      "\r\n",
      " 18%|#7        | 176/1000 [2:05:39<14:06:05, 61.61s/episodes]"
     ]
    },
    {
     "name": "stdout",
     "output_type": "stream",
     "text": [
      "303.56278196424256\n",
      "episode 177\n"
     ]
    },
    {
     "name": "stderr",
     "output_type": "stream",
     "text": [
      "\r\n",
      " 18%|#7        | 177/1000 [2:06:04<11:33:17, 50.54s/episodes]"
     ]
    },
    {
     "name": "stdout",
     "output_type": "stream",
     "text": [
      "274.6821367575268\n",
      "episode 178\n"
     ]
    },
    {
     "name": "stderr",
     "output_type": "stream",
     "text": [
      "\r\n",
      " 18%|#7        | 178/1000 [2:06:48<11:04:55, 48.53s/episodes]"
     ]
    },
    {
     "name": "stdout",
     "output_type": "stream",
     "text": [
      "136.68532690450786\n",
      "episode 179\n"
     ]
    },
    {
     "name": "stderr",
     "output_type": "stream",
     "text": [
      "\r\n",
      " 18%|#7        | 179/1000 [2:07:18<9:48:23, 43.00s/episodes] "
     ]
    },
    {
     "name": "stdout",
     "output_type": "stream",
     "text": [
      "256.43638632020713\n",
      "episode 180\n"
     ]
    },
    {
     "name": "stderr",
     "output_type": "stream",
     "text": [
      "\r\n",
      " 18%|#8        | 180/1000 [2:07:49<8:59:02, 39.44s/episodes]"
     ]
    },
    {
     "name": "stdout",
     "output_type": "stream",
     "text": [
      "246.86948255628195\n",
      "episode 181\n"
     ]
    },
    {
     "name": "stderr",
     "output_type": "stream",
     "text": [
      "\r\n",
      " 18%|#8        | 181/1000 [2:07:58<6:52:37, 30.23s/episodes]"
     ]
    },
    {
     "name": "stdout",
     "output_type": "stream",
     "text": [
      "35.4244547585281\n",
      "episode 182\n"
     ]
    },
    {
     "name": "stderr",
     "output_type": "stream",
     "text": [
      "\r\n",
      " 18%|#8        | 182/1000 [2:08:05<5:19:31, 23.44s/episodes]"
     ]
    },
    {
     "name": "stdout",
     "output_type": "stream",
     "text": [
      "2.711380809270409\n",
      "episode 183\n"
     ]
    },
    {
     "name": "stderr",
     "output_type": "stream",
     "text": [
      "\r\n",
      " 18%|#8        | 183/1000 [2:08:35<5:45:53, 25.40s/episodes]"
     ]
    },
    {
     "name": "stdout",
     "output_type": "stream",
     "text": [
      "209.18580747905227\n",
      "episode 184\n"
     ]
    },
    {
     "name": "stderr",
     "output_type": "stream",
     "text": [
      "\r\n",
      " 18%|#8        | 184/1000 [2:08:40<4:22:26, 19.30s/episodes]"
     ]
    },
    {
     "name": "stdout",
     "output_type": "stream",
     "text": [
      "-11.813819804266885\n",
      "episode 185\n"
     ]
    },
    {
     "name": "stderr",
     "output_type": "stream",
     "text": [
      "\r\n",
      " 18%|#8        | 185/1000 [2:09:27<6:14:04, 27.54s/episodes]"
     ]
    },
    {
     "name": "stdout",
     "output_type": "stream",
     "text": [
      "187.03079782707997\n",
      "episode 186\n"
     ]
    },
    {
     "name": "stderr",
     "output_type": "stream",
     "text": [
      "\r\n",
      " 19%|#8        | 186/1000 [2:09:56<6:18:28, 27.90s/episodes]"
     ]
    },
    {
     "name": "stdout",
     "output_type": "stream",
     "text": [
      "168.1405852270534\n",
      "episode 187\n"
     ]
    },
    {
     "name": "stderr",
     "output_type": "stream",
     "text": [
      "\r\n",
      " 19%|#8        | 187/1000 [2:10:15<5:43:38, 25.36s/episodes]"
     ]
    },
    {
     "name": "stdout",
     "output_type": "stream",
     "text": [
      "234.7788686879391\n",
      "episode 188\n"
     ]
    },
    {
     "name": "stderr",
     "output_type": "stream",
     "text": [
      "\r\n",
      " 19%|#8        | 188/1000 [2:10:44<5:56:03, 26.31s/episodes]"
     ]
    },
    {
     "name": "stdout",
     "output_type": "stream",
     "text": [
      "-51.15618365052344\n",
      "episode 189\n"
     ]
    },
    {
     "name": "stderr",
     "output_type": "stream",
     "text": [
      "\r\n",
      " 19%|#8        | 189/1000 [2:10:58<5:08:34, 22.83s/episodes]"
     ]
    },
    {
     "name": "stdout",
     "output_type": "stream",
     "text": [
      "295.93975281476486\n",
      "episode 190\n"
     ]
    },
    {
     "name": "stderr",
     "output_type": "stream",
     "text": [
      "\r\n",
      " 19%|#9        | 190/1000 [2:11:26<5:29:26, 24.40s/episodes]"
     ]
    },
    {
     "name": "stdout",
     "output_type": "stream",
     "text": [
      "-123.24589607283349\n",
      "episode 191\n"
     ]
    },
    {
     "name": "stderr",
     "output_type": "stream",
     "text": [
      "\r\n",
      " 19%|#9        | 191/1000 [2:11:50<5:26:19, 24.20s/episodes]"
     ]
    },
    {
     "name": "stdout",
     "output_type": "stream",
     "text": [
      "253.47952379634646\n",
      "episode 192\n"
     ]
    },
    {
     "name": "stderr",
     "output_type": "stream",
     "text": [
      "\r\n",
      " 19%|#9        | 192/1000 [2:12:19<5:44:26, 25.58s/episodes]"
     ]
    },
    {
     "name": "stdout",
     "output_type": "stream",
     "text": [
      "239.59790174322745\n",
      "episode 193\n"
     ]
    },
    {
     "name": "stderr",
     "output_type": "stream",
     "text": [
      "\r\n",
      " 19%|#9        | 193/1000 [2:13:02<6:53:41, 30.76s/episodes]"
     ]
    },
    {
     "name": "stdout",
     "output_type": "stream",
     "text": [
      "283.2308438899797\n",
      "episode 194\n"
     ]
    },
    {
     "name": "stderr",
     "output_type": "stream",
     "text": [
      "\r\n",
      " 19%|#9        | 194/1000 [2:13:25<6:21:12, 28.38s/episodes]"
     ]
    },
    {
     "name": "stdout",
     "output_type": "stream",
     "text": [
      "255.48013642373357\n",
      "episode 195\n"
     ]
    },
    {
     "name": "stderr",
     "output_type": "stream",
     "text": [
      "\r\n",
      " 20%|#9        | 195/1000 [2:13:42<5:34:32, 24.94s/episodes]"
     ]
    },
    {
     "name": "stdout",
     "output_type": "stream",
     "text": [
      "314.09220632796377\n",
      "episode 196\n"
     ]
    },
    {
     "name": "stderr",
     "output_type": "stream",
     "text": [
      "\r\n",
      " 20%|#9        | 196/1000 [2:13:56<4:52:20, 21.82s/episodes]"
     ]
    },
    {
     "name": "stdout",
     "output_type": "stream",
     "text": [
      "282.30350556348543\n",
      "episode 197\n"
     ]
    },
    {
     "name": "stderr",
     "output_type": "stream",
     "text": [
      "\r\n",
      " 20%|#9        | 197/1000 [2:14:17<4:46:44, 21.43s/episodes]"
     ]
    },
    {
     "name": "stdout",
     "output_type": "stream",
     "text": [
      "283.2324435289578\n",
      "episode 198\n"
     ]
    },
    {
     "name": "stderr",
     "output_type": "stream",
     "text": [
      "\r\n",
      " 20%|#9        | 198/1000 [2:14:35<4:34:08, 20.51s/episodes]"
     ]
    },
    {
     "name": "stdout",
     "output_type": "stream",
     "text": [
      "282.8979816144378\n",
      "episode 199\n"
     ]
    },
    {
     "name": "stderr",
     "output_type": "stream",
     "text": [
      "\r\n",
      " 20%|#9        | 199/1000 [2:14:52<4:19:01, 19.40s/episodes]"
     ]
    },
    {
     "name": "stdout",
     "output_type": "stream",
     "text": [
      "322.0235158778646\n",
      "episode 200\n"
     ]
    },
    {
     "name": "stderr",
     "output_type": "stream",
     "text": [
      "\r\n",
      " 20%|##        | 200/1000 [2:15:10<4:15:58, 19.20s/episodes]"
     ]
    },
    {
     "name": "stdout",
     "output_type": "stream",
     "text": [
      "255.23991416533298\n",
      "episode 201\n"
     ]
    },
    {
     "name": "stderr",
     "output_type": "stream",
     "text": [
      "\r\n",
      " 20%|##        | 201/1000 [2:15:17<3:26:26, 15.50s/episodes]"
     ]
    },
    {
     "name": "stdout",
     "output_type": "stream",
     "text": [
      "-19.548419615832046\n",
      "episode 202\n"
     ]
    },
    {
     "name": "stderr",
     "output_type": "stream",
     "text": [
      "\r\n",
      " 20%|##        | 202/1000 [2:15:32<3:22:05, 15.20s/episodes]"
     ]
    },
    {
     "name": "stdout",
     "output_type": "stream",
     "text": [
      "249.88395786926588\n",
      "episode 203\n"
     ]
    },
    {
     "name": "stderr",
     "output_type": "stream",
     "text": [
      "\r\n",
      " 20%|##        | 203/1000 [2:15:47<3:20:06, 15.06s/episodes]"
     ]
    },
    {
     "name": "stdout",
     "output_type": "stream",
     "text": [
      "257.0582609188366\n",
      "episode 204\n"
     ]
    },
    {
     "name": "stderr",
     "output_type": "stream",
     "text": [
      "\r\n",
      " 20%|##        | 204/1000 [2:16:14<4:07:39, 18.67s/episodes]"
     ]
    },
    {
     "name": "stdout",
     "output_type": "stream",
     "text": [
      "231.8330572911294\n",
      "episode 205\n"
     ]
    },
    {
     "name": "stderr",
     "output_type": "stream",
     "text": [
      "\r\n",
      " 20%|##        | 205/1000 [2:16:22<3:26:03, 15.55s/episodes]"
     ]
    },
    {
     "name": "stdout",
     "output_type": "stream",
     "text": [
      "5.703046887761602\n",
      "episode 206\n"
     ]
    },
    {
     "name": "stderr",
     "output_type": "stream",
     "text": [
      "\r\n",
      " 21%|##        | 206/1000 [2:16:30<2:56:44, 13.36s/episodes]"
     ]
    },
    {
     "name": "stdout",
     "output_type": "stream",
     "text": [
      "-61.587521670162864\n",
      "episode 207\n"
     ]
    },
    {
     "name": "stderr",
     "output_type": "stream",
     "text": [
      "\r\n",
      " 21%|##        | 207/1000 [2:16:46<3:07:15, 14.17s/episodes]"
     ]
    },
    {
     "name": "stdout",
     "output_type": "stream",
     "text": [
      "4.882611370968277\n",
      "episode 208\n"
     ]
    },
    {
     "name": "stderr",
     "output_type": "stream",
     "text": [
      "\r\n",
      " 21%|##        | 208/1000 [2:17:08<3:35:30, 16.33s/episodes]"
     ]
    },
    {
     "name": "stdout",
     "output_type": "stream",
     "text": [
      "301.3661984566992\n",
      "episode 209\n"
     ]
    },
    {
     "name": "stderr",
     "output_type": "stream",
     "text": [
      "\r\n",
      " 21%|##        | 209/1000 [2:17:34<4:13:03, 19.20s/episodes]"
     ]
    },
    {
     "name": "stdout",
     "output_type": "stream",
     "text": [
      "-151.44555171306504\n",
      "episode 210\n"
     ]
    },
    {
     "name": "stderr",
     "output_type": "stream",
     "text": [
      "\r\n",
      " 21%|##1       | 210/1000 [2:19:01<8:40:35, 39.54s/episodes]"
     ]
    },
    {
     "name": "stdout",
     "output_type": "stream",
     "text": [
      "-84.4786222166325\n",
      "episode 211\n"
     ]
    },
    {
     "name": "stderr",
     "output_type": "stream",
     "text": [
      "\r\n",
      " 21%|##1       | 211/1000 [2:19:21<7:23:22, 33.72s/episodes]"
     ]
    },
    {
     "name": "stdout",
     "output_type": "stream",
     "text": [
      "279.759943466186\n",
      "episode 212\n"
     ]
    },
    {
     "name": "stderr",
     "output_type": "stream",
     "text": [
      "\r\n",
      " 21%|##1       | 212/1000 [2:19:39<6:22:55, 29.16s/episodes]"
     ]
    },
    {
     "name": "stdout",
     "output_type": "stream",
     "text": [
      "270.6681976150393\n",
      "episode 213\n"
     ]
    },
    {
     "name": "stderr",
     "output_type": "stream",
     "text": [
      "\r\n",
      " 21%|##1       | 213/1000 [2:19:57<5:37:07, 25.70s/episodes]"
     ]
    },
    {
     "name": "stdout",
     "output_type": "stream",
     "text": [
      "269.5354035957662\n",
      "episode 214\n"
     ]
    },
    {
     "name": "stderr",
     "output_type": "stream",
     "text": [
      "\r\n",
      " 21%|##1       | 214/1000 [2:20:16<5:11:23, 23.77s/episodes]"
     ]
    },
    {
     "name": "stdout",
     "output_type": "stream",
     "text": [
      "233.1881119419169\n",
      "episode 215\n"
     ]
    },
    {
     "name": "stderr",
     "output_type": "stream",
     "text": [
      "\r\n",
      " 22%|##1       | 215/1000 [2:21:06<6:53:28, 31.60s/episodes]"
     ]
    },
    {
     "name": "stdout",
     "output_type": "stream",
     "text": [
      "212.83335165515538\n",
      "episode 216\n"
     ]
    },
    {
     "name": "stderr",
     "output_type": "stream",
     "text": [
      "\r\n",
      " 22%|##1       | 216/1000 [2:21:23<5:54:08, 27.10s/episodes]"
     ]
    },
    {
     "name": "stdout",
     "output_type": "stream",
     "text": [
      "255.88384716801582\n",
      "episode 217\n"
     ]
    },
    {
     "name": "stderr",
     "output_type": "stream",
     "text": [
      "\r\n",
      " 22%|##1       | 217/1000 [2:22:17<7:39:38, 35.22s/episodes]"
     ]
    },
    {
     "name": "stdout",
     "output_type": "stream",
     "text": [
      "-162.15118572959716\n",
      "episode 218\n"
     ]
    },
    {
     "name": "stderr",
     "output_type": "stream",
     "text": [
      "\r\n",
      " 22%|##1       | 218/1000 [2:22:38<6:42:57, 30.92s/episodes]"
     ]
    },
    {
     "name": "stdout",
     "output_type": "stream",
     "text": [
      "208.40190910042477\n",
      "episode 219\n"
     ]
    },
    {
     "name": "stderr",
     "output_type": "stream",
     "text": [
      "\r\n",
      " 22%|##1       | 219/1000 [2:22:58<6:01:43, 27.79s/episodes]"
     ]
    },
    {
     "name": "stdout",
     "output_type": "stream",
     "text": [
      "273.3630760385193\n",
      "episode 220\n"
     ]
    },
    {
     "name": "stderr",
     "output_type": "stream",
     "text": [
      "\r\n",
      " 22%|##2       | 220/1000 [2:23:22<5:47:53, 26.76s/episodes]"
     ]
    },
    {
     "name": "stdout",
     "output_type": "stream",
     "text": [
      "237.2314789661251\n",
      "episode 221\n"
     ]
    },
    {
     "name": "stderr",
     "output_type": "stream",
     "text": [
      "\r\n",
      " 22%|##2       | 221/1000 [2:23:48<5:43:05, 26.43s/episodes]"
     ]
    },
    {
     "name": "stdout",
     "output_type": "stream",
     "text": [
      "209.61120241008086\n",
      "episode 222\n"
     ]
    },
    {
     "name": "stderr",
     "output_type": "stream",
     "text": [
      "\r\n",
      " 22%|##2       | 222/1000 [2:24:27<6:31:54, 30.22s/episodes]"
     ]
    },
    {
     "name": "stdout",
     "output_type": "stream",
     "text": [
      "229.26433077788616\n",
      "episode 223\n"
     ]
    },
    {
     "name": "stderr",
     "output_type": "stream",
     "text": [
      "\r\n",
      " 22%|##2       | 223/1000 [2:25:08<7:12:46, 33.42s/episodes]"
     ]
    },
    {
     "name": "stdout",
     "output_type": "stream",
     "text": [
      "243.94200539151092\n",
      "episode 224\n"
     ]
    },
    {
     "name": "stderr",
     "output_type": "stream",
     "text": [
      "\r\n",
      " 22%|##2       | 224/1000 [2:26:33<10:33:04, 48.95s/episodes]"
     ]
    },
    {
     "name": "stdout",
     "output_type": "stream",
     "text": [
      "-79.11191172145662\n",
      "episode 225\n"
     ]
    },
    {
     "name": "stderr",
     "output_type": "stream",
     "text": [
      "\r\n",
      " 22%|##2       | 225/1000 [2:26:54<8:44:48, 40.63s/episodes] "
     ]
    },
    {
     "name": "stdout",
     "output_type": "stream",
     "text": [
      "214.71736885598162\n",
      "episode 226\n"
     ]
    },
    {
     "name": "stderr",
     "output_type": "stream",
     "text": [
      "\r\n",
      " 23%|##2       | 226/1000 [2:27:03<6:41:09, 31.10s/episodes]"
     ]
    },
    {
     "name": "stdout",
     "output_type": "stream",
     "text": [
      "-18.932526569849145\n",
      "episode 227\n"
     ]
    },
    {
     "name": "stderr",
     "output_type": "stream",
     "text": [
      "\r\n",
      " 23%|##2       | 227/1000 [2:27:27<6:13:03, 28.96s/episodes]"
     ]
    },
    {
     "name": "stdout",
     "output_type": "stream",
     "text": [
      "255.24210094568414\n",
      "episode 228\n"
     ]
    },
    {
     "name": "stderr",
     "output_type": "stream",
     "text": [
      "\r\n",
      " 23%|##2       | 228/1000 [2:27:45<5:31:06, 25.73s/episodes]"
     ]
    },
    {
     "name": "stdout",
     "output_type": "stream",
     "text": [
      "203.67492645654127\n",
      "episode 229\n"
     ]
    },
    {
     "name": "stderr",
     "output_type": "stream",
     "text": [
      "\r\n",
      " 23%|##2       | 229/1000 [2:29:10<9:18:31, 43.46s/episodes]"
     ]
    },
    {
     "name": "stdout",
     "output_type": "stream",
     "text": [
      "-44.21842160501731\n",
      "episode 230\n"
     ]
    },
    {
     "name": "stderr",
     "output_type": "stream",
     "text": [
      "\r\n",
      " 23%|##3       | 230/1000 [2:30:18<10:49:24, 50.60s/episodes]"
     ]
    },
    {
     "name": "stdout",
     "output_type": "stream",
     "text": [
      "-281.32631922114257\n",
      "episode 231\n"
     ]
    },
    {
     "name": "stderr",
     "output_type": "stream",
     "text": [
      "\r\n",
      " 23%|##3       | 231/1000 [2:30:35<8:42:17, 40.75s/episodes] "
     ]
    },
    {
     "name": "stdout",
     "output_type": "stream",
     "text": [
      "251.76770971970447\n",
      "episode 232\n"
     ]
    },
    {
     "name": "stderr",
     "output_type": "stream",
     "text": [
      "\r\n",
      " 23%|##3       | 232/1000 [2:31:38<10:05:44, 47.32s/episodes]"
     ]
    },
    {
     "name": "stdout",
     "output_type": "stream",
     "text": [
      "-118.95853141085644\n",
      "episode 233\n"
     ]
    },
    {
     "name": "stderr",
     "output_type": "stream",
     "text": [
      "\r\n",
      " 23%|##3       | 233/1000 [2:33:06<12:39:55, 59.45s/episodes]"
     ]
    },
    {
     "name": "stdout",
     "output_type": "stream",
     "text": [
      "-72.55607407068416\n",
      "episode 234\n"
     ]
    },
    {
     "name": "stderr",
     "output_type": "stream",
     "text": [
      "\r\n",
      " 23%|##3       | 234/1000 [2:33:26<10:10:21, 47.81s/episodes]"
     ]
    },
    {
     "name": "stdout",
     "output_type": "stream",
     "text": [
      "272.4750046821349\n",
      "episode 235\n"
     ]
    },
    {
     "name": "stderr",
     "output_type": "stream",
     "text": [
      "\r\n",
      " 24%|##3       | 235/1000 [2:34:36<11:34:48, 54.49s/episodes]"
     ]
    },
    {
     "name": "stdout",
     "output_type": "stream",
     "text": [
      "194.27577189542865\n",
      "episode 236\n"
     ]
    },
    {
     "name": "stderr",
     "output_type": "stream",
     "text": [
      "\r\n",
      " 24%|##3       | 236/1000 [2:35:06<10:00:03, 47.13s/episodes]"
     ]
    },
    {
     "name": "stdout",
     "output_type": "stream",
     "text": [
      "186.62490296707068\n",
      "episode 237\n"
     ]
    },
    {
     "name": "stderr",
     "output_type": "stream",
     "text": [
      "\r\n",
      " 24%|##3       | 237/1000 [2:35:35<8:46:51, 41.43s/episodes] "
     ]
    },
    {
     "name": "stdout",
     "output_type": "stream",
     "text": [
      "220.1785963528921\n",
      "episode 238\n"
     ]
    },
    {
     "name": "stderr",
     "output_type": "stream",
     "text": [
      "\r\n",
      " 24%|##3       | 238/1000 [2:36:10<8:22:11, 39.54s/episodes]"
     ]
    },
    {
     "name": "stdout",
     "output_type": "stream",
     "text": [
      "243.2116146479483\n",
      "episode 239\n"
     ]
    },
    {
     "name": "stderr",
     "output_type": "stream",
     "text": [
      "\r\n",
      " 24%|##3       | 239/1000 [2:36:16<6:16:52, 29.71s/episodes]"
     ]
    },
    {
     "name": "stdout",
     "output_type": "stream",
     "text": [
      "2.89735797421676\n",
      "episode 240\n"
     ]
    },
    {
     "name": "stderr",
     "output_type": "stream",
     "text": [
      "\r\n",
      " 24%|##4       | 240/1000 [2:37:17<8:12:28, 38.88s/episodes]"
     ]
    },
    {
     "name": "stdout",
     "output_type": "stream",
     "text": [
      "251.71735952141364\n",
      "episode 241\n"
     ]
    },
    {
     "name": "stderr",
     "output_type": "stream",
     "text": [
      "\r\n",
      " 24%|##4       | 241/1000 [2:37:22<6:04:36, 28.82s/episodes]"
     ]
    },
    {
     "name": "stdout",
     "output_type": "stream",
     "text": [
      "-56.22762864913466\n",
      "episode 242\n"
     ]
    },
    {
     "name": "stderr",
     "output_type": "stream",
     "text": [
      "\r\n",
      " 24%|##4       | 242/1000 [2:38:02<6:46:42, 32.19s/episodes]"
     ]
    },
    {
     "name": "stdout",
     "output_type": "stream",
     "text": [
      "295.1841108926483\n",
      "episode 243\n"
     ]
    },
    {
     "name": "stderr",
     "output_type": "stream",
     "text": [
      "\r\n",
      " 24%|##4       | 243/1000 [2:38:23<6:02:57, 28.77s/episodes]"
     ]
    },
    {
     "name": "stdout",
     "output_type": "stream",
     "text": [
      "258.0231996901776\n",
      "episode 244\n"
     ]
    },
    {
     "name": "stderr",
     "output_type": "stream",
     "text": [
      "\r\n",
      " 24%|##4       | 244/1000 [2:38:57<6:23:30, 30.44s/episodes]"
     ]
    },
    {
     "name": "stdout",
     "output_type": "stream",
     "text": [
      "208.82337235704705\n",
      "episode 245\n"
     ]
    },
    {
     "name": "stderr",
     "output_type": "stream",
     "text": [
      "\r\n",
      " 24%|##4       | 245/1000 [2:39:17<5:41:53, 27.17s/episodes]"
     ]
    },
    {
     "name": "stdout",
     "output_type": "stream",
     "text": [
      "10.185399060511486\n",
      "episode 246\n"
     ]
    },
    {
     "name": "stderr",
     "output_type": "stream",
     "text": [
      "\r\n",
      " 25%|##4       | 246/1000 [2:40:42<9:18:58, 44.48s/episodes]"
     ]
    },
    {
     "name": "stdout",
     "output_type": "stream",
     "text": [
      "54.54670890810299\n",
      "episode 247\n"
     ]
    },
    {
     "name": "stderr",
     "output_type": "stream",
     "text": [
      "\r\n",
      " 25%|##4       | 247/1000 [2:40:59<7:37:37, 36.46s/episodes]"
     ]
    },
    {
     "name": "stdout",
     "output_type": "stream",
     "text": [
      "281.8642926263663\n",
      "episode 248\n"
     ]
    },
    {
     "name": "stderr",
     "output_type": "stream",
     "text": [
      "\r\n",
      " 25%|##4       | 248/1000 [2:41:16<6:22:49, 30.55s/episodes]"
     ]
    },
    {
     "name": "stdout",
     "output_type": "stream",
     "text": [
      "271.5221997005509\n",
      "episode 249\n"
     ]
    },
    {
     "name": "stderr",
     "output_type": "stream",
     "text": [
      "\r\n",
      " 25%|##4       | 249/1000 [2:41:26<5:05:04, 24.37s/episodes]"
     ]
    },
    {
     "name": "stdout",
     "output_type": "stream",
     "text": [
      "11.933372379316282\n",
      "episode 250\n"
     ]
    },
    {
     "name": "stderr",
     "output_type": "stream",
     "text": [
      "\r\n",
      " 25%|##5       | 250/1000 [2:42:26<7:19:05, 35.13s/episodes]"
     ]
    },
    {
     "name": "stdout",
     "output_type": "stream",
     "text": [
      "217.1197850517023\n",
      "episode 251\n"
     ]
    },
    {
     "name": "stderr",
     "output_type": "stream",
     "text": [
      "\r\n",
      " 25%|##5       | 251/1000 [2:43:02<7:19:12, 35.18s/episodes]"
     ]
    },
    {
     "name": "stdout",
     "output_type": "stream",
     "text": [
      "193.00427891570945\n",
      "episode 252\n"
     ]
    },
    {
     "name": "stderr",
     "output_type": "stream",
     "text": [
      "\r\n",
      " 25%|##5       | 252/1000 [2:44:27<10:27:38, 50.35s/episodes]"
     ]
    },
    {
     "name": "stdout",
     "output_type": "stream",
     "text": [
      "-45.375011113627814\n",
      "episode 253\n"
     ]
    },
    {
     "name": "stderr",
     "output_type": "stream",
     "text": [
      "\r\n",
      " 25%|##5       | 253/1000 [2:44:43<8:18:54, 40.07s/episodes] "
     ]
    },
    {
     "name": "stdout",
     "output_type": "stream",
     "text": [
      "246.58766298421187\n",
      "episode 254\n"
     ]
    },
    {
     "name": "stderr",
     "output_type": "stream",
     "text": [
      "\r\n",
      " 25%|##5       | 254/1000 [2:45:01<6:52:53, 33.21s/episodes]"
     ]
    },
    {
     "name": "stdout",
     "output_type": "stream",
     "text": [
      "173.96381995601848\n",
      "episode 255\n"
     ]
    },
    {
     "name": "stderr",
     "output_type": "stream",
     "text": [
      "\r\n",
      " 26%|##5       | 255/1000 [2:46:01<8:31:38, 41.21s/episodes]"
     ]
    },
    {
     "name": "stdout",
     "output_type": "stream",
     "text": [
      "-163.39166144710578\n",
      "episode 256\n"
     ]
    },
    {
     "name": "stderr",
     "output_type": "stream",
     "text": [
      "\r\n",
      " 26%|##5       | 256/1000 [2:47:28<11:23:51, 55.15s/episodes]"
     ]
    },
    {
     "name": "stdout",
     "output_type": "stream",
     "text": [
      "-95.91078972008846\n",
      "episode 257\n"
     ]
    },
    {
     "name": "stderr",
     "output_type": "stream",
     "text": [
      "\r\n",
      " 26%|##5       | 257/1000 [2:48:13<10:45:09, 52.10s/episodes]"
     ]
    },
    {
     "name": "stdout",
     "output_type": "stream",
     "text": [
      "165.55397076733445\n",
      "episode 258\n"
     ]
    },
    {
     "name": "stderr",
     "output_type": "stream",
     "text": [
      "\r\n",
      " 26%|##5       | 258/1000 [2:48:31<8:37:56, 41.88s/episodes] "
     ]
    },
    {
     "name": "stdout",
     "output_type": "stream",
     "text": [
      "230.42036080849073\n",
      "episode 259\n"
     ]
    },
    {
     "name": "stderr",
     "output_type": "stream",
     "text": [
      "\r\n",
      " 26%|##5       | 259/1000 [2:48:56<7:32:22, 36.63s/episodes]"
     ]
    },
    {
     "name": "stdout",
     "output_type": "stream",
     "text": [
      "256.4081851846902\n",
      "episode 260\n"
     ]
    },
    {
     "name": "stderr",
     "output_type": "stream",
     "text": [
      "\r\n",
      " 26%|##6       | 260/1000 [2:49:16<6:30:53, 31.69s/episodes]"
     ]
    },
    {
     "name": "stdout",
     "output_type": "stream",
     "text": [
      "277.9802239815011\n",
      "episode 261\n"
     ]
    },
    {
     "name": "stderr",
     "output_type": "stream",
     "text": [
      "\r\n",
      " 26%|##6       | 261/1000 [2:49:51<6:43:34, 32.77s/episodes]"
     ]
    },
    {
     "name": "stdout",
     "output_type": "stream",
     "text": [
      "220.18961276804094\n",
      "episode 262\n"
     ]
    },
    {
     "name": "stderr",
     "output_type": "stream",
     "text": [
      "\r\n",
      " 26%|##6       | 262/1000 [2:51:18<10:04:00, 49.11s/episodes]"
     ]
    },
    {
     "name": "stdout",
     "output_type": "stream",
     "text": [
      "-28.62731186642124\n",
      "episode 263\n"
     ]
    },
    {
     "name": "stderr",
     "output_type": "stream",
     "text": [
      "\r\n",
      " 26%|##6       | 263/1000 [2:52:46<12:26:31, 60.78s/episodes]"
     ]
    },
    {
     "name": "stdout",
     "output_type": "stream",
     "text": [
      "-24.144046470764952\n",
      "episode 264\n"
     ]
    },
    {
     "name": "stderr",
     "output_type": "stream",
     "text": [
      "\r\n",
      " 26%|##6       | 264/1000 [2:54:13<14:01:44, 68.62s/episodes]"
     ]
    },
    {
     "name": "stdout",
     "output_type": "stream",
     "text": [
      "-50.12974031880887\n",
      "episode 265\n"
     ]
    },
    {
     "name": "stderr",
     "output_type": "stream",
     "text": [
      "\r\n",
      " 26%|##6       | 265/1000 [2:54:28<10:41:45, 52.39s/episodes]"
     ]
    },
    {
     "name": "stdout",
     "output_type": "stream",
     "text": [
      "262.9419939406588\n",
      "episode 266\n"
     ]
    },
    {
     "name": "stderr",
     "output_type": "stream",
     "text": [
      "\r\n",
      " 27%|##6       | 266/1000 [2:55:17<10:28:27, 51.37s/episodes]"
     ]
    },
    {
     "name": "stdout",
     "output_type": "stream",
     "text": [
      "118.82916780773485\n",
      "episode 267\n"
     ]
    },
    {
     "name": "stderr",
     "output_type": "stream",
     "text": [
      "\r\n",
      " 27%|##6       | 267/1000 [2:55:37<8:33:26, 42.03s/episodes] "
     ]
    },
    {
     "name": "stdout",
     "output_type": "stream",
     "text": [
      "-146.7830649837645\n",
      "episode 268\n"
     ]
    },
    {
     "name": "stderr",
     "output_type": "stream",
     "text": [
      "\r\n",
      " 27%|##6       | 268/1000 [2:56:42<9:56:26, 48.89s/episodes]"
     ]
    },
    {
     "name": "stdout",
     "output_type": "stream",
     "text": [
      "241.9576841118674\n",
      "episode 269\n"
     ]
    },
    {
     "name": "stderr",
     "output_type": "stream",
     "text": [
      "\r\n",
      " 27%|##6       | 269/1000 [2:58:09<12:14:06, 60.25s/episodes]"
     ]
    },
    {
     "name": "stdout",
     "output_type": "stream",
     "text": [
      "23.48987049339048\n",
      "episode 270\n"
     ]
    },
    {
     "name": "stderr",
     "output_type": "stream",
     "text": [
      "\r\n",
      " 27%|##7       | 270/1000 [2:59:04<11:54:13, 58.70s/episodes]"
     ]
    },
    {
     "name": "stdout",
     "output_type": "stream",
     "text": [
      "245.92698576941714\n",
      "episode 271\n"
     ]
    },
    {
     "name": "stderr",
     "output_type": "stream",
     "text": [
      "\r\n",
      " 27%|##7       | 271/1000 [2:59:43<10:41:16, 52.78s/episodes]"
     ]
    },
    {
     "name": "stdout",
     "output_type": "stream",
     "text": [
      "248.912463290856\n",
      "episode 272\n"
     ]
    },
    {
     "name": "stderr",
     "output_type": "stream",
     "text": [
      "\r\n",
      " 27%|##7       | 272/1000 [3:00:28<10:12:50, 50.51s/episodes]"
     ]
    },
    {
     "name": "stdout",
     "output_type": "stream",
     "text": [
      "217.68844284038403\n",
      "episode 273\n"
     ]
    },
    {
     "name": "stderr",
     "output_type": "stream",
     "text": [
      "\r\n",
      " 27%|##7       | 273/1000 [3:00:53<8:40:22, 42.95s/episodes] "
     ]
    },
    {
     "name": "stdout",
     "output_type": "stream",
     "text": [
      "269.3194771603024\n",
      "episode 274\n"
     ]
    },
    {
     "name": "stderr",
     "output_type": "stream",
     "text": [
      "\r\n",
      " 27%|##7       | 274/1000 [3:01:17<7:30:56, 37.27s/episodes]"
     ]
    },
    {
     "name": "stdout",
     "output_type": "stream",
     "text": [
      "256.5180577707372\n",
      "episode 275\n"
     ]
    },
    {
     "name": "stderr",
     "output_type": "stream",
     "text": [
      "\r\n",
      " 28%|##7       | 275/1000 [3:01:41<6:42:28, 33.31s/episodes]"
     ]
    },
    {
     "name": "stdout",
     "output_type": "stream",
     "text": [
      "274.29923377668945\n",
      "episode 276\n"
     ]
    },
    {
     "name": "stderr",
     "output_type": "stream",
     "text": [
      "\r\n",
      " 28%|##7       | 276/1000 [3:02:03<6:01:14, 29.94s/episodes]"
     ]
    },
    {
     "name": "stdout",
     "output_type": "stream",
     "text": [
      "257.51913014329375\n",
      "episode 277\n"
     ]
    },
    {
     "name": "stderr",
     "output_type": "stream",
     "text": [
      "\r\n",
      " 28%|##7       | 277/1000 [3:02:26<5:35:21, 27.83s/episodes]"
     ]
    },
    {
     "name": "stdout",
     "output_type": "stream",
     "text": [
      "244.92675447628056\n",
      "episode 278\n"
     ]
    },
    {
     "name": "stderr",
     "output_type": "stream",
     "text": [
      "\r\n",
      " 28%|##7       | 278/1000 [3:02:57<5:44:53, 28.66s/episodes]"
     ]
    },
    {
     "name": "stdout",
     "output_type": "stream",
     "text": [
      "261.24663845290047\n",
      "episode 279\n"
     ]
    },
    {
     "name": "stderr",
     "output_type": "stream",
     "text": [
      "\r\n",
      " 28%|##7       | 279/1000 [3:03:19<5:20:04, 26.64s/episodes]"
     ]
    },
    {
     "name": "stdout",
     "output_type": "stream",
     "text": [
      "221.47255476610863\n",
      "episode 280\n"
     ]
    },
    {
     "name": "stderr",
     "output_type": "stream",
     "text": [
      "\r\n",
      " 28%|##8       | 280/1000 [3:04:04<6:26:29, 32.21s/episodes]"
     ]
    },
    {
     "name": "stdout",
     "output_type": "stream",
     "text": [
      "131.44843054888875\n",
      "episode 281\n"
     ]
    },
    {
     "name": "stderr",
     "output_type": "stream",
     "text": [
      "\r\n",
      " 28%|##8       | 281/1000 [3:04:54<7:28:38, 37.44s/episodes]"
     ]
    },
    {
     "name": "stdout",
     "output_type": "stream",
     "text": [
      "-106.80389433054086\n",
      "episode 282\n"
     ]
    },
    {
     "name": "stderr",
     "output_type": "stream",
     "text": [
      "\r\n",
      " 28%|##8       | 282/1000 [3:05:19<6:45:46, 33.91s/episodes]"
     ]
    },
    {
     "name": "stdout",
     "output_type": "stream",
     "text": [
      "246.18583511738308\n",
      "episode 283\n"
     ]
    },
    {
     "name": "stderr",
     "output_type": "stream",
     "text": [
      "\r\n",
      " 28%|##8       | 283/1000 [3:05:38<5:48:56, 29.20s/episodes]"
     ]
    },
    {
     "name": "stdout",
     "output_type": "stream",
     "text": [
      "211.61967519809247\n",
      "episode 284\n"
     ]
    },
    {
     "name": "stderr",
     "output_type": "stream",
     "text": [
      "\r\n",
      " 28%|##8       | 284/1000 [3:07:04<9:14:36, 46.48s/episodes]"
     ]
    },
    {
     "name": "stdout",
     "output_type": "stream",
     "text": [
      "-109.40245820591294\n",
      "episode 285\n"
     ]
    },
    {
     "name": "stderr",
     "output_type": "stream",
     "text": [
      "\r\n",
      " 28%|##8       | 285/1000 [3:08:30<11:35:36, 58.37s/episodes]"
     ]
    },
    {
     "name": "stdout",
     "output_type": "stream",
     "text": [
      "-55.54885187313251\n",
      "episode 286\n"
     ]
    },
    {
     "name": "stderr",
     "output_type": "stream",
     "text": [
      "\r\n",
      " 29%|##8       | 286/1000 [3:08:39<8:38:21, 43.56s/episodes] "
     ]
    },
    {
     "name": "stdout",
     "output_type": "stream",
     "text": [
      "8.48951633277909\n",
      "episode 287\n"
     ]
    },
    {
     "name": "stderr",
     "output_type": "stream",
     "text": [
      "\r\n",
      " 29%|##8       | 287/1000 [3:09:01<7:20:52, 37.10s/episodes]"
     ]
    },
    {
     "name": "stdout",
     "output_type": "stream",
     "text": [
      "299.79027862857225\n",
      "episode 288\n"
     ]
    },
    {
     "name": "stderr",
     "output_type": "stream",
     "text": [
      "\r\n",
      " 29%|##8       | 288/1000 [3:09:26<6:37:11, 33.47s/episodes]"
     ]
    },
    {
     "name": "stdout",
     "output_type": "stream",
     "text": [
      "-255.20876373159945\n",
      "episode 289\n"
     ]
    },
    {
     "name": "stderr",
     "output_type": "stream",
     "text": [
      "\r\n",
      " 29%|##8       | 289/1000 [3:09:57<6:27:42, 32.72s/episodes]"
     ]
    },
    {
     "name": "stdout",
     "output_type": "stream",
     "text": [
      "-480.5521949105655\n",
      "episode 290\n"
     ]
    },
    {
     "name": "stderr",
     "output_type": "stream",
     "text": [
      "\r\n",
      " 29%|##9       | 290/1000 [3:10:26<6:12:17, 31.46s/episodes]"
     ]
    },
    {
     "name": "stdout",
     "output_type": "stream",
     "text": [
      "-414.3561562829652\n",
      "episode 291\n"
     ]
    },
    {
     "name": "stderr",
     "output_type": "stream",
     "text": [
      "\r\n",
      " 29%|##9       | 291/1000 [3:11:20<7:31:11, 38.18s/episodes]"
     ]
    },
    {
     "name": "stdout",
     "output_type": "stream",
     "text": [
      "-270.0802399891876\n",
      "episode 292\n"
     ]
    },
    {
     "name": "stderr",
     "output_type": "stream",
     "text": [
      "\r\n",
      " 29%|##9       | 292/1000 [3:11:45<6:43:51, 34.23s/episodes]"
     ]
    },
    {
     "name": "stdout",
     "output_type": "stream",
     "text": [
      "-313.1759902817134\n",
      "episode 293\n"
     ]
    },
    {
     "name": "stderr",
     "output_type": "stream",
     "text": [
      "\r\n",
      " 29%|##9       | 293/1000 [3:11:52<5:09:02, 26.23s/episodes]"
     ]
    },
    {
     "name": "stdout",
     "output_type": "stream",
     "text": [
      "-340.15428812257073\n",
      "episode 294\n"
     ]
    },
    {
     "name": "stderr",
     "output_type": "stream",
     "text": [
      "\r\n",
      " 29%|##9       | 294/1000 [3:12:04<4:18:10, 21.94s/episodes]"
     ]
    },
    {
     "name": "stdout",
     "output_type": "stream",
     "text": [
      "-245.06727444089523\n",
      "episode 295\n"
     ]
    },
    {
     "name": "stderr",
     "output_type": "stream",
     "text": [
      "\r\n",
      " 30%|##9       | 295/1000 [3:12:13<3:32:29, 18.08s/episodes]"
     ]
    },
    {
     "name": "stdout",
     "output_type": "stream",
     "text": [
      "-351.2507464612968\n",
      "episode 296\n"
     ]
    },
    {
     "name": "stderr",
     "output_type": "stream",
     "text": [
      "\r\n",
      " 30%|##9       | 296/1000 [3:12:24<3:06:07, 15.86s/episodes]"
     ]
    },
    {
     "name": "stdout",
     "output_type": "stream",
     "text": [
      "-218.81748750460588\n",
      "episode 297\n"
     ]
    },
    {
     "name": "stderr",
     "output_type": "stream",
     "text": [
      "\r\n",
      " 30%|##9       | 297/1000 [3:12:34<2:45:26, 14.12s/episodes]"
     ]
    },
    {
     "name": "stdout",
     "output_type": "stream",
     "text": [
      "-250.08271578176362\n",
      "episode 298\n"
     ]
    },
    {
     "name": "stderr",
     "output_type": "stream",
     "text": [
      "\r\n",
      " 30%|##9       | 298/1000 [3:12:54<3:06:08, 15.91s/episodes]"
     ]
    },
    {
     "name": "stdout",
     "output_type": "stream",
     "text": [
      "-150.3480867109556\n",
      "episode 299\n"
     ]
    },
    {
     "name": "stderr",
     "output_type": "stream",
     "text": [
      "\r\n",
      " 30%|##9       | 299/1000 [3:14:20<7:10:21, 36.83s/episodes]"
     ]
    },
    {
     "name": "stdout",
     "output_type": "stream",
     "text": [
      "-92.57747780911154\n",
      "episode 300\n"
     ]
    },
    {
     "name": "stderr",
     "output_type": "stream",
     "text": [
      "\r\n",
      " 30%|###       | 300/1000 [3:15:45<9:59:48, 51.41s/episodes]"
     ]
    },
    {
     "name": "stdout",
     "output_type": "stream",
     "text": [
      "-190.7946338134791\n",
      "episode 301\n"
     ]
    },
    {
     "name": "stderr",
     "output_type": "stream",
     "text": [
      "\r\n",
      " 30%|###       | 301/1000 [3:16:23<9:09:46, 47.19s/episodes]"
     ]
    },
    {
     "name": "stdout",
     "output_type": "stream",
     "text": [
      "-203.36895979664644\n",
      "episode 302\n"
     ]
    },
    {
     "name": "stderr",
     "output_type": "stream",
     "text": [
      "\r\n",
      " 30%|###       | 302/1000 [3:17:19<9:39:51, 49.84s/episodes]"
     ]
    },
    {
     "name": "stdout",
     "output_type": "stream",
     "text": [
      "-253.17768805254386\n",
      "episode 303\n"
     ]
    },
    {
     "name": "stderr",
     "output_type": "stream",
     "text": [
      "\r\n",
      " 30%|###       | 303/1000 [3:18:45<11:45:45, 60.75s/episodes]"
     ]
    },
    {
     "name": "stdout",
     "output_type": "stream",
     "text": [
      "-80.0248129696812\n",
      "episode 304\n"
     ]
    },
    {
     "name": "stderr",
     "output_type": "stream",
     "text": [
      "\r\n",
      " 30%|###       | 304/1000 [3:20:11<13:12:59, 68.36s/episodes]"
     ]
    },
    {
     "name": "stdout",
     "output_type": "stream",
     "text": [
      "-22.003972211578706\n",
      "episode 305\n"
     ]
    },
    {
     "name": "stderr",
     "output_type": "stream",
     "text": [
      "\r\n",
      " 30%|###       | 305/1000 [3:21:37<14:14:04, 73.73s/episodes]"
     ]
    },
    {
     "name": "stdout",
     "output_type": "stream",
     "text": [
      "-92.6207853600254\n",
      "episode 306\n"
     ]
    },
    {
     "name": "stderr",
     "output_type": "stream",
     "text": [
      "\r\n",
      " 31%|###       | 306/1000 [3:23:03<14:54:11, 77.31s/episodes]"
     ]
    },
    {
     "name": "stdout",
     "output_type": "stream",
     "text": [
      "-2.5987824722811865\n",
      "episode 307\n"
     ]
    },
    {
     "name": "stderr",
     "output_type": "stream",
     "text": [
      "\r\n",
      " 31%|###       | 307/1000 [3:24:29<15:23:16, 79.94s/episodes]"
     ]
    },
    {
     "name": "stdout",
     "output_type": "stream",
     "text": [
      "-78.85805942621117\n",
      "episode 308\n"
     ]
    },
    {
     "name": "stderr",
     "output_type": "stream",
     "text": [
      "\r\n",
      " 31%|###       | 308/1000 [3:25:55<15:43:02, 81.77s/episodes]"
     ]
    },
    {
     "name": "stdout",
     "output_type": "stream",
     "text": [
      "15.833768542453031\n",
      "episode 309\n"
     ]
    },
    {
     "name": "stderr",
     "output_type": "stream",
     "text": [
      "\r\n",
      " 31%|###       | 309/1000 [3:26:35<13:18:46, 69.36s/episodes]"
     ]
    },
    {
     "name": "stdout",
     "output_type": "stream",
     "text": [
      "198.47455241189328\n",
      "episode 310\n"
     ]
    },
    {
     "name": "stderr",
     "output_type": "stream",
     "text": [
      "\r\n",
      " 31%|###1      | 310/1000 [3:27:18<11:45:47, 61.37s/episodes]"
     ]
    },
    {
     "name": "stdout",
     "output_type": "stream",
     "text": [
      "242.49160617231814\n",
      "episode 311\n"
     ]
    },
    {
     "name": "stderr",
     "output_type": "stream",
     "text": [
      "\r\n",
      " 31%|###1      | 311/1000 [3:28:00<10:35:41, 55.36s/episodes]"
     ]
    },
    {
     "name": "stdout",
     "output_type": "stream",
     "text": [
      "-175.40213765499013\n",
      "episode 312\n"
     ]
    },
    {
     "name": "stderr",
     "output_type": "stream",
     "text": [
      "\r\n",
      " 31%|###1      | 312/1000 [3:28:22<8:41:31, 45.48s/episodes] "
     ]
    },
    {
     "name": "stdout",
     "output_type": "stream",
     "text": [
      "322.2627755396185\n",
      "episode 313\n"
     ]
    },
    {
     "name": "stderr",
     "output_type": "stream",
     "text": [
      "\r\n",
      " 31%|###1      | 313/1000 [3:29:47<10:57:42, 57.44s/episodes]"
     ]
    },
    {
     "name": "stdout",
     "output_type": "stream",
     "text": [
      "-9.238805077610085\n",
      "episode 314\n"
     ]
    },
    {
     "name": "stderr",
     "output_type": "stream",
     "text": [
      "\r\n",
      " 31%|###1      | 314/1000 [3:31:14<12:37:38, 66.27s/episodes]"
     ]
    },
    {
     "name": "stdout",
     "output_type": "stream",
     "text": [
      "-27.688489470872636\n",
      "episode 315\n"
     ]
    },
    {
     "name": "stderr",
     "output_type": "stream",
     "text": [
      "\r\n",
      " 32%|###1      | 315/1000 [3:32:42<13:51:54, 72.87s/episodes]"
     ]
    },
    {
     "name": "stdout",
     "output_type": "stream",
     "text": [
      "-28.734485682375812\n",
      "episode 316\n"
     ]
    },
    {
     "name": "stderr",
     "output_type": "stream",
     "text": [
      "\r\n",
      " 32%|###1      | 316/1000 [3:32:52<10:14:02, 53.86s/episodes]"
     ]
    },
    {
     "name": "stdout",
     "output_type": "stream",
     "text": [
      "43.14202843124926\n",
      "episode 317\n"
     ]
    },
    {
     "name": "stderr",
     "output_type": "stream",
     "text": [
      "\r\n",
      " 32%|###1      | 317/1000 [3:33:13<8:20:34, 43.97s/episodes] "
     ]
    },
    {
     "name": "stdout",
     "output_type": "stream",
     "text": [
      "258.6186102499688\n",
      "episode 318\n"
     ]
    },
    {
     "name": "stderr",
     "output_type": "stream",
     "text": [
      "\r\n",
      " 32%|###1      | 318/1000 [3:33:29<6:43:48, 35.53s/episodes]"
     ]
    },
    {
     "name": "stdout",
     "output_type": "stream",
     "text": [
      "202.19560161133396\n",
      "episode 319\n"
     ]
    },
    {
     "name": "stderr",
     "output_type": "stream",
     "text": [
      "\r\n",
      " 32%|###1      | 319/1000 [3:33:40<5:20:26, 28.23s/episodes]"
     ]
    },
    {
     "name": "stdout",
     "output_type": "stream",
     "text": [
      "-94.69290784466978\n",
      "episode 320\n"
     ]
    },
    {
     "name": "stderr",
     "output_type": "stream",
     "text": [
      "\r\n",
      " 32%|###2      | 320/1000 [3:33:50<4:17:18, 22.70s/episodes]"
     ]
    },
    {
     "name": "stdout",
     "output_type": "stream",
     "text": [
      "-2.6058253265200477\n",
      "episode 321\n"
     ]
    },
    {
     "name": "stderr",
     "output_type": "stream",
     "text": [
      "\r\n",
      " 32%|###2      | 321/1000 [3:34:26<5:01:33, 26.65s/episodes]"
     ]
    },
    {
     "name": "stdout",
     "output_type": "stream",
     "text": [
      "251.29647526268369\n",
      "episode 322\n"
     ]
    },
    {
     "name": "stderr",
     "output_type": "stream",
     "text": [
      "\r\n",
      " 32%|###2      | 322/1000 [3:35:51<8:19:20, 44.19s/episodes]"
     ]
    },
    {
     "name": "stdout",
     "output_type": "stream",
     "text": [
      "-61.28429584933716\n",
      "episode 323\n"
     ]
    },
    {
     "name": "stderr",
     "output_type": "stream",
     "text": [
      "\r\n",
      " 32%|###2      | 323/1000 [3:36:20<7:27:00, 39.62s/episodes]"
     ]
    },
    {
     "name": "stdout",
     "output_type": "stream",
     "text": [
      "260.57790755405097\n",
      "episode 324\n"
     ]
    },
    {
     "name": "stderr",
     "output_type": "stream",
     "text": [
      "\r\n",
      " 32%|###2      | 324/1000 [3:36:39<6:19:30, 33.68s/episodes]"
     ]
    },
    {
     "name": "stdout",
     "output_type": "stream",
     "text": [
      "225.69727343621537\n",
      "episode 325\n"
     ]
    },
    {
     "name": "stderr",
     "output_type": "stream",
     "text": [
      "\r\n",
      " 32%|###2      | 325/1000 [3:38:04<9:09:07, 48.81s/episodes]"
     ]
    },
    {
     "name": "stdout",
     "output_type": "stream",
     "text": [
      "98.35334449611638\n",
      "episode 326\n"
     ]
    },
    {
     "name": "stderr",
     "output_type": "stream",
     "text": [
      "\r\n",
      " 33%|###2      | 326/1000 [3:39:30<11:14:45, 60.07s/episodes]"
     ]
    },
    {
     "name": "stdout",
     "output_type": "stream",
     "text": [
      "-25.90966184472918\n",
      "episode 327\n"
     ]
    },
    {
     "name": "stderr",
     "output_type": "stream",
     "text": [
      "\r\n",
      " 33%|###2      | 327/1000 [3:40:03<9:44:19, 52.09s/episodes] "
     ]
    },
    {
     "name": "stdout",
     "output_type": "stream",
     "text": [
      "199.15598519873896\n",
      "episode 328\n"
     ]
    },
    {
     "name": "stderr",
     "output_type": "stream",
     "text": [
      "\r\n",
      " 33%|###2      | 328/1000 [3:40:27<8:07:12, 43.50s/episodes]"
     ]
    },
    {
     "name": "stdout",
     "output_type": "stream",
     "text": [
      "226.5850604588099\n",
      "episode 329\n"
     ]
    },
    {
     "name": "stderr",
     "output_type": "stream",
     "text": [
      "\r\n",
      " 33%|###2      | 329/1000 [3:40:43<6:35:05, 35.33s/episodes]"
     ]
    },
    {
     "name": "stdout",
     "output_type": "stream",
     "text": [
      "221.3450912446503\n",
      "episode 330\n"
     ]
    },
    {
     "name": "stderr",
     "output_type": "stream",
     "text": [
      "\r\n",
      " 33%|###3      | 330/1000 [3:42:08<9:20:57, 50.23s/episodes]"
     ]
    },
    {
     "name": "stdout",
     "output_type": "stream",
     "text": [
      "150.3532580838042\n",
      "episode 331\n"
     ]
    },
    {
     "name": "stderr",
     "output_type": "stream",
     "text": [
      "\r\n",
      " 33%|###3      | 331/1000 [3:42:24<7:26:13, 40.02s/episodes]"
     ]
    },
    {
     "name": "stdout",
     "output_type": "stream",
     "text": [
      "256.1088460803352\n",
      "episode 332\n"
     ]
    },
    {
     "name": "stderr",
     "output_type": "stream",
     "text": [
      "\r\n",
      " 33%|###3      | 332/1000 [3:42:38<5:58:50, 32.23s/episodes]"
     ]
    },
    {
     "name": "stdout",
     "output_type": "stream",
     "text": [
      "253.44609052791375\n",
      "episode 333\n"
     ]
    },
    {
     "name": "stderr",
     "output_type": "stream",
     "text": [
      "\r\n",
      " 33%|###3      | 333/1000 [3:42:53<5:00:48, 27.06s/episodes]"
     ]
    },
    {
     "name": "stdout",
     "output_type": "stream",
     "text": [
      "241.34602143589996\n",
      "episode 334\n"
     ]
    },
    {
     "name": "stderr",
     "output_type": "stream",
     "text": [
      "\r\n",
      " 33%|###3      | 334/1000 [3:44:19<8:14:51, 44.58s/episodes]"
     ]
    },
    {
     "name": "stdout",
     "output_type": "stream",
     "text": [
      "119.34157023996286\n",
      "episode 335\n"
     ]
    },
    {
     "name": "stderr",
     "output_type": "stream",
     "text": [
      "\r\n",
      " 34%|###3      | 335/1000 [3:45:10<8:34:51, 46.45s/episodes]"
     ]
    },
    {
     "name": "stdout",
     "output_type": "stream",
     "text": [
      "198.0384862127113\n",
      "episode 336\n"
     ]
    },
    {
     "name": "stderr",
     "output_type": "stream",
     "text": [
      "\r\n",
      " 34%|###3      | 336/1000 [3:46:35<10:44:37, 58.25s/episodes]"
     ]
    },
    {
     "name": "stdout",
     "output_type": "stream",
     "text": [
      "-106.10004495606421\n",
      "episode 337\n"
     ]
    },
    {
     "name": "stderr",
     "output_type": "stream",
     "text": [
      "\r\n",
      " 34%|###3      | 337/1000 [3:47:54<11:50:39, 64.31s/episodes]"
     ]
    },
    {
     "name": "stdout",
     "output_type": "stream",
     "text": [
      "-523.2636587915456\n",
      "episode 338\n"
     ]
    },
    {
     "name": "stderr",
     "output_type": "stream",
     "text": [
      "\r\n",
      " 34%|###3      | 338/1000 [3:48:19<9:41:17, 52.69s/episodes] "
     ]
    },
    {
     "name": "stdout",
     "output_type": "stream",
     "text": [
      "307.1043210318934\n",
      "episode 339\n"
     ]
    },
    {
     "name": "stderr",
     "output_type": "stream",
     "text": [
      "\r\n",
      " 34%|###3      | 339/1000 [3:48:45<8:09:23, 44.42s/episodes]"
     ]
    },
    {
     "name": "stdout",
     "output_type": "stream",
     "text": [
      "268.48871792455043\n",
      "episode 340\n"
     ]
    },
    {
     "name": "stderr",
     "output_type": "stream",
     "text": [
      "\r\n",
      " 34%|###4      | 340/1000 [3:49:00<6:32:36, 35.69s/episodes]"
     ]
    },
    {
     "name": "stdout",
     "output_type": "stream",
     "text": [
      "276.71955464687755\n",
      "episode 341\n"
     ]
    },
    {
     "name": "stderr",
     "output_type": "stream",
     "text": [
      "\r\n",
      " 34%|###4      | 341/1000 [3:49:14<5:21:54, 29.31s/episodes]"
     ]
    },
    {
     "name": "stdout",
     "output_type": "stream",
     "text": [
      "273.1971626659048\n",
      "episode 342\n"
     ]
    },
    {
     "name": "stderr",
     "output_type": "stream",
     "text": [
      "\r\n",
      " 34%|###4      | 342/1000 [3:49:46<5:28:29, 29.95s/episodes]"
     ]
    },
    {
     "name": "stdout",
     "output_type": "stream",
     "text": [
      "265.3293276082327\n",
      "episode 343\n"
     ]
    },
    {
     "name": "stderr",
     "output_type": "stream",
     "text": [
      "\r\n",
      " 34%|###4      | 343/1000 [3:50:07<5:00:50, 27.47s/episodes]"
     ]
    },
    {
     "name": "stdout",
     "output_type": "stream",
     "text": [
      "250.1373711367446\n",
      "episode 344\n"
     ]
    },
    {
     "name": "stderr",
     "output_type": "stream",
     "text": [
      "\r\n",
      " 34%|###4      | 344/1000 [3:50:23<4:21:39, 23.93s/episodes]"
     ]
    },
    {
     "name": "stdout",
     "output_type": "stream",
     "text": [
      "-80.25347448112242\n",
      "episode 345\n"
     ]
    },
    {
     "name": "stderr",
     "output_type": "stream",
     "text": [
      "\r\n",
      " 34%|###4      | 345/1000 [3:50:39<3:56:23, 21.65s/episodes]"
     ]
    },
    {
     "name": "stdout",
     "output_type": "stream",
     "text": [
      "226.27779642757963\n",
      "episode 346\n"
     ]
    },
    {
     "name": "stderr",
     "output_type": "stream",
     "text": [
      "\r\n",
      " 35%|###4      | 346/1000 [3:50:52<3:26:21, 18.93s/episodes]"
     ]
    },
    {
     "name": "stdout",
     "output_type": "stream",
     "text": [
      "277.60009486854153\n",
      "episode 347\n"
     ]
    },
    {
     "name": "stderr",
     "output_type": "stream",
     "text": [
      "\r\n",
      " 35%|###4      | 347/1000 [3:51:17<3:45:43, 20.74s/episodes]"
     ]
    },
    {
     "name": "stdout",
     "output_type": "stream",
     "text": [
      "228.9190012336057\n",
      "episode 348\n"
     ]
    },
    {
     "name": "stderr",
     "output_type": "stream",
     "text": [
      "\r\n",
      " 35%|###4      | 348/1000 [3:52:11<5:35:15, 30.85s/episodes]"
     ]
    },
    {
     "name": "stdout",
     "output_type": "stream",
     "text": [
      "298.5171244891183\n",
      "episode 349\n"
     ]
    },
    {
     "name": "stderr",
     "output_type": "stream",
     "text": [
      "\r\n",
      " 35%|###4      | 349/1000 [3:52:22<4:29:05, 24.80s/episodes]"
     ]
    },
    {
     "name": "stdout",
     "output_type": "stream",
     "text": [
      "-7.1978366899005835\n",
      "episode 350\n"
     ]
    },
    {
     "name": "stderr",
     "output_type": "stream",
     "text": [
      "\r\n",
      " 35%|###5      | 350/1000 [3:52:39<4:04:17, 22.55s/episodes]"
     ]
    },
    {
     "name": "stdout",
     "output_type": "stream",
     "text": [
      "199.69263224227166\n",
      "episode 351\n"
     ]
    },
    {
     "name": "stderr",
     "output_type": "stream",
     "text": [
      "\r\n",
      " 35%|###5      | 351/1000 [3:52:59<3:53:59, 21.63s/episodes]"
     ]
    },
    {
     "name": "stdout",
     "output_type": "stream",
     "text": [
      "268.54475423412805\n",
      "episode 352\n"
     ]
    },
    {
     "name": "stderr",
     "output_type": "stream",
     "text": [
      "\r\n",
      " 35%|###5      | 352/1000 [3:54:23<7:17:05, 40.47s/episodes]"
     ]
    },
    {
     "name": "stdout",
     "output_type": "stream",
     "text": [
      "68.25770387768785\n",
      "episode 353\n"
     ]
    },
    {
     "name": "stderr",
     "output_type": "stream",
     "text": [
      "\r\n",
      " 35%|###5      | 353/1000 [3:54:35<5:43:44, 31.88s/episodes]"
     ]
    },
    {
     "name": "stdout",
     "output_type": "stream",
     "text": [
      "251.07139008815238\n",
      "episode 354\n"
     ]
    },
    {
     "name": "stderr",
     "output_type": "stream",
     "text": [
      "\r\n",
      " 35%|###5      | 354/1000 [3:54:50<4:48:50, 26.83s/episodes]"
     ]
    },
    {
     "name": "stdout",
     "output_type": "stream",
     "text": [
      "295.0917394707468\n",
      "episode 355\n"
     ]
    },
    {
     "name": "stderr",
     "output_type": "stream",
     "text": [
      "\r\n",
      " 36%|###5      | 355/1000 [3:55:06<4:14:09, 23.64s/episodes]"
     ]
    },
    {
     "name": "stdout",
     "output_type": "stream",
     "text": [
      "295.10326125649703\n",
      "episode 356\n"
     ]
    },
    {
     "name": "stderr",
     "output_type": "stream",
     "text": [
      "\r\n",
      " 36%|###5      | 356/1000 [3:55:43<4:54:04, 27.40s/episodes]"
     ]
    },
    {
     "name": "stdout",
     "output_type": "stream",
     "text": [
      "249.194671090879\n",
      "episode 357\n"
     ]
    },
    {
     "name": "stderr",
     "output_type": "stream",
     "text": [
      "\r\n",
      " 36%|###5      | 357/1000 [3:56:01<4:23:13, 24.56s/episodes]"
     ]
    },
    {
     "name": "stdout",
     "output_type": "stream",
     "text": [
      "300.4349079108024\n",
      "episode 358\n"
     ]
    },
    {
     "name": "stderr",
     "output_type": "stream",
     "text": [
      "\r\n",
      " 36%|###5      | 358/1000 [3:56:38<5:04:30, 28.46s/episodes]"
     ]
    },
    {
     "name": "stdout",
     "output_type": "stream",
     "text": [
      "238.96085510660254\n",
      "episode 359\n"
     ]
    },
    {
     "name": "stderr",
     "output_type": "stream",
     "text": [
      "\r\n",
      " 36%|###5      | 359/1000 [3:56:57<4:32:47, 25.53s/episodes]"
     ]
    },
    {
     "name": "stdout",
     "output_type": "stream",
     "text": [
      "282.7809643865219\n",
      "episode 360\n"
     ]
    },
    {
     "name": "stderr",
     "output_type": "stream",
     "text": [
      "\r\n",
      " 36%|###6      | 360/1000 [3:57:14<4:07:05, 23.16s/episodes]"
     ]
    },
    {
     "name": "stdout",
     "output_type": "stream",
     "text": [
      "244.77181102556744\n",
      "episode 361\n"
     ]
    },
    {
     "name": "stderr",
     "output_type": "stream",
     "text": [
      "\r\n",
      " 36%|###6      | 361/1000 [3:57:31<3:44:35, 21.09s/episodes]"
     ]
    },
    {
     "name": "stdout",
     "output_type": "stream",
     "text": [
      "250.58975716023411\n",
      "episode 362\n"
     ]
    },
    {
     "name": "stderr",
     "output_type": "stream",
     "text": [
      "\r\n",
      " 36%|###6      | 362/1000 [3:58:57<7:12:39, 40.69s/episodes]"
     ]
    },
    {
     "name": "stdout",
     "output_type": "stream",
     "text": [
      "58.8593683278474\n",
      "episode 363\n"
     ]
    },
    {
     "name": "stderr",
     "output_type": "stream",
     "text": [
      "\r\n",
      " 36%|###6      | 363/1000 [3:59:17<6:07:09, 34.58s/episodes]"
     ]
    },
    {
     "name": "stdout",
     "output_type": "stream",
     "text": [
      "223.97981009800827\n",
      "episode 364\n"
     ]
    },
    {
     "name": "stderr",
     "output_type": "stream",
     "text": [
      "\r\n",
      " 36%|###6      | 364/1000 [3:59:29<4:52:42, 27.61s/episodes]"
     ]
    },
    {
     "name": "stdout",
     "output_type": "stream",
     "text": [
      "14.818824600627877\n",
      "episode 365\n"
     ]
    },
    {
     "name": "stderr",
     "output_type": "stream",
     "text": [
      "\r\n",
      " 36%|###6      | 365/1000 [3:59:53<4:42:43, 26.71s/episodes]"
     ]
    },
    {
     "name": "stdout",
     "output_type": "stream",
     "text": [
      "273.3273962472665\n",
      "episode 366\n"
     ]
    },
    {
     "name": "stderr",
     "output_type": "stream",
     "text": [
      "\r\n",
      " 37%|###6      | 366/1000 [4:00:12<4:16:37, 24.29s/episodes]"
     ]
    },
    {
     "name": "stdout",
     "output_type": "stream",
     "text": [
      "289.00268801942786\n",
      "episode 367\n"
     ]
    },
    {
     "name": "stderr",
     "output_type": "stream",
     "text": [
      "\r\n",
      " 37%|###6      | 367/1000 [4:01:05<5:46:52, 32.88s/episodes]"
     ]
    },
    {
     "name": "stdout",
     "output_type": "stream",
     "text": [
      "159.36063981578184\n",
      "episode 368\n"
     ]
    },
    {
     "name": "stderr",
     "output_type": "stream",
     "text": [
      "\r\n",
      " 37%|###6      | 368/1000 [4:02:11<7:30:14, 42.74s/episodes]"
     ]
    },
    {
     "name": "stdout",
     "output_type": "stream",
     "text": [
      "169.72331791643404\n",
      "episode 369\n"
     ]
    },
    {
     "name": "stderr",
     "output_type": "stream",
     "text": [
      "\r\n",
      " 37%|###6      | 369/1000 [4:02:35<6:30:00, 37.08s/episodes]"
     ]
    },
    {
     "name": "stdout",
     "output_type": "stream",
     "text": [
      "-40.39350534915976\n",
      "episode 370\n"
     ]
    },
    {
     "name": "stderr",
     "output_type": "stream",
     "text": [
      "\r\n",
      " 37%|###7      | 370/1000 [4:02:51<5:25:39, 31.02s/episodes]"
     ]
    },
    {
     "name": "stdout",
     "output_type": "stream",
     "text": [
      "272.244856154561\n",
      "episode 371\n"
     ]
    },
    {
     "name": "stderr",
     "output_type": "stream",
     "text": [
      "\r\n",
      " 37%|###7      | 371/1000 [4:03:10<4:46:58, 27.37s/episodes]"
     ]
    },
    {
     "name": "stdout",
     "output_type": "stream",
     "text": [
      "248.02523232145109\n",
      "episode 372\n"
     ]
    },
    {
     "name": "stderr",
     "output_type": "stream",
     "text": [
      "\r\n",
      " 37%|###7      | 372/1000 [4:03:24<4:02:13, 23.14s/episodes]"
     ]
    },
    {
     "name": "stdout",
     "output_type": "stream",
     "text": [
      "255.1058758477165\n",
      "episode 373\n"
     ]
    },
    {
     "name": "stderr",
     "output_type": "stream",
     "text": [
      "\r\n",
      " 37%|###7      | 373/1000 [4:04:10<5:14:17, 30.08s/episodes]"
     ]
    },
    {
     "name": "stdout",
     "output_type": "stream",
     "text": [
      "241.48503174929368\n",
      "episode 374\n"
     ]
    },
    {
     "name": "stderr",
     "output_type": "stream",
     "text": [
      "\r\n",
      " 37%|###7      | 374/1000 [4:04:26<4:29:32, 25.84s/episodes]"
     ]
    },
    {
     "name": "stdout",
     "output_type": "stream",
     "text": [
      "213.89665136950566\n",
      "episode 375\n"
     ]
    },
    {
     "name": "stderr",
     "output_type": "stream",
     "text": [
      "\r\n",
      " 38%|###7      | 375/1000 [4:04:38<3:45:43, 21.67s/episodes]"
     ]
    },
    {
     "name": "stdout",
     "output_type": "stream",
     "text": [
      "-91.68981384181004\n",
      "episode 376\n"
     ]
    },
    {
     "name": "stderr",
     "output_type": "stream",
     "text": [
      "\r\n",
      " 38%|###7      | 376/1000 [4:05:36<5:39:11, 32.62s/episodes]"
     ]
    },
    {
     "name": "stdout",
     "output_type": "stream",
     "text": [
      "214.12450229379246\n",
      "episode 377\n"
     ]
    },
    {
     "name": "stderr",
     "output_type": "stream",
     "text": [
      "\r\n",
      " 38%|###7      | 377/1000 [4:06:33<6:55:04, 39.98s/episodes]"
     ]
    },
    {
     "name": "stdout",
     "output_type": "stream",
     "text": [
      "167.98080632078626\n",
      "episode 378\n"
     ]
    },
    {
     "name": "stderr",
     "output_type": "stream",
     "text": [
      "\r\n",
      " 38%|###7      | 378/1000 [4:06:50<5:43:38, 33.15s/episodes]"
     ]
    },
    {
     "name": "stdout",
     "output_type": "stream",
     "text": [
      "-35.5750553039113\n",
      "episode 379\n"
     ]
    },
    {
     "name": "stderr",
     "output_type": "stream",
     "text": [
      "\r\n",
      " 38%|###7      | 379/1000 [4:07:22<5:37:24, 32.60s/episodes]"
     ]
    },
    {
     "name": "stdout",
     "output_type": "stream",
     "text": [
      "240.1008155432477\n",
      "episode 380\n"
     ]
    },
    {
     "name": "stderr",
     "output_type": "stream",
     "text": [
      "\r\n",
      " 38%|###8      | 380/1000 [4:08:01<5:59:05, 34.75s/episodes]"
     ]
    },
    {
     "name": "stdout",
     "output_type": "stream",
     "text": [
      "255.1732748822693\n",
      "episode 381\n"
     ]
    },
    {
     "name": "stderr",
     "output_type": "stream",
     "text": [
      "\r\n",
      " 38%|###8      | 381/1000 [4:08:20<5:08:50, 29.94s/episodes]"
     ]
    },
    {
     "name": "stdout",
     "output_type": "stream",
     "text": [
      "283.5592501354826\n",
      "episode 382\n"
     ]
    },
    {
     "name": "stderr",
     "output_type": "stream",
     "text": [
      "\r\n",
      " 38%|###8      | 382/1000 [4:09:46<8:00:29, 46.65s/episodes]"
     ]
    },
    {
     "name": "stdout",
     "output_type": "stream",
     "text": [
      "-119.56651339681905\n",
      "episode 383\n"
     ]
    },
    {
     "name": "stderr",
     "output_type": "stream",
     "text": [
      "\r\n",
      " 38%|###8      | 383/1000 [4:10:06<6:37:23, 38.64s/episodes]"
     ]
    },
    {
     "name": "stdout",
     "output_type": "stream",
     "text": [
      "236.76926805185587\n",
      "episode 384\n"
     ]
    },
    {
     "name": "stderr",
     "output_type": "stream",
     "text": [
      "\r\n",
      " 38%|###8      | 384/1000 [4:10:28<5:45:41, 33.67s/episodes]"
     ]
    },
    {
     "name": "stdout",
     "output_type": "stream",
     "text": [
      "289.81765334884864\n",
      "episode 385\n"
     ]
    },
    {
     "name": "stderr",
     "output_type": "stream",
     "text": [
      "\r\n",
      " 38%|###8      | 385/1000 [4:11:10<6:10:36, 36.16s/episodes]"
     ]
    },
    {
     "name": "stdout",
     "output_type": "stream",
     "text": [
      "289.9821792026871\n",
      "episode 386\n"
     ]
    },
    {
     "name": "stderr",
     "output_type": "stream",
     "text": [
      "\r\n",
      " 39%|###8      | 386/1000 [4:11:24<5:02:57, 29.61s/episodes]"
     ]
    },
    {
     "name": "stdout",
     "output_type": "stream",
     "text": [
      "271.98054408911537\n",
      "episode 387\n"
     ]
    },
    {
     "name": "stderr",
     "output_type": "stream",
     "text": [
      "\r\n",
      " 39%|###8      | 387/1000 [4:11:42<4:27:11, 26.15s/episodes]"
     ]
    },
    {
     "name": "stdout",
     "output_type": "stream",
     "text": [
      "285.57453456577696\n",
      "episode 388\n"
     ]
    },
    {
     "name": "stderr",
     "output_type": "stream",
     "text": [
      "\r\n",
      " 39%|###8      | 388/1000 [4:11:53<3:41:04, 21.67s/episodes]"
     ]
    },
    {
     "name": "stdout",
     "output_type": "stream",
     "text": [
      "46.105628919638065\n",
      "episode 389\n"
     ]
    },
    {
     "name": "stderr",
     "output_type": "stream",
     "text": [
      "\r\n",
      " 39%|###8      | 389/1000 [4:12:15<3:40:12, 21.62s/episodes]"
     ]
    },
    {
     "name": "stdout",
     "output_type": "stream",
     "text": [
      "-230.8824560223356\n",
      "episode 390\n"
     ]
    },
    {
     "name": "stderr",
     "output_type": "stream",
     "text": [
      "\r\n",
      " 39%|###9      | 390/1000 [4:12:38<3:44:18, 22.06s/episodes]"
     ]
    },
    {
     "name": "stdout",
     "output_type": "stream",
     "text": [
      "281.65354565247833\n",
      "episode 391\n"
     ]
    },
    {
     "name": "stderr",
     "output_type": "stream",
     "text": [
      "\r\n",
      " 39%|###9      | 391/1000 [4:12:46<3:02:20, 17.97s/episodes]"
     ]
    },
    {
     "name": "stdout",
     "output_type": "stream",
     "text": [
      "24.208875067580635\n",
      "episode 392\n"
     ]
    },
    {
     "name": "stderr",
     "output_type": "stream",
     "text": [
      "\r\n",
      " 39%|###9      | 392/1000 [4:12:56<2:37:11, 15.51s/episodes]"
     ]
    },
    {
     "name": "stdout",
     "output_type": "stream",
     "text": [
      "-6.557151253561258\n",
      "episode 393\n"
     ]
    },
    {
     "name": "stderr",
     "output_type": "stream",
     "text": [
      "\r\n",
      " 39%|###9      | 393/1000 [4:13:35<3:46:59, 22.44s/episodes]"
     ]
    },
    {
     "name": "stdout",
     "output_type": "stream",
     "text": [
      "-228.8743161310121\n",
      "episode 394\n"
     ]
    },
    {
     "name": "stderr",
     "output_type": "stream",
     "text": [
      "\r\n",
      " 39%|###9      | 394/1000 [4:14:44<6:09:33, 36.59s/episodes]"
     ]
    },
    {
     "name": "stdout",
     "output_type": "stream",
     "text": [
      "257.99654587869725\n",
      "episode 395\n"
     ]
    },
    {
     "name": "stderr",
     "output_type": "stream",
     "text": [
      "\r\n",
      " 40%|###9      | 395/1000 [4:15:08<5:30:47, 32.81s/episodes]"
     ]
    },
    {
     "name": "stdout",
     "output_type": "stream",
     "text": [
      "190.95849352119154\n",
      "episode 396\n"
     ]
    },
    {
     "name": "stderr",
     "output_type": "stream",
     "text": [
      "\r\n",
      " 40%|###9      | 396/1000 [4:16:34<8:11:16, 48.80s/episodes]"
     ]
    },
    {
     "name": "stdout",
     "output_type": "stream",
     "text": [
      "-28.518476796102775\n",
      "episode 397\n"
     ]
    },
    {
     "name": "stderr",
     "output_type": "stream",
     "text": [
      "\r\n",
      " 40%|###9      | 397/1000 [4:17:15<7:44:42, 46.24s/episodes]"
     ]
    },
    {
     "name": "stdout",
     "output_type": "stream",
     "text": [
      "286.52129968894724\n",
      "episode 398\n"
     ]
    },
    {
     "name": "stderr",
     "output_type": "stream",
     "text": [
      "\r\n",
      " 40%|###9      | 398/1000 [4:18:39<9:39:19, 57.74s/episodes]"
     ]
    },
    {
     "name": "stdout",
     "output_type": "stream",
     "text": [
      "94.36195314533907\n",
      "episode 399\n"
     ]
    },
    {
     "name": "stderr",
     "output_type": "stream",
     "text": [
      "\r\n",
      " 40%|###9      | 399/1000 [4:19:00<7:48:04, 46.73s/episodes]"
     ]
    },
    {
     "name": "stdout",
     "output_type": "stream",
     "text": [
      "228.842561017666\n",
      "episode 400\n"
     ]
    },
    {
     "name": "stderr",
     "output_type": "stream",
     "text": [
      "\r\n",
      " 40%|####      | 400/1000 [4:19:14<6:08:41, 36.87s/episodes]"
     ]
    },
    {
     "name": "stdout",
     "output_type": "stream",
     "text": [
      "253.7584646664346\n",
      "episode 401\n"
     ]
    },
    {
     "name": "stderr",
     "output_type": "stream",
     "text": [
      "\r\n",
      " 40%|####      | 401/1000 [4:19:36<5:24:14, 32.48s/episodes]"
     ]
    },
    {
     "name": "stdout",
     "output_type": "stream",
     "text": [
      "266.31676385988703\n",
      "episode 402\n"
     ]
    },
    {
     "name": "stderr",
     "output_type": "stream",
     "text": [
      "\r\n",
      " 40%|####      | 402/1000 [4:21:01<8:00:05, 48.17s/episodes]"
     ]
    },
    {
     "name": "stdout",
     "output_type": "stream",
     "text": [
      "112.64123417184514\n",
      "episode 403\n"
     ]
    },
    {
     "name": "stderr",
     "output_type": "stream",
     "text": [
      "\r\n",
      " 40%|####      | 403/1000 [4:21:21<6:35:40, 39.77s/episodes]"
     ]
    },
    {
     "name": "stdout",
     "output_type": "stream",
     "text": [
      "264.02930166374205\n",
      "episode 404\n"
     ]
    },
    {
     "name": "stderr",
     "output_type": "stream",
     "text": [
      "\r\n",
      " 40%|####      | 404/1000 [4:21:51<6:05:32, 36.80s/episodes]"
     ]
    },
    {
     "name": "stdout",
     "output_type": "stream",
     "text": [
      "283.0332127836514\n",
      "episode 405\n"
     ]
    },
    {
     "name": "stderr",
     "output_type": "stream",
     "text": [
      "\r\n",
      " 40%|####      | 405/1000 [4:22:14<5:22:36, 32.53s/episodes]"
     ]
    },
    {
     "name": "stdout",
     "output_type": "stream",
     "text": [
      "233.65706646089683\n",
      "episode 406\n"
     ]
    },
    {
     "name": "stderr",
     "output_type": "stream",
     "text": [
      "\r\n",
      " 41%|####      | 406/1000 [4:23:38<7:54:37, 47.94s/episodes]"
     ]
    },
    {
     "name": "stdout",
     "output_type": "stream",
     "text": [
      "154.11098246192688\n",
      "episode 407\n"
     ]
    },
    {
     "name": "stderr",
     "output_type": "stream",
     "text": [
      "\r\n",
      " 41%|####      | 407/1000 [4:25:00<9:36:55, 58.37s/episodes]"
     ]
    },
    {
     "name": "stdout",
     "output_type": "stream",
     "text": [
      "189.34781462424658\n",
      "episode 408\n"
     ]
    },
    {
     "name": "stderr",
     "output_type": "stream",
     "text": [
      "\r\n",
      " 41%|####      | 408/1000 [4:25:22<7:48:11, 47.45s/episodes]"
     ]
    },
    {
     "name": "stdout",
     "output_type": "stream",
     "text": [
      "271.539902561187\n",
      "episode 409\n"
     ]
    },
    {
     "name": "stderr",
     "output_type": "stream",
     "text": [
      "\r\n",
      " 41%|####      | 409/1000 [4:26:47<9:36:56, 58.57s/episodes]"
     ]
    },
    {
     "name": "stdout",
     "output_type": "stream",
     "text": [
      "140.99237623550476\n",
      "episode 410\n"
     ]
    },
    {
     "name": "stderr",
     "output_type": "stream",
     "text": [
      "\r\n",
      " 41%|####1     | 410/1000 [4:27:00<7:22:24, 44.99s/episodes]"
     ]
    },
    {
     "name": "stdout",
     "output_type": "stream",
     "text": [
      "230.73920914168292\n",
      "episode 411\n"
     ]
    },
    {
     "name": "stderr",
     "output_type": "stream",
     "text": [
      "\r\n",
      " 41%|####1     | 411/1000 [4:27:22<6:14:32, 38.15s/episodes]"
     ]
    },
    {
     "name": "stdout",
     "output_type": "stream",
     "text": [
      "258.0787531892754\n",
      "episode 412\n"
     ]
    },
    {
     "name": "stderr",
     "output_type": "stream",
     "text": [
      "\r\n",
      " 41%|####1     | 412/1000 [4:28:07<6:34:21, 40.24s/episodes]"
     ]
    },
    {
     "name": "stdout",
     "output_type": "stream",
     "text": [
      "209.2330360852931\n",
      "episode 413\n"
     ]
    },
    {
     "name": "stderr",
     "output_type": "stream",
     "text": [
      "\r\n",
      " 41%|####1     | 413/1000 [4:29:20<8:07:35, 49.84s/episodes]"
     ]
    },
    {
     "name": "stdout",
     "output_type": "stream",
     "text": [
      "90.52963620858068\n",
      "episode 414\n"
     ]
    },
    {
     "name": "stderr",
     "output_type": "stream",
     "text": [
      "\r\n",
      " 41%|####1     | 414/1000 [4:29:57<7:29:57, 46.07s/episodes]"
     ]
    },
    {
     "name": "stdout",
     "output_type": "stream",
     "text": [
      "233.4892672215982\n",
      "episode 415\n"
     ]
    },
    {
     "name": "stderr",
     "output_type": "stream",
     "text": [
      "\r\n",
      " 42%|####1     | 415/1000 [4:30:53<7:58:43, 49.10s/episodes]"
     ]
    },
    {
     "name": "stdout",
     "output_type": "stream",
     "text": [
      "268.5296951757468\n",
      "episode 416\n"
     ]
    },
    {
     "name": "stderr",
     "output_type": "stream",
     "text": [
      "\r\n",
      " 42%|####1     | 416/1000 [4:32:19<9:46:08, 60.22s/episodes]"
     ]
    },
    {
     "name": "stdout",
     "output_type": "stream",
     "text": [
      "-4.295437774972231\n",
      "episode 417\n"
     ]
    },
    {
     "name": "stderr",
     "output_type": "stream",
     "text": [
      "\r\n",
      " 42%|####1     | 417/1000 [4:33:26<10:05:11, 62.28s/episodes]"
     ]
    },
    {
     "name": "stdout",
     "output_type": "stream",
     "text": [
      "152.8520230316482\n",
      "episode 418\n"
     ]
    },
    {
     "name": "stderr",
     "output_type": "stream",
     "text": [
      "\r\n",
      " 42%|####1     | 418/1000 [4:34:01<8:44:29, 54.07s/episodes] "
     ]
    },
    {
     "name": "stdout",
     "output_type": "stream",
     "text": [
      "212.8986080938442\n",
      "episode 419\n"
     ]
    },
    {
     "name": "stderr",
     "output_type": "stream",
     "text": [
      "\r\n",
      " 42%|####1     | 419/1000 [4:34:41<8:02:26, 49.82s/episodes]"
     ]
    },
    {
     "name": "stdout",
     "output_type": "stream",
     "text": [
      "197.33455440703233\n",
      "episode 420\n"
     ]
    },
    {
     "name": "stderr",
     "output_type": "stream",
     "text": [
      "\r\n",
      " 42%|####2     | 420/1000 [4:34:51<6:04:39, 37.72s/episodes]"
     ]
    },
    {
     "name": "stdout",
     "output_type": "stream",
     "text": [
      "24.43187733040088\n",
      "episode 421\n"
     ]
    },
    {
     "name": "stderr",
     "output_type": "stream",
     "text": [
      "\r\n",
      " 42%|####2     | 421/1000 [4:35:23<5:47:33, 36.02s/episodes]"
     ]
    },
    {
     "name": "stdout",
     "output_type": "stream",
     "text": [
      "260.7865482410666\n",
      "episode 422\n"
     ]
    },
    {
     "name": "stderr",
     "output_type": "stream",
     "text": [
      "\r\n",
      " 42%|####2     | 422/1000 [4:35:52<5:28:37, 34.11s/episodes]"
     ]
    },
    {
     "name": "stdout",
     "output_type": "stream",
     "text": [
      "254.72284786446087\n",
      "episode 423\n"
     ]
    },
    {
     "name": "stderr",
     "output_type": "stream",
     "text": [
      "\r\n",
      " 42%|####2     | 423/1000 [4:36:40<6:08:12, 38.29s/episodes]"
     ]
    },
    {
     "name": "stdout",
     "output_type": "stream",
     "text": [
      "228.8104577111207\n",
      "episode 424\n"
     ]
    },
    {
     "name": "stderr",
     "output_type": "stream",
     "text": [
      "\r\n",
      " 42%|####2     | 424/1000 [4:37:05<5:27:32, 34.12s/episodes]"
     ]
    },
    {
     "name": "stdout",
     "output_type": "stream",
     "text": [
      "233.3049512608244\n",
      "episode 425\n"
     ]
    },
    {
     "name": "stderr",
     "output_type": "stream",
     "text": [
      "\r\n",
      " 42%|####2     | 425/1000 [4:37:20<4:33:01, 28.49s/episodes]"
     ]
    },
    {
     "name": "stdout",
     "output_type": "stream",
     "text": [
      "259.0505190505306\n",
      "episode 426\n"
     ]
    },
    {
     "name": "stderr",
     "output_type": "stream",
     "text": [
      "\r\n",
      " 43%|####2     | 426/1000 [4:37:55<4:51:47, 30.50s/episodes]"
     ]
    },
    {
     "name": "stdout",
     "output_type": "stream",
     "text": [
      "271.740497784579\n",
      "episode 427\n"
     ]
    },
    {
     "name": "stderr",
     "output_type": "stream",
     "text": [
      "\r\n",
      " 43%|####2     | 427/1000 [4:38:10<4:06:44, 25.84s/episodes]"
     ]
    },
    {
     "name": "stdout",
     "output_type": "stream",
     "text": [
      "270.1670196910056\n",
      "episode 428\n"
     ]
    },
    {
     "name": "stderr",
     "output_type": "stream",
     "text": [
      "\r\n",
      " 43%|####2     | 428/1000 [4:38:36<4:04:53, 25.69s/episodes]"
     ]
    },
    {
     "name": "stdout",
     "output_type": "stream",
     "text": [
      "312.9695303333219\n",
      "episode 429\n"
     ]
    },
    {
     "name": "stderr",
     "output_type": "stream",
     "text": [
      "\r\n",
      " 43%|####2     | 429/1000 [4:38:56<3:47:53, 23.95s/episodes]"
     ]
    },
    {
     "name": "stdout",
     "output_type": "stream",
     "text": [
      "313.479584443586\n",
      "episode 430\n"
     ]
    },
    {
     "name": "stderr",
     "output_type": "stream",
     "text": [
      "\r\n",
      " 43%|####3     | 430/1000 [4:39:11<3:21:58, 21.26s/episodes]"
     ]
    },
    {
     "name": "stdout",
     "output_type": "stream",
     "text": [
      "269.2291209424075\n",
      "episode 431\n"
     ]
    },
    {
     "name": "stderr",
     "output_type": "stream",
     "text": [
      "\r\n",
      " 43%|####3     | 431/1000 [4:39:28<3:12:00, 20.25s/episodes]"
     ]
    },
    {
     "name": "stdout",
     "output_type": "stream",
     "text": [
      "249.37969506252375\n",
      "episode 432\n"
     ]
    },
    {
     "name": "stderr",
     "output_type": "stream",
     "text": [
      "\r\n",
      " 43%|####3     | 432/1000 [4:39:42<2:53:40, 18.35s/episodes]"
     ]
    },
    {
     "name": "stdout",
     "output_type": "stream",
     "text": [
      "243.11009004446421\n",
      "episode 433\n"
     ]
    },
    {
     "name": "stderr",
     "output_type": "stream",
     "text": [
      "\r\n",
      " 43%|####3     | 433/1000 [4:40:02<2:56:05, 18.63s/episodes]"
     ]
    },
    {
     "name": "stdout",
     "output_type": "stream",
     "text": [
      "284.8499026727942\n",
      "episode 434\n"
     ]
    },
    {
     "name": "stderr",
     "output_type": "stream",
     "text": [
      "\r\n",
      " 43%|####3     | 434/1000 [4:40:23<3:03:56, 19.50s/episodes]"
     ]
    },
    {
     "name": "stdout",
     "output_type": "stream",
     "text": [
      "252.51938575668353\n",
      "episode 435\n"
     ]
    },
    {
     "name": "stderr",
     "output_type": "stream",
     "text": [
      "\r\n",
      " 44%|####3     | 435/1000 [4:41:14<4:31:59, 28.88s/episodes]"
     ]
    },
    {
     "name": "stdout",
     "output_type": "stream",
     "text": [
      "-126.25060735167371\n",
      "episode 436\n"
     ]
    },
    {
     "name": "stderr",
     "output_type": "stream",
     "text": [
      "\r\n",
      " 44%|####3     | 436/1000 [4:41:36<4:11:14, 26.73s/episodes]"
     ]
    },
    {
     "name": "stdout",
     "output_type": "stream",
     "text": [
      "248.6876674189035\n",
      "episode 437\n"
     ]
    },
    {
     "name": "stderr",
     "output_type": "stream",
     "text": [
      "\r\n",
      " 44%|####3     | 437/1000 [4:41:53<3:43:16, 23.79s/episodes]"
     ]
    },
    {
     "name": "stdout",
     "output_type": "stream",
     "text": [
      "63.27284642297573\n",
      "episode 438\n"
     ]
    },
    {
     "name": "stderr",
     "output_type": "stream",
     "text": [
      "\r\n",
      " 44%|####3     | 438/1000 [4:42:21<3:56:47, 25.28s/episodes]"
     ]
    },
    {
     "name": "stdout",
     "output_type": "stream",
     "text": [
      "280.24856890940407\n",
      "episode 439\n"
     ]
    },
    {
     "name": "stderr",
     "output_type": "stream",
     "text": [
      "\r\n",
      " 44%|####3     | 439/1000 [4:42:31<3:12:37, 20.60s/episodes]"
     ]
    },
    {
     "name": "stdout",
     "output_type": "stream",
     "text": [
      "45.11149660607552\n",
      "episode 440\n"
     ]
    },
    {
     "name": "stderr",
     "output_type": "stream",
     "text": [
      "\r\n",
      " 44%|####4     | 440/1000 [4:42:57<3:26:54, 22.17s/episodes]"
     ]
    },
    {
     "name": "stdout",
     "output_type": "stream",
     "text": [
      "281.87286812965647\n",
      "episode 441\n"
     ]
    },
    {
     "name": "stderr",
     "output_type": "stream",
     "text": [
      "\r\n",
      " 44%|####4     | 441/1000 [4:43:27<3:49:51, 24.67s/episodes]"
     ]
    },
    {
     "name": "stdout",
     "output_type": "stream",
     "text": [
      "247.04132238629572\n",
      "episode 442\n"
     ]
    },
    {
     "name": "stderr",
     "output_type": "stream",
     "text": [
      "\r\n",
      " 44%|####4     | 442/1000 [4:43:43<3:24:17, 21.97s/episodes]"
     ]
    },
    {
     "name": "stdout",
     "output_type": "stream",
     "text": [
      "259.78213613094385\n",
      "episode 443\n"
     ]
    },
    {
     "name": "stderr",
     "output_type": "stream",
     "text": [
      "\r\n",
      " 44%|####4     | 443/1000 [4:44:01<3:13:18, 20.82s/episodes]"
     ]
    },
    {
     "name": "stdout",
     "output_type": "stream",
     "text": [
      "261.2006215240705\n",
      "episode 444\n"
     ]
    },
    {
     "name": "stderr",
     "output_type": "stream",
     "text": [
      "\r\n",
      " 44%|####4     | 444/1000 [4:44:10<2:40:27, 17.31s/episodes]"
     ]
    },
    {
     "name": "stdout",
     "output_type": "stream",
     "text": [
      "31.10319170234186\n",
      "episode 445\n"
     ]
    },
    {
     "name": "stderr",
     "output_type": "stream",
     "text": [
      "\r\n",
      " 44%|####4     | 445/1000 [4:44:21<2:21:23, 15.29s/episodes]"
     ]
    },
    {
     "name": "stdout",
     "output_type": "stream",
     "text": [
      "30.448434130952194\n",
      "episode 446\n"
     ]
    },
    {
     "name": "stderr",
     "output_type": "stream",
     "text": [
      "\r\n",
      " 45%|####4     | 446/1000 [4:44:42<2:36:26, 16.94s/episodes]"
     ]
    },
    {
     "name": "stdout",
     "output_type": "stream",
     "text": [
      "317.95528962551566\n",
      "episode 447\n"
     ]
    },
    {
     "name": "stderr",
     "output_type": "stream",
     "text": [
      "\r\n",
      " 45%|####4     | 447/1000 [4:44:51<2:16:06, 14.77s/episodes]"
     ]
    },
    {
     "name": "stdout",
     "output_type": "stream",
     "text": [
      "54.78176855582191\n",
      "episode 448\n"
     ]
    },
    {
     "name": "stderr",
     "output_type": "stream",
     "text": [
      "\r\n",
      " 45%|####4     | 448/1000 [4:45:06<2:16:43, 14.86s/episodes]"
     ]
    },
    {
     "name": "stdout",
     "output_type": "stream",
     "text": [
      "258.77779059744546\n",
      "episode 449\n"
     ]
    },
    {
     "name": "stderr",
     "output_type": "stream",
     "text": [
      "\r\n",
      " 45%|####4     | 449/1000 [4:45:14<1:57:34, 12.80s/episodes]"
     ]
    },
    {
     "name": "stdout",
     "output_type": "stream",
     "text": [
      "54.86167952303421\n",
      "episode 450\n"
     ]
    },
    {
     "name": "stderr",
     "output_type": "stream",
     "text": [
      "\r\n",
      " 45%|####5     | 450/1000 [4:46:38<5:12:34, 34.10s/episodes]"
     ]
    },
    {
     "name": "stdout",
     "output_type": "stream",
     "text": [
      "134.0813270684098\n",
      "episode 451\n"
     ]
    },
    {
     "name": "stderr",
     "output_type": "stream",
     "text": [
      "\r\n",
      " 45%|####5     | 451/1000 [4:48:04<7:34:58, 49.72s/episodes]"
     ]
    },
    {
     "name": "stdout",
     "output_type": "stream",
     "text": [
      "-9.918558737304004\n",
      "episode 452\n"
     ]
    },
    {
     "name": "stderr",
     "output_type": "stream",
     "text": [
      "\r\n",
      " 45%|####5     | 452/1000 [4:48:22<6:06:51, 40.17s/episodes]"
     ]
    },
    {
     "name": "stdout",
     "output_type": "stream",
     "text": [
      "264.74960006824466\n",
      "episode 453\n"
     ]
    },
    {
     "name": "stderr",
     "output_type": "stream",
     "text": [
      "\r\n",
      " 45%|####5     | 453/1000 [4:48:59<5:56:25, 39.10s/episodes]"
     ]
    },
    {
     "name": "stdout",
     "output_type": "stream",
     "text": [
      "261.3445403301017\n",
      "episode 454\n"
     ]
    },
    {
     "name": "stderr",
     "output_type": "stream",
     "text": [
      "\r\n",
      " 45%|####5     | 454/1000 [4:49:08<4:34:16, 30.14s/episodes]"
     ]
    },
    {
     "name": "stdout",
     "output_type": "stream",
     "text": [
      "25.999343461767808\n",
      "episode 455\n"
     ]
    },
    {
     "name": "stderr",
     "output_type": "stream",
     "text": [
      "\r\n",
      " 46%|####5     | 455/1000 [4:49:27<4:01:50, 26.62s/episodes]"
     ]
    },
    {
     "name": "stdout",
     "output_type": "stream",
     "text": [
      "253.85864673088335\n",
      "episode 456\n"
     ]
    },
    {
     "name": "stderr",
     "output_type": "stream",
     "text": [
      "\r\n",
      " 46%|####5     | 456/1000 [4:50:24<5:25:29, 35.90s/episodes]"
     ]
    },
    {
     "name": "stdout",
     "output_type": "stream",
     "text": [
      "222.18690398448913\n",
      "episode 457\n"
     ]
    },
    {
     "name": "stderr",
     "output_type": "stream",
     "text": [
      "\r\n",
      " 46%|####5     | 457/1000 [4:50:42<4:34:53, 30.37s/episodes]"
     ]
    },
    {
     "name": "stdout",
     "output_type": "stream",
     "text": [
      "276.65227798159816\n",
      "episode 458\n"
     ]
    },
    {
     "name": "stderr",
     "output_type": "stream",
     "text": [
      "\r\n",
      " 46%|####5     | 458/1000 [4:51:04<4:11:51, 27.88s/episodes]"
     ]
    },
    {
     "name": "stdout",
     "output_type": "stream",
     "text": [
      "288.19426153864663\n",
      "episode 459\n"
     ]
    },
    {
     "name": "stderr",
     "output_type": "stream",
     "text": [
      "\r\n",
      " 46%|####5     | 459/1000 [4:51:28<4:01:53, 26.83s/episodes]"
     ]
    },
    {
     "name": "stdout",
     "output_type": "stream",
     "text": [
      "250.58300114599615\n",
      "episode 460\n"
     ]
    },
    {
     "name": "stderr",
     "output_type": "stream",
     "text": [
      "\r\n",
      " 46%|####6     | 460/1000 [4:52:01<4:18:59, 28.78s/episodes]"
     ]
    },
    {
     "name": "stdout",
     "output_type": "stream",
     "text": [
      "261.57053021748146\n",
      "episode 461\n"
     ]
    },
    {
     "name": "stderr",
     "output_type": "stream",
     "text": [
      "\r\n",
      " 46%|####6     | 461/1000 [4:52:24<4:00:57, 26.82s/episodes]"
     ]
    },
    {
     "name": "stdout",
     "output_type": "stream",
     "text": [
      "288.5637536058041\n",
      "episode 462\n"
     ]
    },
    {
     "name": "stderr",
     "output_type": "stream",
     "text": [
      "\r\n",
      " 46%|####6     | 462/1000 [4:52:40<3:33:40, 23.83s/episodes]"
     ]
    },
    {
     "name": "stdout",
     "output_type": "stream",
     "text": [
      "265.8731826086174\n",
      "episode 463\n"
     ]
    },
    {
     "name": "stderr",
     "output_type": "stream",
     "text": [
      "\r\n",
      " 46%|####6     | 463/1000 [4:53:03<3:30:48, 23.55s/episodes]"
     ]
    },
    {
     "name": "stdout",
     "output_type": "stream",
     "text": [
      "306.0381036543365\n",
      "episode 464\n"
     ]
    },
    {
     "name": "stderr",
     "output_type": "stream",
     "text": [
      "\r\n",
      " 46%|####6     | 464/1000 [4:53:19<3:07:55, 21.04s/episodes]"
     ]
    },
    {
     "name": "stdout",
     "output_type": "stream",
     "text": [
      "261.524063972971\n",
      "episode 465\n"
     ]
    },
    {
     "name": "stderr",
     "output_type": "stream",
     "text": [
      "\r\n",
      " 46%|####6     | 465/1000 [4:54:45<6:02:36, 40.67s/episodes]"
     ]
    },
    {
     "name": "stdout",
     "output_type": "stream",
     "text": [
      "-65.82866375449078\n",
      "episode 466\n"
     ]
    },
    {
     "name": "stderr",
     "output_type": "stream",
     "text": [
      "\r\n",
      " 47%|####6     | 466/1000 [4:55:26<6:01:38, 40.63s/episodes]"
     ]
    },
    {
     "name": "stdout",
     "output_type": "stream",
     "text": [
      "-81.30976210430924\n",
      "episode 467\n"
     ]
    },
    {
     "name": "stderr",
     "output_type": "stream",
     "text": [
      "\r\n",
      " 47%|####6     | 467/1000 [4:55:54<5:27:44, 36.89s/episodes]"
     ]
    },
    {
     "name": "stdout",
     "output_type": "stream",
     "text": [
      "245.09809196208317\n",
      "episode 468\n"
     ]
    },
    {
     "name": "stderr",
     "output_type": "stream",
     "text": [
      "\r\n",
      " 47%|####6     | 468/1000 [4:57:18<7:34:21, 51.24s/episodes]"
     ]
    },
    {
     "name": "stdout",
     "output_type": "stream",
     "text": [
      "-57.372842975004744\n",
      "episode 469\n"
     ]
    },
    {
     "name": "stderr",
     "output_type": "stream",
     "text": [
      "\r\n",
      " 47%|####6     | 469/1000 [4:57:44<6:25:10, 43.52s/episodes]"
     ]
    },
    {
     "name": "stdout",
     "output_type": "stream",
     "text": [
      "245.07372962057852\n",
      "episode 470\n"
     ]
    },
    {
     "name": "stderr",
     "output_type": "stream",
     "text": [
      "\r\n",
      " 47%|####6     | 470/1000 [4:59:09<8:14:57, 56.03s/episodes]"
     ]
    },
    {
     "name": "stdout",
     "output_type": "stream",
     "text": [
      "23.435868310184944\n",
      "episode 471\n"
     ]
    },
    {
     "name": "stderr",
     "output_type": "stream",
     "text": [
      "\r\n",
      " 47%|####7     | 471/1000 [4:59:32<6:46:46, 46.14s/episodes]"
     ]
    },
    {
     "name": "stdout",
     "output_type": "stream",
     "text": [
      "282.5778991358874\n",
      "episode 472\n"
     ]
    },
    {
     "name": "stderr",
     "output_type": "stream",
     "text": [
      "\r\n",
      " 47%|####7     | 472/1000 [4:59:50<5:32:24, 37.77s/episodes]"
     ]
    },
    {
     "name": "stdout",
     "output_type": "stream",
     "text": [
      "254.77429061230487\n",
      "episode 473\n"
     ]
    },
    {
     "name": "stderr",
     "output_type": "stream",
     "text": [
      "\r\n",
      " 47%|####7     | 473/1000 [5:00:12<4:49:07, 32.92s/episodes]"
     ]
    },
    {
     "name": "stdout",
     "output_type": "stream",
     "text": [
      "249.00091378598924\n",
      "episode 474\n"
     ]
    },
    {
     "name": "stderr",
     "output_type": "stream",
     "text": [
      "\r\n",
      " 47%|####7     | 474/1000 [5:00:40<4:34:20, 31.29s/episodes]"
     ]
    },
    {
     "name": "stdout",
     "output_type": "stream",
     "text": [
      "271.22940427114736\n",
      "episode 475\n"
     ]
    },
    {
     "name": "stderr",
     "output_type": "stream",
     "text": [
      "\r\n",
      " 48%|####7     | 475/1000 [5:00:56<3:54:08, 26.76s/episodes]"
     ]
    },
    {
     "name": "stdout",
     "output_type": "stream",
     "text": [
      "284.49527791147256\n",
      "episode 476\n"
     ]
    },
    {
     "name": "stderr",
     "output_type": "stream",
     "text": [
      "\r\n",
      " 48%|####7     | 476/1000 [5:01:40<4:40:11, 32.08s/episodes]"
     ]
    },
    {
     "name": "stdout",
     "output_type": "stream",
     "text": [
      "178.83887664556852\n",
      "episode 477\n"
     ]
    },
    {
     "name": "stderr",
     "output_type": "stream",
     "text": [
      "\r\n",
      " 48%|####7     | 477/1000 [5:01:55<3:54:43, 26.93s/episodes]"
     ]
    },
    {
     "name": "stdout",
     "output_type": "stream",
     "text": [
      "308.86567980124505\n",
      "episode 478\n"
     ]
    },
    {
     "name": "stderr",
     "output_type": "stream",
     "text": [
      "\r\n",
      " 48%|####7     | 478/1000 [5:02:21<3:50:19, 26.47s/episodes]"
     ]
    },
    {
     "name": "stdout",
     "output_type": "stream",
     "text": [
      "237.09624839145508\n",
      "episode 479\n"
     ]
    },
    {
     "name": "stderr",
     "output_type": "stream",
     "text": [
      "\r\n",
      " 48%|####7     | 479/1000 [5:03:12<4:53:56, 33.85s/episodes]"
     ]
    },
    {
     "name": "stdout",
     "output_type": "stream",
     "text": [
      "240.5637653852887\n",
      "episode 480\n"
     ]
    },
    {
     "name": "stderr",
     "output_type": "stream",
     "text": [
      "\r\n",
      " 48%|####8     | 480/1000 [5:03:45<4:51:45, 33.66s/episodes]"
     ]
    },
    {
     "name": "stdout",
     "output_type": "stream",
     "text": [
      "239.2355280195981\n",
      "episode 481\n"
     ]
    },
    {
     "name": "stderr",
     "output_type": "stream",
     "text": [
      "\r\n",
      " 48%|####8     | 481/1000 [5:05:02<6:44:34, 46.77s/episodes]"
     ]
    },
    {
     "name": "stdout",
     "output_type": "stream",
     "text": [
      "154.75025376557429\n",
      "episode 482\n"
     ]
    },
    {
     "name": "stderr",
     "output_type": "stream",
     "text": [
      "\r\n",
      " 48%|####8     | 482/1000 [5:05:17<5:19:40, 37.03s/episodes]"
     ]
    },
    {
     "name": "stdout",
     "output_type": "stream",
     "text": [
      "292.84650933935495\n",
      "episode 483\n"
     ]
    },
    {
     "name": "stderr",
     "output_type": "stream",
     "text": [
      "\r\n",
      " 48%|####8     | 483/1000 [5:05:26<4:07:08, 28.68s/episodes]"
     ]
    },
    {
     "name": "stdout",
     "output_type": "stream",
     "text": [
      "-4.080879057445145\n",
      "episode 484\n"
     ]
    },
    {
     "name": "stderr",
     "output_type": "stream",
     "text": [
      "\r\n",
      " 48%|####8     | 484/1000 [5:05:37<3:21:47, 23.46s/episodes]"
     ]
    },
    {
     "name": "stdout",
     "output_type": "stream",
     "text": [
      "268.4701751193145\n",
      "episode 485\n"
     ]
    },
    {
     "name": "stderr",
     "output_type": "stream",
     "text": [
      "\r\n",
      " 48%|####8     | 485/1000 [5:05:45<2:40:22, 18.68s/episodes]"
     ]
    },
    {
     "name": "stdout",
     "output_type": "stream",
     "text": [
      "59.898208750545024\n",
      "episode 486\n"
     ]
    },
    {
     "name": "stderr",
     "output_type": "stream",
     "text": [
      "\r\n",
      " 49%|####8     | 486/1000 [5:06:05<2:44:27, 19.20s/episodes]"
     ]
    },
    {
     "name": "stdout",
     "output_type": "stream",
     "text": [
      "237.85888908781433\n",
      "episode 487\n"
     ]
    },
    {
     "name": "stderr",
     "output_type": "stream",
     "text": [
      "\r\n",
      " 49%|####8     | 487/1000 [5:06:13<2:14:20, 15.71s/episodes]"
     ]
    },
    {
     "name": "stdout",
     "output_type": "stream",
     "text": [
      "78.98826857252223\n",
      "episode 488\n"
     ]
    },
    {
     "name": "stderr",
     "output_type": "stream",
     "text": [
      "\r\n",
      " 49%|####8     | 488/1000 [5:06:27<2:12:10, 15.49s/episodes]"
     ]
    },
    {
     "name": "stdout",
     "output_type": "stream",
     "text": [
      "261.8402754762857\n",
      "episode 489\n"
     ]
    },
    {
     "name": "stderr",
     "output_type": "stream",
     "text": [
      "\r\n",
      " 49%|####8     | 489/1000 [5:06:41<2:07:23, 14.96s/episodes]"
     ]
    },
    {
     "name": "stdout",
     "output_type": "stream",
     "text": [
      "262.5268364712325\n",
      "episode 490\n"
     ]
    },
    {
     "name": "stderr",
     "output_type": "stream",
     "text": [
      "\r\n",
      " 49%|####9     | 490/1000 [5:06:48<1:47:15, 12.62s/episodes]"
     ]
    },
    {
     "name": "stdout",
     "output_type": "stream",
     "text": [
      "71.78219925810981\n",
      "episode 491\n"
     ]
    },
    {
     "name": "stderr",
     "output_type": "stream",
     "text": [
      "\r\n",
      " 49%|####9     | 491/1000 [5:07:04<1:54:44, 13.53s/episodes]"
     ]
    },
    {
     "name": "stdout",
     "output_type": "stream",
     "text": [
      "260.2253513498674\n",
      "episode 492\n"
     ]
    },
    {
     "name": "stderr",
     "output_type": "stream",
     "text": [
      "\r\n",
      " 49%|####9     | 492/1000 [5:07:26<2:14:45, 15.92s/episodes]"
     ]
    },
    {
     "name": "stdout",
     "output_type": "stream",
     "text": [
      "240.18492751963336\n",
      "episode 493\n"
     ]
    },
    {
     "name": "stderr",
     "output_type": "stream",
     "text": [
      "\r\n",
      " 49%|####9     | 493/1000 [5:07:52<2:41:07, 19.07s/episodes]"
     ]
    },
    {
     "name": "stdout",
     "output_type": "stream",
     "text": [
      "260.28501331452907\n",
      "episode 494\n"
     ]
    },
    {
     "name": "stderr",
     "output_type": "stream",
     "text": [
      "\r\n",
      " 49%|####9     | 494/1000 [5:08:02<2:17:42, 16.33s/episodes]"
     ]
    },
    {
     "name": "stdout",
     "output_type": "stream",
     "text": [
      "6.420034683715798\n",
      "episode 495\n"
     ]
    },
    {
     "name": "stderr",
     "output_type": "stream",
     "text": [
      "\r\n",
      " 50%|####9     | 495/1000 [5:08:11<1:59:35, 14.21s/episodes]"
     ]
    },
    {
     "name": "stdout",
     "output_type": "stream",
     "text": [
      "18.987401197869133\n",
      "episode 496\n"
     ]
    },
    {
     "name": "stderr",
     "output_type": "stream",
     "text": [
      "\r\n",
      " 50%|####9     | 496/1000 [5:08:26<2:00:49, 14.38s/episodes]"
     ]
    },
    {
     "name": "stdout",
     "output_type": "stream",
     "text": [
      "256.79176174479625\n",
      "episode 497\n"
     ]
    },
    {
     "name": "stderr",
     "output_type": "stream",
     "text": [
      "\r\n",
      " 50%|####9     | 497/1000 [5:08:42<2:04:09, 14.81s/episodes]"
     ]
    },
    {
     "name": "stdout",
     "output_type": "stream",
     "text": [
      "278.4020275579886\n",
      "episode 498\n"
     ]
    },
    {
     "name": "stderr",
     "output_type": "stream",
     "text": [
      "\r\n",
      " 50%|####9     | 498/1000 [5:08:54<1:57:05, 13.99s/episodes]"
     ]
    },
    {
     "name": "stdout",
     "output_type": "stream",
     "text": [
      "288.02980369821\n",
      "episode 499\n"
     ]
    },
    {
     "name": "stderr",
     "output_type": "stream",
     "text": [
      "\r\n",
      " 50%|####9     | 499/1000 [5:09:16<2:18:37, 16.60s/episodes]"
     ]
    },
    {
     "name": "stdout",
     "output_type": "stream",
     "text": [
      "232.011155009296\n",
      "episode 500\n"
     ]
    },
    {
     "name": "stderr",
     "output_type": "stream",
     "text": [
      "\r\n",
      " 50%|#####     | 500/1000 [5:09:32<2:14:38, 16.16s/episodes]"
     ]
    },
    {
     "name": "stdout",
     "output_type": "stream",
     "text": [
      "-171.83551357126228\n",
      "episode 501\n"
     ]
    },
    {
     "name": "stderr",
     "output_type": "stream",
     "text": [
      "\r\n",
      " 50%|#####     | 501/1000 [5:09:57<2:37:06, 18.89s/episodes]"
     ]
    },
    {
     "name": "stdout",
     "output_type": "stream",
     "text": [
      "241.6910477320426\n",
      "episode 502\n"
     ]
    },
    {
     "name": "stderr",
     "output_type": "stream",
     "text": [
      "\r\n",
      " 50%|#####     | 502/1000 [5:10:20<2:48:03, 20.25s/episodes]"
     ]
    },
    {
     "name": "stdout",
     "output_type": "stream",
     "text": [
      "242.46158265375166\n",
      "episode 503\n"
     ]
    },
    {
     "name": "stderr",
     "output_type": "stream",
     "text": [
      "\r\n",
      " 50%|#####     | 503/1000 [5:10:41<2:48:58, 20.40s/episodes]"
     ]
    },
    {
     "name": "stdout",
     "output_type": "stream",
     "text": [
      "251.3364212784468\n",
      "episode 504\n"
     ]
    },
    {
     "name": "stderr",
     "output_type": "stream",
     "text": [
      "\r\n",
      " 50%|#####     | 504/1000 [5:11:18<3:29:25, 25.33s/episodes]"
     ]
    },
    {
     "name": "stdout",
     "output_type": "stream",
     "text": [
      "263.1565311699462\n",
      "episode 505\n"
     ]
    },
    {
     "name": "stderr",
     "output_type": "stream",
     "text": [
      "\r\n",
      " 50%|#####     | 505/1000 [5:11:52<3:50:08, 27.90s/episodes]"
     ]
    },
    {
     "name": "stdout",
     "output_type": "stream",
     "text": [
      "176.87863694907801\n",
      "episode 506\n"
     ]
    },
    {
     "name": "stderr",
     "output_type": "stream",
     "text": [
      "\r\n",
      " 51%|#####     | 506/1000 [5:12:10<3:26:27, 25.07s/episodes]"
     ]
    },
    {
     "name": "stdout",
     "output_type": "stream",
     "text": [
      "276.15645225069295\n",
      "episode 507\n"
     ]
    },
    {
     "name": "stderr",
     "output_type": "stream",
     "text": [
      "\r\n",
      " 51%|#####     | 507/1000 [5:12:41<3:40:07, 26.79s/episodes]"
     ]
    },
    {
     "name": "stdout",
     "output_type": "stream",
     "text": [
      "233.22778164146573\n",
      "episode 508\n"
     ]
    },
    {
     "name": "stderr",
     "output_type": "stream",
     "text": [
      "\r\n",
      " 51%|#####     | 508/1000 [5:13:09<3:42:33, 27.14s/episodes]"
     ]
    },
    {
     "name": "stdout",
     "output_type": "stream",
     "text": [
      "248.68494908932928\n",
      "episode 509\n"
     ]
    },
    {
     "name": "stderr",
     "output_type": "stream",
     "text": [
      "\r\n",
      " 51%|#####     | 509/1000 [5:13:47<4:08:40, 30.39s/episodes]"
     ]
    },
    {
     "name": "stdout",
     "output_type": "stream",
     "text": [
      "262.8535628277982\n",
      "episode 510\n"
     ]
    },
    {
     "name": "stderr",
     "output_type": "stream",
     "text": [
      "\r\n",
      " 51%|#####1    | 510/1000 [5:14:12<3:55:40, 28.86s/episodes]"
     ]
    },
    {
     "name": "stdout",
     "output_type": "stream",
     "text": [
      "219.75768151163487\n",
      "episode 511\n"
     ]
    },
    {
     "name": "stderr",
     "output_type": "stream",
     "text": [
      "\r\n",
      " 51%|#####1    | 511/1000 [5:14:35<3:41:22, 27.16s/episodes]"
     ]
    },
    {
     "name": "stdout",
     "output_type": "stream",
     "text": [
      "214.05966949127526\n",
      "episode 512\n"
     ]
    },
    {
     "name": "stderr",
     "output_type": "stream",
     "text": [
      "\r\n",
      " 51%|#####1    | 512/1000 [5:14:58<3:28:36, 25.65s/episodes]"
     ]
    },
    {
     "name": "stdout",
     "output_type": "stream",
     "text": [
      "225.68231413969636\n",
      "episode 513\n"
     ]
    },
    {
     "name": "stderr",
     "output_type": "stream",
     "text": [
      "\r\n",
      " 51%|#####1    | 513/1000 [5:15:20<3:19:09, 24.54s/episodes]"
     ]
    },
    {
     "name": "stdout",
     "output_type": "stream",
     "text": [
      "263.54334986809954\n",
      "episode 514\n"
     ]
    },
    {
     "name": "stderr",
     "output_type": "stream",
     "text": [
      "\r\n",
      " 51%|#####1    | 514/1000 [5:15:44<3:17:27, 24.38s/episodes]"
     ]
    },
    {
     "name": "stdout",
     "output_type": "stream",
     "text": [
      "266.18541680219187\n",
      "episode 515\n"
     ]
    },
    {
     "name": "stderr",
     "output_type": "stream",
     "text": [
      "\r\n",
      " 52%|#####1    | 515/1000 [5:16:04<3:07:38, 23.21s/episodes]"
     ]
    },
    {
     "name": "stdout",
     "output_type": "stream",
     "text": [
      "227.27825807153658\n",
      "episode 516\n"
     ]
    },
    {
     "name": "stderr",
     "output_type": "stream",
     "text": [
      "\r\n",
      " 52%|#####1    | 516/1000 [5:16:21<2:52:52, 21.43s/episodes]"
     ]
    },
    {
     "name": "stdout",
     "output_type": "stream",
     "text": [
      "264.79305675359916\n",
      "episode 517\n"
     ]
    },
    {
     "name": "stderr",
     "output_type": "stream",
     "text": [
      "\r\n",
      " 52%|#####1    | 517/1000 [5:16:46<3:01:08, 22.50s/episodes]"
     ]
    },
    {
     "name": "stdout",
     "output_type": "stream",
     "text": [
      "227.99140870386415\n",
      "episode 518\n"
     ]
    },
    {
     "name": "stderr",
     "output_type": "stream",
     "text": [
      "\r\n",
      " 52%|#####1    | 518/1000 [5:17:27<3:44:04, 27.89s/episodes]"
     ]
    },
    {
     "name": "stdout",
     "output_type": "stream",
     "text": [
      "257.5669074281439\n",
      "episode 519\n"
     ]
    },
    {
     "name": "stderr",
     "output_type": "stream",
     "text": [
      "\r\n",
      " 52%|#####1    | 519/1000 [5:17:54<3:41:35, 27.64s/episodes]"
     ]
    },
    {
     "name": "stdout",
     "output_type": "stream",
     "text": [
      "224.9284178084588\n",
      "episode 520\n"
     ]
    },
    {
     "name": "stderr",
     "output_type": "stream",
     "text": [
      "\r\n",
      " 52%|#####2    | 520/1000 [5:18:24<3:47:17, 28.41s/episodes]"
     ]
    },
    {
     "name": "stdout",
     "output_type": "stream",
     "text": [
      "236.40202683056637\n",
      "episode 521\n"
     ]
    },
    {
     "name": "stderr",
     "output_type": "stream",
     "text": [
      "\r\n",
      " 52%|#####2    | 521/1000 [5:18:46<3:32:19, 26.60s/episodes]"
     ]
    },
    {
     "name": "stdout",
     "output_type": "stream",
     "text": [
      "269.0178881422786\n",
      "episode 522\n"
     ]
    },
    {
     "name": "stderr",
     "output_type": "stream",
     "text": [
      "\r\n",
      " 52%|#####2    | 522/1000 [5:19:25<3:59:47, 30.10s/episodes]"
     ]
    },
    {
     "name": "stdout",
     "output_type": "stream",
     "text": [
      "244.81832228047097\n",
      "episode 523\n"
     ]
    },
    {
     "name": "stderr",
     "output_type": "stream",
     "text": [
      "\r\n",
      " 52%|#####2    | 523/1000 [5:19:41<3:27:04, 26.05s/episodes]"
     ]
    },
    {
     "name": "stdout",
     "output_type": "stream",
     "text": [
      "250.39564527937532\n",
      "episode 524\n"
     ]
    },
    {
     "name": "stderr",
     "output_type": "stream",
     "text": [
      "\r\n",
      " 52%|#####2    | 524/1000 [5:19:59<3:07:03, 23.58s/episodes]"
     ]
    },
    {
     "name": "stdout",
     "output_type": "stream",
     "text": [
      "276.72308016192864\n",
      "episode 525\n"
     ]
    },
    {
     "name": "stderr",
     "output_type": "stream",
     "text": [
      "\r\n",
      " 52%|#####2    | 525/1000 [5:20:13<2:44:28, 20.78s/episodes]"
     ]
    },
    {
     "name": "stdout",
     "output_type": "stream",
     "text": [
      "268.3358365304426\n",
      "episode 526\n"
     ]
    },
    {
     "name": "stderr",
     "output_type": "stream",
     "text": [
      "\r\n",
      " 53%|#####2    | 526/1000 [5:20:41<3:01:26, 22.97s/episodes]"
     ]
    },
    {
     "name": "stdout",
     "output_type": "stream",
     "text": [
      "234.18572662776785\n",
      "episode 527\n"
     ]
    },
    {
     "name": "stderr",
     "output_type": "stream",
     "text": [
      "\r\n",
      " 53%|#####2    | 527/1000 [5:21:05<3:02:21, 23.13s/episodes]"
     ]
    },
    {
     "name": "stdout",
     "output_type": "stream",
     "text": [
      "287.9802500440017\n",
      "episode 528\n"
     ]
    },
    {
     "name": "stderr",
     "output_type": "stream",
     "text": [
      "\r\n",
      " 53%|#####2    | 528/1000 [5:21:27<2:58:32, 22.70s/episodes]"
     ]
    },
    {
     "name": "stdout",
     "output_type": "stream",
     "text": [
      "290.3804073481852\n",
      "episode 529\n"
     ]
    },
    {
     "name": "stderr",
     "output_type": "stream",
     "text": [
      "\r\n",
      " 53%|#####2    | 529/1000 [5:21:33<2:20:03, 17.84s/episodes]"
     ]
    },
    {
     "name": "stdout",
     "output_type": "stream",
     "text": [
      "68.17190998595427\n",
      "episode 530\n"
     ]
    },
    {
     "name": "stderr",
     "output_type": "stream",
     "text": [
      "\r\n",
      " 53%|#####3    | 530/1000 [5:21:39<1:51:16, 14.21s/episodes]"
     ]
    },
    {
     "name": "stdout",
     "output_type": "stream",
     "text": [
      "42.09498959392846\n",
      "episode 531\n"
     ]
    },
    {
     "name": "stderr",
     "output_type": "stream",
     "text": [
      "\r\n",
      " 53%|#####3    | 531/1000 [5:21:54<1:54:09, 14.60s/episodes]"
     ]
    },
    {
     "name": "stdout",
     "output_type": "stream",
     "text": [
      "293.1587897963136\n",
      "episode 532\n"
     ]
    },
    {
     "name": "stderr",
     "output_type": "stream",
     "text": [
      "\r\n",
      " 53%|#####3    | 532/1000 [5:22:03<1:40:52, 12.93s/episodes]"
     ]
    },
    {
     "name": "stdout",
     "output_type": "stream",
     "text": [
      "-24.71832913149663\n",
      "episode 533\n"
     ]
    },
    {
     "name": "stderr",
     "output_type": "stream",
     "text": [
      "\r\n",
      " 53%|#####3    | 533/1000 [5:23:28<4:26:59, 34.30s/episodes]"
     ]
    },
    {
     "name": "stdout",
     "output_type": "stream",
     "text": [
      "170.727110655531\n",
      "episode 534\n"
     ]
    },
    {
     "name": "stderr",
     "output_type": "stream",
     "text": [
      "\r\n",
      " 53%|#####3    | 534/1000 [5:23:43<3:41:48, 28.56s/episodes]"
     ]
    },
    {
     "name": "stdout",
     "output_type": "stream",
     "text": [
      "253.04399880075772\n",
      "episode 535\n"
     ]
    },
    {
     "name": "stderr",
     "output_type": "stream",
     "text": [
      "\r\n",
      " 54%|#####3    | 535/1000 [5:25:07<5:51:59, 45.42s/episodes]"
     ]
    },
    {
     "name": "stdout",
     "output_type": "stream",
     "text": [
      "161.3464948888398\n",
      "episode 536\n"
     ]
    },
    {
     "name": "stderr",
     "output_type": "stream",
     "text": [
      "\r\n",
      " 54%|#####3    | 536/1000 [5:26:26<7:07:10, 55.24s/episodes]"
     ]
    },
    {
     "name": "stdout",
     "output_type": "stream",
     "text": [
      "202.7019973239171\n",
      "episode 537\n"
     ]
    },
    {
     "name": "stderr",
     "output_type": "stream",
     "text": [
      "\r\n",
      " 54%|#####3    | 537/1000 [5:26:32<5:12:52, 40.54s/episodes]"
     ]
    },
    {
     "name": "stdout",
     "output_type": "stream",
     "text": [
      "52.77513325545081\n",
      "episode 538\n"
     ]
    },
    {
     "name": "stderr",
     "output_type": "stream",
     "text": [
      "\r\n",
      " 54%|#####3    | 538/1000 [5:27:10<5:06:39, 39.83s/episodes]"
     ]
    },
    {
     "name": "stdout",
     "output_type": "stream",
     "text": [
      "282.12054734934816\n",
      "episode 539\n"
     ]
    },
    {
     "name": "stderr",
     "output_type": "stream",
     "text": [
      "\r\n",
      " 54%|#####3    | 539/1000 [5:28:28<6:34:21, 51.33s/episodes]"
     ]
    },
    {
     "name": "stdout",
     "output_type": "stream",
     "text": [
      "-372.244491526311\n",
      "episode 540\n"
     ]
    },
    {
     "name": "stderr",
     "output_type": "stream",
     "text": [
      "\r\n",
      " 54%|#####4    | 540/1000 [5:28:39<5:00:55, 39.25s/episodes]"
     ]
    },
    {
     "name": "stdout",
     "output_type": "stream",
     "text": [
      "-65.99425770507084\n",
      "episode 541\n"
     ]
    },
    {
     "name": "stderr",
     "output_type": "stream",
     "text": [
      "\r\n",
      " 54%|#####4    | 541/1000 [5:28:50<3:54:37, 30.67s/episodes]"
     ]
    },
    {
     "name": "stdout",
     "output_type": "stream",
     "text": [
      "-110.1905916092178\n",
      "episode 542\n"
     ]
    },
    {
     "name": "stderr",
     "output_type": "stream",
     "text": [
      "\r\n",
      " 54%|#####4    | 542/1000 [5:29:19<3:51:03, 30.27s/episodes]"
     ]
    },
    {
     "name": "stdout",
     "output_type": "stream",
     "text": [
      "-220.8179587853486\n",
      "episode 543\n"
     ]
    },
    {
     "name": "stderr",
     "output_type": "stream",
     "text": [
      "\r\n",
      " 54%|#####4    | 543/1000 [5:29:53<3:58:12, 31.28s/episodes]"
     ]
    },
    {
     "name": "stdout",
     "output_type": "stream",
     "text": [
      "-120.36242025980317\n",
      "episode 544\n"
     ]
    },
    {
     "name": "stderr",
     "output_type": "stream",
     "text": [
      "\r\n",
      " 54%|#####4    | 544/1000 [5:31:17<5:58:50, 47.22s/episodes]"
     ]
    },
    {
     "name": "stdout",
     "output_type": "stream",
     "text": [
      "-87.31410987739834\n",
      "episode 545\n"
     ]
    },
    {
     "name": "stderr",
     "output_type": "stream",
     "text": [
      "\r\n",
      " 55%|#####4    | 545/1000 [5:31:37<4:55:54, 39.02s/episodes]"
     ]
    },
    {
     "name": "stdout",
     "output_type": "stream",
     "text": [
      "-200.90410844879455\n",
      "episode 546\n"
     ]
    },
    {
     "name": "stderr",
     "output_type": "stream",
     "text": [
      "\r\n",
      " 55%|#####4    | 546/1000 [5:33:02<6:39:08, 52.75s/episodes]"
     ]
    },
    {
     "name": "stdout",
     "output_type": "stream",
     "text": [
      "-70.3285255068299\n",
      "episode 547\n"
     ]
    },
    {
     "name": "stderr",
     "output_type": "stream",
     "text": [
      "\r\n",
      " 55%|#####4    | 547/1000 [5:33:46<6:18:42, 50.16s/episodes]"
     ]
    },
    {
     "name": "stdout",
     "output_type": "stream",
     "text": [
      "213.64716501841127\n",
      "episode 548\n"
     ]
    },
    {
     "name": "stderr",
     "output_type": "stream",
     "text": [
      "\r\n",
      " 55%|#####4    | 548/1000 [5:35:11<7:35:50, 60.51s/episodes]"
     ]
    },
    {
     "name": "stdout",
     "output_type": "stream",
     "text": [
      "128.74600132927904\n",
      "episode 549\n"
     ]
    },
    {
     "name": "stderr",
     "output_type": "stream",
     "text": [
      "\r\n",
      " 55%|#####4    | 549/1000 [5:35:32<6:06:38, 48.78s/episodes]"
     ]
    },
    {
     "name": "stdout",
     "output_type": "stream",
     "text": [
      "234.87514529716162\n",
      "episode 550\n"
     ]
    },
    {
     "name": "stderr",
     "output_type": "stream",
     "text": [
      "\r\n",
      " 55%|#####5    | 550/1000 [5:35:53<5:03:09, 40.42s/episodes]"
     ]
    },
    {
     "name": "stdout",
     "output_type": "stream",
     "text": [
      "256.6582736884784\n",
      "episode 551\n"
     ]
    },
    {
     "name": "stderr",
     "output_type": "stream",
     "text": [
      "\r\n",
      " 55%|#####5    | 551/1000 [5:37:14<6:34:23, 52.70s/episodes]"
     ]
    },
    {
     "name": "stdout",
     "output_type": "stream",
     "text": [
      "46.968526115777664\n",
      "episode 552\n"
     ]
    },
    {
     "name": "stderr",
     "output_type": "stream",
     "text": [
      "\r\n",
      " 55%|#####5    | 552/1000 [5:38:08<6:35:02, 52.91s/episodes]"
     ]
    },
    {
     "name": "stdout",
     "output_type": "stream",
     "text": [
      "210.86659061827265\n",
      "episode 553\n"
     ]
    },
    {
     "name": "stderr",
     "output_type": "stream",
     "text": [
      "\r\n",
      " 55%|#####5    | 553/1000 [5:39:17<7:10:43, 57.82s/episodes]"
     ]
    },
    {
     "name": "stdout",
     "output_type": "stream",
     "text": [
      "172.4177863283917\n",
      "episode 554\n"
     ]
    },
    {
     "name": "stderr",
     "output_type": "stream",
     "text": [
      "\r\n",
      " 55%|#####5    | 554/1000 [5:40:28<7:38:50, 61.73s/episodes]"
     ]
    },
    {
     "name": "stdout",
     "output_type": "stream",
     "text": [
      "190.71938938144598\n",
      "episode 555\n"
     ]
    },
    {
     "name": "stderr",
     "output_type": "stream",
     "text": [
      "\r\n",
      " 56%|#####5    | 555/1000 [5:41:23<7:23:06, 59.75s/episodes]"
     ]
    },
    {
     "name": "stdout",
     "output_type": "stream",
     "text": [
      "232.37506286423306\n",
      "episode 556\n"
     ]
    },
    {
     "name": "stderr",
     "output_type": "stream",
     "text": [
      "\r\n",
      " 56%|#####5    | 556/1000 [5:42:00<6:32:28, 53.04s/episodes]"
     ]
    },
    {
     "name": "stdout",
     "output_type": "stream",
     "text": [
      "254.65203123275353\n",
      "episode 557\n"
     ]
    },
    {
     "name": "stderr",
     "output_type": "stream",
     "text": [
      "\r\n",
      " 56%|#####5    | 557/1000 [5:42:12<5:00:37, 40.72s/episodes]"
     ]
    },
    {
     "name": "stdout",
     "output_type": "stream",
     "text": [
      "272.13601153104173\n",
      "episode 558\n"
     ]
    },
    {
     "name": "stderr",
     "output_type": "stream",
     "text": [
      "\r\n",
      " 56%|#####5    | 558/1000 [5:43:09<5:35:21, 45.52s/episodes]"
     ]
    },
    {
     "name": "stdout",
     "output_type": "stream",
     "text": [
      "154.64771599332025\n",
      "episode 559\n"
     ]
    },
    {
     "name": "stderr",
     "output_type": "stream",
     "text": [
      "\r\n",
      " 56%|#####5    | 559/1000 [5:43:29<4:38:45, 37.93s/episodes]"
     ]
    },
    {
     "name": "stdout",
     "output_type": "stream",
     "text": [
      "215.95499393088025\n",
      "episode 560\n"
     ]
    },
    {
     "name": "stderr",
     "output_type": "stream",
     "text": [
      "\r\n",
      " 56%|#####6    | 560/1000 [5:44:26<5:19:04, 43.51s/episodes]"
     ]
    },
    {
     "name": "stdout",
     "output_type": "stream",
     "text": [
      "134.73713475374524\n",
      "episode 561\n"
     ]
    },
    {
     "name": "stderr",
     "output_type": "stream",
     "text": [
      "\r\n",
      " 56%|#####6    | 561/1000 [5:44:42<4:18:38, 35.35s/episodes]"
     ]
    },
    {
     "name": "stdout",
     "output_type": "stream",
     "text": [
      "260.6869120444543\n",
      "episode 562\n"
     ]
    },
    {
     "name": "stderr",
     "output_type": "stream",
     "text": [
      "\r\n",
      " 56%|#####6    | 562/1000 [5:45:29<4:42:58, 38.76s/episodes]"
     ]
    },
    {
     "name": "stdout",
     "output_type": "stream",
     "text": [
      "265.2336413610045\n",
      "episode 563\n"
     ]
    },
    {
     "name": "stderr",
     "output_type": "stream",
     "text": [
      "\r\n",
      " 56%|#####6    | 563/1000 [5:45:58<4:21:48, 35.95s/episodes]"
     ]
    },
    {
     "name": "stdout",
     "output_type": "stream",
     "text": [
      "217.2845863388538\n",
      "episode 564\n"
     ]
    },
    {
     "name": "stderr",
     "output_type": "stream",
     "text": [
      "\r\n",
      " 56%|#####6    | 564/1000 [5:46:35<4:22:04, 36.07s/episodes]"
     ]
    },
    {
     "name": "stdout",
     "output_type": "stream",
     "text": [
      "263.73521217334746\n",
      "episode 565\n"
     ]
    },
    {
     "name": "stderr",
     "output_type": "stream",
     "text": [
      "\r\n",
      " 56%|#####6    | 565/1000 [5:46:48<3:31:16, 29.14s/episodes]"
     ]
    },
    {
     "name": "stdout",
     "output_type": "stream",
     "text": [
      "297.2027971173317\n",
      "episode 566\n"
     ]
    },
    {
     "name": "stderr",
     "output_type": "stream",
     "text": [
      "\r\n",
      " 57%|#####6    | 566/1000 [5:47:17<3:31:05, 29.18s/episodes]"
     ]
    },
    {
     "name": "stdout",
     "output_type": "stream",
     "text": [
      "226.2079128448165\n",
      "episode 567\n"
     ]
    },
    {
     "name": "stderr",
     "output_type": "stream",
     "text": [
      "\r\n",
      " 57%|#####6    | 567/1000 [5:47:42<3:22:05, 28.00s/episodes]"
     ]
    },
    {
     "name": "stdout",
     "output_type": "stream",
     "text": [
      "281.1136340381732\n",
      "episode 568\n"
     ]
    },
    {
     "name": "stderr",
     "output_type": "stream",
     "text": [
      "\r\n",
      " 57%|#####6    | 568/1000 [5:48:24<3:50:48, 32.06s/episodes]"
     ]
    },
    {
     "name": "stdout",
     "output_type": "stream",
     "text": [
      "228.33177732438827\n",
      "episode 569\n"
     ]
    },
    {
     "name": "stderr",
     "output_type": "stream",
     "text": [
      "\r\n",
      " 57%|#####6    | 569/1000 [5:48:41<3:19:22, 27.76s/episodes]"
     ]
    },
    {
     "name": "stdout",
     "output_type": "stream",
     "text": [
      "239.3735005930977\n",
      "episode 570\n"
     ]
    },
    {
     "name": "stderr",
     "output_type": "stream",
     "text": [
      "\r\n",
      " 57%|#####6    | 570/1000 [5:49:02<3:03:54, 25.66s/episodes]"
     ]
    },
    {
     "name": "stdout",
     "output_type": "stream",
     "text": [
      "264.82418962879626\n",
      "episode 571\n"
     ]
    },
    {
     "name": "stderr",
     "output_type": "stream",
     "text": [
      "\r\n",
      " 57%|#####7    | 571/1000 [5:49:28<3:03:50, 25.71s/episodes]"
     ]
    },
    {
     "name": "stdout",
     "output_type": "stream",
     "text": [
      "281.89825955503716\n",
      "episode 572\n"
     ]
    },
    {
     "name": "stderr",
     "output_type": "stream",
     "text": [
      "\r\n",
      " 57%|#####7    | 572/1000 [5:50:53<5:10:51, 43.58s/episodes]"
     ]
    },
    {
     "name": "stdout",
     "output_type": "stream",
     "text": [
      "15.65379114603428\n",
      "episode 573\n"
     ]
    },
    {
     "name": "stderr",
     "output_type": "stream",
     "text": [
      "\r\n",
      " 57%|#####7    | 573/1000 [5:51:10<4:12:35, 35.49s/episodes]"
     ]
    },
    {
     "name": "stdout",
     "output_type": "stream",
     "text": [
      "272.9437645235464\n",
      "episode 574\n"
     ]
    },
    {
     "name": "stderr",
     "output_type": "stream",
     "text": [
      "\r\n",
      " 57%|#####7    | 574/1000 [5:51:28<3:35:07, 30.30s/episodes]"
     ]
    },
    {
     "name": "stdout",
     "output_type": "stream",
     "text": [
      "246.31517829987794\n",
      "episode 575\n"
     ]
    },
    {
     "name": "stderr",
     "output_type": "stream",
     "text": [
      "\r\n",
      " 57%|#####7    | 575/1000 [5:51:48<3:12:56, 27.24s/episodes]"
     ]
    },
    {
     "name": "stdout",
     "output_type": "stream",
     "text": [
      "306.36986870692283\n",
      "episode 576\n"
     ]
    },
    {
     "name": "stderr",
     "output_type": "stream",
     "text": [
      "\r\n",
      " 58%|#####7    | 576/1000 [5:52:07<2:53:46, 24.59s/episodes]"
     ]
    },
    {
     "name": "stdout",
     "output_type": "stream",
     "text": [
      "281.1603939818784\n",
      "episode 577\n"
     ]
    },
    {
     "name": "stderr",
     "output_type": "stream",
     "text": [
      "\r\n",
      " 58%|#####7    | 577/1000 [5:52:20<2:29:12, 21.16s/episodes]"
     ]
    },
    {
     "name": "stdout",
     "output_type": "stream",
     "text": [
      "253.57539579725818\n",
      "episode 578\n"
     ]
    },
    {
     "name": "stderr",
     "output_type": "stream",
     "text": [
      "\r\n",
      " 58%|#####7    | 578/1000 [5:53:44<4:41:56, 40.09s/episodes]"
     ]
    },
    {
     "name": "stdout",
     "output_type": "stream",
     "text": [
      "167.1002319690764\n",
      "episode 579\n"
     ]
    },
    {
     "name": "stderr",
     "output_type": "stream",
     "text": [
      "\r\n",
      " 58%|#####7    | 579/1000 [5:54:01<3:52:14, 33.10s/episodes]"
     ]
    },
    {
     "name": "stdout",
     "output_type": "stream",
     "text": [
      "284.5807218909751\n",
      "episode 580\n"
     ]
    },
    {
     "name": "stderr",
     "output_type": "stream",
     "text": [
      "\r\n",
      " 58%|#####8    | 580/1000 [5:54:24<3:30:14, 30.03s/episodes]"
     ]
    },
    {
     "name": "stdout",
     "output_type": "stream",
     "text": [
      "246.83176071440275\n",
      "episode 581\n"
     ]
    },
    {
     "name": "stderr",
     "output_type": "stream",
     "text": [
      "\r\n",
      " 58%|#####8    | 581/1000 [5:54:43<3:07:12, 26.81s/episodes]"
     ]
    },
    {
     "name": "stdout",
     "output_type": "stream",
     "text": [
      "238.33907342697145\n",
      "episode 582\n"
     ]
    },
    {
     "name": "stderr",
     "output_type": "stream",
     "text": [
      "\r\n",
      " 58%|#####8    | 582/1000 [5:54:58<2:42:56, 23.39s/episodes]"
     ]
    },
    {
     "name": "stdout",
     "output_type": "stream",
     "text": [
      "289.10653505322455\n",
      "episode 583\n"
     ]
    },
    {
     "name": "stderr",
     "output_type": "stream",
     "text": [
      "\r\n",
      " 58%|#####8    | 583/1000 [5:55:51<3:42:33, 32.02s/episodes]"
     ]
    },
    {
     "name": "stdout",
     "output_type": "stream",
     "text": [
      "226.1337303908602\n",
      "episode 584\n"
     ]
    },
    {
     "name": "stderr",
     "output_type": "stream",
     "text": [
      "\r\n",
      " 58%|#####8    | 584/1000 [5:56:09<3:14:08, 28.00s/episodes]"
     ]
    },
    {
     "name": "stdout",
     "output_type": "stream",
     "text": [
      "261.2525346762334\n",
      "episode 585\n"
     ]
    },
    {
     "name": "stderr",
     "output_type": "stream",
     "text": [
      "\r\n",
      " 58%|#####8    | 585/1000 [5:56:34<3:06:31, 26.97s/episodes]"
     ]
    },
    {
     "name": "stdout",
     "output_type": "stream",
     "text": [
      "284.0198247774041\n",
      "episode 586\n"
     ]
    },
    {
     "name": "stderr",
     "output_type": "stream",
     "text": [
      "\r\n",
      " 59%|#####8    | 586/1000 [5:56:59<3:03:34, 26.60s/episodes]"
     ]
    },
    {
     "name": "stdout",
     "output_type": "stream",
     "text": [
      "287.71986427143054\n",
      "episode 587\n"
     ]
    },
    {
     "name": "stderr",
     "output_type": "stream",
     "text": [
      "\r\n",
      " 59%|#####8    | 587/1000 [5:57:27<3:05:08, 26.90s/episodes]"
     ]
    },
    {
     "name": "stdout",
     "output_type": "stream",
     "text": [
      "283.1535156965933\n",
      "episode 588\n"
     ]
    },
    {
     "name": "stderr",
     "output_type": "stream",
     "text": [
      "\r\n",
      " 59%|#####8    | 588/1000 [5:57:46<2:47:55, 24.45s/episodes]"
     ]
    },
    {
     "name": "stdout",
     "output_type": "stream",
     "text": [
      "267.9281622459382\n",
      "episode 589\n"
     ]
    },
    {
     "name": "stderr",
     "output_type": "stream",
     "text": [
      "\r\n",
      " 59%|#####8    | 589/1000 [5:57:58<2:22:09, 20.75s/episodes]"
     ]
    },
    {
     "name": "stdout",
     "output_type": "stream",
     "text": [
      "286.37737190735356\n",
      "episode 590\n"
     ]
    },
    {
     "name": "stderr",
     "output_type": "stream",
     "text": [
      "\r\n",
      " 59%|#####8    | 590/1000 [5:58:46<3:18:28, 29.05s/episodes]"
     ]
    },
    {
     "name": "stdout",
     "output_type": "stream",
     "text": [
      "250.9293375179976\n",
      "episode 591\n"
     ]
    },
    {
     "name": "stderr",
     "output_type": "stream",
     "text": [
      "\r\n",
      " 59%|#####9    | 591/1000 [5:59:04<2:54:35, 25.61s/episodes]"
     ]
    },
    {
     "name": "stdout",
     "output_type": "stream",
     "text": [
      "245.93946488508726\n",
      "episode 592\n"
     ]
    },
    {
     "name": "stderr",
     "output_type": "stream",
     "text": [
      "\r\n",
      " 59%|#####9    | 592/1000 [5:59:59<3:54:58, 34.55s/episodes]"
     ]
    },
    {
     "name": "stdout",
     "output_type": "stream",
     "text": [
      "241.3476567786567\n",
      "episode 593\n"
     ]
    },
    {
     "name": "stderr",
     "output_type": "stream",
     "text": [
      "\r\n",
      " 59%|#####9    | 593/1000 [6:00:12<3:09:52, 27.99s/episodes]"
     ]
    },
    {
     "name": "stdout",
     "output_type": "stream",
     "text": [
      "48.71022463980586\n",
      "episode 594\n"
     ]
    },
    {
     "name": "stderr",
     "output_type": "stream",
     "text": [
      "\r\n",
      " 59%|#####9    | 594/1000 [6:00:24<2:36:45, 23.17s/episodes]"
     ]
    },
    {
     "name": "stdout",
     "output_type": "stream",
     "text": [
      "11.000556246877153\n",
      "episode 595\n"
     ]
    },
    {
     "name": "stderr",
     "output_type": "stream",
     "text": [
      "\r\n",
      " 60%|#####9    | 595/1000 [6:00:31<2:03:47, 18.34s/episodes]"
     ]
    },
    {
     "name": "stdout",
     "output_type": "stream",
     "text": [
      "-13.228240741650751\n",
      "episode 596\n"
     ]
    },
    {
     "name": "stderr",
     "output_type": "stream",
     "text": [
      "\r\n",
      " 60%|#####9    | 596/1000 [6:00:37<1:38:53, 14.69s/episodes]"
     ]
    },
    {
     "name": "stdout",
     "output_type": "stream",
     "text": [
      "47.02685952144975\n",
      "episode 597\n"
     ]
    },
    {
     "name": "stderr",
     "output_type": "stream",
     "text": [
      "\r\n",
      " 60%|#####9    | 597/1000 [6:00:58<1:51:27, 16.59s/episodes]"
     ]
    },
    {
     "name": "stdout",
     "output_type": "stream",
     "text": [
      "229.60404916675614\n",
      "episode 598\n"
     ]
    },
    {
     "name": "stderr",
     "output_type": "stream",
     "text": [
      "\r\n",
      " 60%|#####9    | 598/1000 [6:02:23<4:07:41, 36.97s/episodes]"
     ]
    },
    {
     "name": "stdout",
     "output_type": "stream",
     "text": [
      "71.05428851212862\n",
      "episode 599\n"
     ]
    },
    {
     "name": "stderr",
     "output_type": "stream",
     "text": [
      "\r\n",
      " 60%|#####9    | 599/1000 [6:02:32<3:11:39, 28.68s/episodes]"
     ]
    },
    {
     "name": "stdout",
     "output_type": "stream",
     "text": [
      "-116.39410422723448\n",
      "episode 600\n"
     ]
    },
    {
     "name": "stderr",
     "output_type": "stream",
     "text": [
      "\r\n",
      " 60%|######    | 600/1000 [6:03:11<3:31:54, 31.79s/episodes]"
     ]
    },
    {
     "name": "stdout",
     "output_type": "stream",
     "text": [
      "208.90045055074756\n",
      "episode 601\n"
     ]
    },
    {
     "name": "stderr",
     "output_type": "stream",
     "text": [
      "\r\n",
      " 60%|######    | 601/1000 [6:03:37<3:18:39, 29.87s/episodes]"
     ]
    },
    {
     "name": "stdout",
     "output_type": "stream",
     "text": [
      "258.3740691522124\n",
      "episode 602\n"
     ]
    },
    {
     "name": "stderr",
     "output_type": "stream",
     "text": [
      "\r\n",
      " 60%|######    | 602/1000 [6:04:24<3:53:38, 35.22s/episodes]"
     ]
    },
    {
     "name": "stdout",
     "output_type": "stream",
     "text": [
      "234.68389792154375\n",
      "episode 603\n"
     ]
    },
    {
     "name": "stderr",
     "output_type": "stream",
     "text": [
      "\r\n",
      " 60%|######    | 603/1000 [6:04:41<3:16:57, 29.77s/episodes]"
     ]
    },
    {
     "name": "stdout",
     "output_type": "stream",
     "text": [
      "277.2965828600319\n",
      "episode 604\n"
     ]
    },
    {
     "name": "stderr",
     "output_type": "stream",
     "text": [
      "\r\n",
      " 60%|######    | 604/1000 [6:04:58<2:49:45, 25.72s/episodes]"
     ]
    },
    {
     "name": "stdout",
     "output_type": "stream",
     "text": [
      "248.0726870755496\n",
      "episode 605\n"
     ]
    },
    {
     "name": "stderr",
     "output_type": "stream",
     "text": [
      "\r\n",
      " 60%|######    | 605/1000 [6:05:39<3:21:16, 30.57s/episodes]"
     ]
    },
    {
     "name": "stdout",
     "output_type": "stream",
     "text": [
      "222.04021490608238\n",
      "episode 606\n"
     ]
    },
    {
     "name": "stderr",
     "output_type": "stream",
     "text": [
      "\r\n",
      " 61%|######    | 606/1000 [6:05:56<2:53:43, 26.46s/episodes]"
     ]
    },
    {
     "name": "stdout",
     "output_type": "stream",
     "text": [
      "238.2337665589815\n",
      "episode 607\n"
     ]
    },
    {
     "name": "stderr",
     "output_type": "stream",
     "text": [
      "\r\n",
      " 61%|######    | 607/1000 [6:06:14<2:35:41, 23.77s/episodes]"
     ]
    },
    {
     "name": "stdout",
     "output_type": "stream",
     "text": [
      "180.19942649914447\n",
      "episode 608\n"
     ]
    },
    {
     "name": "stderr",
     "output_type": "stream",
     "text": [
      "\r\n",
      " 61%|######    | 608/1000 [6:06:30<2:20:11, 21.46s/episodes]"
     ]
    },
    {
     "name": "stdout",
     "output_type": "stream",
     "text": [
      "253.43882789017465\n",
      "episode 609\n"
     ]
    },
    {
     "name": "stderr",
     "output_type": "stream",
     "text": [
      "\r\n",
      " 61%|######    | 609/1000 [6:06:46<2:08:44, 19.76s/episodes]"
     ]
    },
    {
     "name": "stdout",
     "output_type": "stream",
     "text": [
      "188.4770994017433\n",
      "episode 610\n"
     ]
    },
    {
     "name": "stderr",
     "output_type": "stream",
     "text": [
      "\r\n",
      " 61%|######1   | 610/1000 [6:07:16<2:29:30, 23.00s/episodes]"
     ]
    },
    {
     "name": "stdout",
     "output_type": "stream",
     "text": [
      "256.24011572893085\n",
      "episode 611\n"
     ]
    },
    {
     "name": "stderr",
     "output_type": "stream",
     "text": [
      "\r\n",
      " 61%|######1   | 611/1000 [6:07:38<2:26:17, 22.57s/episodes]"
     ]
    },
    {
     "name": "stdout",
     "output_type": "stream",
     "text": [
      "279.7122023368054\n",
      "episode 612\n"
     ]
    },
    {
     "name": "stderr",
     "output_type": "stream",
     "text": [
      "\r\n",
      " 61%|######1   | 612/1000 [6:07:59<2:22:55, 22.10s/episodes]"
     ]
    },
    {
     "name": "stdout",
     "output_type": "stream",
     "text": [
      "282.76676711772484\n",
      "episode 613\n"
     ]
    },
    {
     "name": "stderr",
     "output_type": "stream",
     "text": [
      "\r\n",
      " 61%|######1   | 613/1000 [6:08:18<2:16:40, 21.19s/episodes]"
     ]
    },
    {
     "name": "stdout",
     "output_type": "stream",
     "text": [
      "249.81175188066868\n",
      "episode 614\n"
     ]
    },
    {
     "name": "stderr",
     "output_type": "stream",
     "text": [
      "\r\n",
      " 61%|######1   | 614/1000 [6:09:42<4:17:56, 40.09s/episodes]"
     ]
    },
    {
     "name": "stdout",
     "output_type": "stream",
     "text": [
      "96.65250112295993\n",
      "episode 615\n"
     ]
    },
    {
     "name": "stderr",
     "output_type": "stream",
     "text": [
      "\r\n",
      " 62%|######1   | 615/1000 [6:10:12<3:57:28, 37.01s/episodes]"
     ]
    },
    {
     "name": "stdout",
     "output_type": "stream",
     "text": [
      "277.55204196328066\n",
      "episode 616\n"
     ]
    },
    {
     "name": "stderr",
     "output_type": "stream",
     "text": [
      "\r\n",
      " 62%|######1   | 616/1000 [6:10:25<3:10:53, 29.83s/episodes]"
     ]
    },
    {
     "name": "stdout",
     "output_type": "stream",
     "text": [
      "264.8505125398061\n",
      "episode 617\n"
     ]
    },
    {
     "name": "stderr",
     "output_type": "stream",
     "text": [
      "\r\n",
      " 62%|######1   | 617/1000 [6:10:43<2:48:00, 26.32s/episodes]"
     ]
    },
    {
     "name": "stdout",
     "output_type": "stream",
     "text": [
      "300.3101480230657\n",
      "episode 618\n"
     ]
    },
    {
     "name": "stderr",
     "output_type": "stream",
     "text": [
      "\r\n",
      " 62%|######1   | 618/1000 [6:10:57<2:24:20, 22.67s/episodes]"
     ]
    },
    {
     "name": "stdout",
     "output_type": "stream",
     "text": [
      "241.43587843376477\n",
      "episode 619\n"
     ]
    },
    {
     "name": "stderr",
     "output_type": "stream",
     "text": [
      "\r\n",
      " 62%|######1   | 619/1000 [6:11:30<2:42:24, 25.58s/episodes]"
     ]
    },
    {
     "name": "stdout",
     "output_type": "stream",
     "text": [
      "282.8493616727311\n",
      "episode 620\n"
     ]
    },
    {
     "name": "stderr",
     "output_type": "stream",
     "text": [
      "\r\n",
      " 62%|######2   | 620/1000 [6:11:53<2:37:23, 24.85s/episodes]"
     ]
    },
    {
     "name": "stdout",
     "output_type": "stream",
     "text": [
      "231.04623362633\n",
      "episode 621\n"
     ]
    },
    {
     "name": "stderr",
     "output_type": "stream",
     "text": [
      "\r\n",
      " 62%|######2   | 621/1000 [6:13:18<4:31:17, 42.95s/episodes]"
     ]
    },
    {
     "name": "stdout",
     "output_type": "stream",
     "text": [
      "-11.11544602680779\n",
      "episode 622\n"
     ]
    },
    {
     "name": "stderr",
     "output_type": "stream",
     "text": [
      "\r\n",
      " 62%|######2   | 622/1000 [6:14:07<4:41:27, 44.68s/episodes]"
     ]
    },
    {
     "name": "stdout",
     "output_type": "stream",
     "text": [
      "145.7258477216894\n",
      "episode 623\n"
     ]
    },
    {
     "name": "stderr",
     "output_type": "stream",
     "text": [
      "\r\n",
      " 62%|######2   | 623/1000 [6:14:20<3:42:06, 35.35s/episodes]"
     ]
    },
    {
     "name": "stdout",
     "output_type": "stream",
     "text": [
      "248.50857278803167\n",
      "episode 624\n"
     ]
    },
    {
     "name": "stderr",
     "output_type": "stream",
     "text": [
      "\r\n",
      " 62%|######2   | 624/1000 [6:14:36<3:05:26, 29.59s/episodes]"
     ]
    },
    {
     "name": "stdout",
     "output_type": "stream",
     "text": [
      "254.88861259259775\n",
      "episode 625\n"
     ]
    },
    {
     "name": "stderr",
     "output_type": "stream",
     "text": [
      "\r\n",
      " 62%|######2   | 625/1000 [6:14:51<2:37:07, 25.14s/episodes]"
     ]
    },
    {
     "name": "stdout",
     "output_type": "stream",
     "text": [
      "231.79824964223738\n",
      "episode 626\n"
     ]
    },
    {
     "name": "stderr",
     "output_type": "stream",
     "text": [
      "\r\n",
      " 63%|######2   | 626/1000 [6:15:14<2:32:04, 24.40s/episodes]"
     ]
    },
    {
     "name": "stdout",
     "output_type": "stream",
     "text": [
      "263.6116503758093\n",
      "episode 627\n"
     ]
    },
    {
     "name": "stderr",
     "output_type": "stream",
     "text": [
      "\r\n",
      " 63%|######2   | 627/1000 [6:15:28<2:12:25, 21.30s/episodes]"
     ]
    },
    {
     "name": "stdout",
     "output_type": "stream",
     "text": [
      "284.62826688860605\n",
      "episode 628\n"
     ]
    },
    {
     "name": "stderr",
     "output_type": "stream",
     "text": [
      "\r\n",
      " 63%|######2   | 628/1000 [6:15:41<1:57:07, 18.89s/episodes]"
     ]
    },
    {
     "name": "stdout",
     "output_type": "stream",
     "text": [
      "260.0372402010926\n",
      "episode 629\n"
     ]
    },
    {
     "name": "stderr",
     "output_type": "stream",
     "text": [
      "\r\n",
      " 63%|######2   | 629/1000 [6:15:57<1:50:35, 17.89s/episodes]"
     ]
    },
    {
     "name": "stdout",
     "output_type": "stream",
     "text": [
      "272.0995023333597\n",
      "episode 630\n"
     ]
    },
    {
     "name": "stderr",
     "output_type": "stream",
     "text": [
      "\r\n",
      " 63%|######3   | 630/1000 [6:16:16<1:53:12, 18.36s/episodes]"
     ]
    },
    {
     "name": "stdout",
     "output_type": "stream",
     "text": [
      "250.30355457536132\n",
      "episode 631\n"
     ]
    },
    {
     "name": "stderr",
     "output_type": "stream",
     "text": [
      "\r\n",
      " 63%|######3   | 631/1000 [6:16:32<1:49:14, 17.76s/episodes]"
     ]
    },
    {
     "name": "stdout",
     "output_type": "stream",
     "text": [
      "260.52248812270386\n",
      "episode 632\n"
     ]
    },
    {
     "name": "stderr",
     "output_type": "stream",
     "text": [
      "\r\n",
      " 63%|######3   | 632/1000 [6:17:07<2:19:39, 22.77s/episodes]"
     ]
    },
    {
     "name": "stdout",
     "output_type": "stream",
     "text": [
      "294.90973516435656\n",
      "episode 633\n"
     ]
    },
    {
     "name": "stderr",
     "output_type": "stream",
     "text": [
      "\r\n",
      " 63%|######3   | 633/1000 [6:17:19<2:00:28, 19.70s/episodes]"
     ]
    },
    {
     "name": "stdout",
     "output_type": "stream",
     "text": [
      "251.10574766997857\n",
      "episode 634\n"
     ]
    },
    {
     "name": "stderr",
     "output_type": "stream",
     "text": [
      "\r\n",
      " 63%|######3   | 634/1000 [6:17:34<1:49:51, 18.01s/episodes]"
     ]
    },
    {
     "name": "stdout",
     "output_type": "stream",
     "text": [
      "274.1068942228293\n",
      "episode 635\n"
     ]
    },
    {
     "name": "stderr",
     "output_type": "stream",
     "text": [
      "\r\n",
      " 64%|######3   | 635/1000 [6:17:50<1:46:43, 17.55s/episodes]"
     ]
    },
    {
     "name": "stdout",
     "output_type": "stream",
     "text": [
      "243.64226162141142\n",
      "episode 636\n"
     ]
    },
    {
     "name": "stderr",
     "output_type": "stream",
     "text": [
      "\r\n",
      " 64%|######3   | 636/1000 [6:18:02<1:37:06, 16.01s/episodes]"
     ]
    },
    {
     "name": "stdout",
     "output_type": "stream",
     "text": [
      "250.3626070302442\n",
      "episode 637\n"
     ]
    },
    {
     "name": "stderr",
     "output_type": "stream",
     "text": [
      "\r\n",
      " 64%|######3   | 637/1000 [6:18:19<1:37:40, 16.14s/episodes]"
     ]
    },
    {
     "name": "stdout",
     "output_type": "stream",
     "text": [
      "290.0846040762053\n",
      "episode 638\n"
     ]
    },
    {
     "name": "stderr",
     "output_type": "stream",
     "text": [
      "\r\n",
      " 64%|######3   | 638/1000 [6:18:35<1:37:31, 16.16s/episodes]"
     ]
    },
    {
     "name": "stdout",
     "output_type": "stream",
     "text": [
      "241.4212943864261\n",
      "episode 639\n"
     ]
    },
    {
     "name": "stderr",
     "output_type": "stream",
     "text": [
      "\r\n",
      " 64%|######3   | 639/1000 [6:18:52<1:38:38, 16.39s/episodes]"
     ]
    },
    {
     "name": "stdout",
     "output_type": "stream",
     "text": [
      "237.0621388632349\n",
      "episode 640\n"
     ]
    },
    {
     "name": "stderr",
     "output_type": "stream",
     "text": [
      "\r\n",
      " 64%|######4   | 640/1000 [6:19:25<2:07:25, 21.24s/episodes]"
     ]
    },
    {
     "name": "stdout",
     "output_type": "stream",
     "text": [
      "245.68352752673556\n",
      "episode 641\n"
     ]
    },
    {
     "name": "stderr",
     "output_type": "stream",
     "text": [
      "\r\n",
      " 64%|######4   | 641/1000 [6:19:42<1:59:50, 20.03s/episodes]"
     ]
    },
    {
     "name": "stdout",
     "output_type": "stream",
     "text": [
      "286.78181627785705\n",
      "episode 642\n"
     ]
    },
    {
     "name": "stderr",
     "output_type": "stream",
     "text": [
      "\r\n",
      " 64%|######4   | 642/1000 [6:20:00<1:56:48, 19.58s/episodes]"
     ]
    },
    {
     "name": "stdout",
     "output_type": "stream",
     "text": [
      "255.86730469303717\n",
      "episode 643\n"
     ]
    },
    {
     "name": "stderr",
     "output_type": "stream",
     "text": [
      "\r\n",
      " 64%|######4   | 643/1000 [6:20:14<1:45:48, 17.78s/episodes]"
     ]
    },
    {
     "name": "stdout",
     "output_type": "stream",
     "text": [
      "277.6379820906402\n",
      "episode 644\n"
     ]
    },
    {
     "name": "stderr",
     "output_type": "stream",
     "text": [
      "\r\n",
      " 64%|######4   | 644/1000 [6:20:31<1:44:28, 17.61s/episodes]"
     ]
    },
    {
     "name": "stdout",
     "output_type": "stream",
     "text": [
      "241.50542965478408\n",
      "episode 645\n"
     ]
    },
    {
     "name": "stderr",
     "output_type": "stream",
     "text": [
      "\r\n",
      " 64%|######4   | 645/1000 [6:20:46<1:39:45, 16.86s/episodes]"
     ]
    },
    {
     "name": "stdout",
     "output_type": "stream",
     "text": [
      "269.525485856263\n",
      "episode 646\n"
     ]
    },
    {
     "name": "stderr",
     "output_type": "stream",
     "text": [
      "\r\n",
      " 65%|######4   | 646/1000 [6:21:02<1:37:37, 16.55s/episodes]"
     ]
    },
    {
     "name": "stdout",
     "output_type": "stream",
     "text": [
      "237.3315169165615\n",
      "episode 647\n"
     ]
    },
    {
     "name": "stderr",
     "output_type": "stream",
     "text": [
      "\r\n",
      " 65%|######4   | 647/1000 [6:21:19<1:38:16, 16.70s/episodes]"
     ]
    },
    {
     "name": "stdout",
     "output_type": "stream",
     "text": [
      "298.58333980835647\n",
      "episode 648\n"
     ]
    },
    {
     "name": "stderr",
     "output_type": "stream",
     "text": [
      "\r\n",
      " 65%|######4   | 648/1000 [6:21:33<1:32:16, 15.73s/episodes]"
     ]
    },
    {
     "name": "stdout",
     "output_type": "stream",
     "text": [
      "272.66424674489815\n",
      "episode 649\n"
     ]
    },
    {
     "name": "stderr",
     "output_type": "stream",
     "text": [
      "\r\n",
      " 65%|######4   | 649/1000 [6:21:48<1:31:57, 15.72s/episodes]"
     ]
    },
    {
     "name": "stdout",
     "output_type": "stream",
     "text": [
      "265.26372646426347\n",
      "episode 650\n"
     ]
    },
    {
     "name": "stderr",
     "output_type": "stream",
     "text": [
      "\r\n",
      " 65%|######5   | 650/1000 [6:22:01<1:26:03, 14.75s/episodes]"
     ]
    },
    {
     "name": "stdout",
     "output_type": "stream",
     "text": [
      "279.75550698541787\n",
      "episode 651\n"
     ]
    },
    {
     "name": "stderr",
     "output_type": "stream",
     "text": [
      "\r\n",
      " 65%|######5   | 651/1000 [6:22:31<1:52:22, 19.32s/episodes]"
     ]
    },
    {
     "name": "stdout",
     "output_type": "stream",
     "text": [
      "277.84179742492233\n",
      "episode 652\n"
     ]
    },
    {
     "name": "stderr",
     "output_type": "stream",
     "text": [
      "\r\n",
      " 65%|######5   | 652/1000 [6:22:47<1:46:34, 18.37s/episodes]"
     ]
    },
    {
     "name": "stdout",
     "output_type": "stream",
     "text": [
      "264.4821905995515\n",
      "episode 653\n"
     ]
    },
    {
     "name": "stderr",
     "output_type": "stream",
     "text": [
      "\r\n",
      " 65%|######5   | 653/1000 [6:23:16<2:05:43, 21.74s/episodes]"
     ]
    },
    {
     "name": "stdout",
     "output_type": "stream",
     "text": [
      "288.15953239430866\n",
      "episode 654\n"
     ]
    },
    {
     "name": "stderr",
     "output_type": "stream",
     "text": [
      "\r\n",
      " 65%|######5   | 654/1000 [6:23:33<1:56:41, 20.24s/episodes]"
     ]
    },
    {
     "name": "stdout",
     "output_type": "stream",
     "text": [
      "270.9148763294592\n",
      "episode 655\n"
     ]
    },
    {
     "name": "stderr",
     "output_type": "stream",
     "text": [
      "\r\n",
      " 66%|######5   | 655/1000 [6:23:58<2:04:28, 21.65s/episodes]"
     ]
    },
    {
     "name": "stdout",
     "output_type": "stream",
     "text": [
      "306.16261364127405\n",
      "episode 656\n"
     ]
    },
    {
     "name": "stderr",
     "output_type": "stream",
     "text": [
      "\r\n",
      " 66%|######5   | 656/1000 [6:24:47<2:50:42, 29.78s/episodes]"
     ]
    },
    {
     "name": "stdout",
     "output_type": "stream",
     "text": [
      "212.2131567252972\n",
      "episode 657\n"
     ]
    },
    {
     "name": "stderr",
     "output_type": "stream",
     "text": [
      "\r\n",
      " 66%|######5   | 657/1000 [6:25:44<3:36:43, 37.91s/episodes]"
     ]
    },
    {
     "name": "stdout",
     "output_type": "stream",
     "text": [
      "204.3155608861731\n",
      "episode 658\n"
     ]
    },
    {
     "name": "stderr",
     "output_type": "stream",
     "text": [
      "\r\n",
      " 66%|######5   | 658/1000 [6:26:04<3:06:20, 32.69s/episodes]"
     ]
    },
    {
     "name": "stdout",
     "output_type": "stream",
     "text": [
      "247.8186934400568\n",
      "episode 659\n"
     ]
    },
    {
     "name": "stderr",
     "output_type": "stream",
     "text": [
      "\r\n",
      " 66%|######5   | 659/1000 [6:27:07<3:57:33, 41.80s/episodes]"
     ]
    },
    {
     "name": "stdout",
     "output_type": "stream",
     "text": [
      "257.8042630760988\n",
      "episode 660\n"
     ]
    },
    {
     "name": "stderr",
     "output_type": "stream",
     "text": [
      "\r\n",
      " 66%|######6   | 660/1000 [6:27:26<3:18:05, 34.96s/episodes]"
     ]
    },
    {
     "name": "stdout",
     "output_type": "stream",
     "text": [
      "182.6095699538115\n",
      "episode 661\n"
     ]
    },
    {
     "name": "stderr",
     "output_type": "stream",
     "text": [
      "\r\n",
      " 66%|######6   | 661/1000 [6:27:53<3:04:08, 32.59s/episodes]"
     ]
    },
    {
     "name": "stdout",
     "output_type": "stream",
     "text": [
      "247.7822735695106\n",
      "episode 662\n"
     ]
    },
    {
     "name": "stderr",
     "output_type": "stream",
     "text": [
      "\r\n",
      " 66%|######6   | 662/1000 [6:28:15<2:45:45, 29.43s/episodes]"
     ]
    },
    {
     "name": "stdout",
     "output_type": "stream",
     "text": [
      "232.61980183966227\n",
      "episode 663\n"
     ]
    },
    {
     "name": "stderr",
     "output_type": "stream",
     "text": [
      "\r\n",
      " 66%|######6   | 663/1000 [6:28:42<2:40:18, 28.54s/episodes]"
     ]
    },
    {
     "name": "stdout",
     "output_type": "stream",
     "text": [
      "223.26702224413663\n",
      "episode 664\n"
     ]
    },
    {
     "name": "stderr",
     "output_type": "stream",
     "text": [
      "\r\n",
      " 66%|######6   | 664/1000 [6:29:07<2:33:31, 27.42s/episodes]"
     ]
    },
    {
     "name": "stdout",
     "output_type": "stream",
     "text": [
      "274.6933400287381\n",
      "episode 665\n"
     ]
    },
    {
     "name": "stderr",
     "output_type": "stream",
     "text": [
      "\r\n",
      " 66%|######6   | 665/1000 [6:29:22<2:12:24, 23.71s/episodes]"
     ]
    },
    {
     "name": "stdout",
     "output_type": "stream",
     "text": [
      "269.7884932239348\n",
      "episode 666\n"
     ]
    },
    {
     "name": "stderr",
     "output_type": "stream",
     "text": [
      "\r\n",
      " 67%|######6   | 666/1000 [6:29:41<2:04:12, 22.31s/episodes]"
     ]
    },
    {
     "name": "stdout",
     "output_type": "stream",
     "text": [
      "299.89270606063576\n",
      "episode 667\n"
     ]
    },
    {
     "name": "stderr",
     "output_type": "stream",
     "text": [
      "\r\n",
      " 67%|######6   | 667/1000 [6:30:00<1:59:21, 21.51s/episodes]"
     ]
    },
    {
     "name": "stdout",
     "output_type": "stream",
     "text": [
      "306.590461847733\n",
      "episode 668\n"
     ]
    },
    {
     "name": "stderr",
     "output_type": "stream",
     "text": [
      "\r\n",
      " 67%|######6   | 668/1000 [6:30:36<2:21:58, 25.66s/episodes]"
     ]
    },
    {
     "name": "stdout",
     "output_type": "stream",
     "text": [
      "275.9627247683238\n",
      "episode 669\n"
     ]
    },
    {
     "name": "stderr",
     "output_type": "stream",
     "text": [
      "\r\n",
      " 67%|######6   | 669/1000 [6:30:49<2:00:46, 21.89s/episodes]"
     ]
    },
    {
     "name": "stdout",
     "output_type": "stream",
     "text": [
      "290.3281129598195\n",
      "episode 670\n"
     ]
    },
    {
     "name": "stderr",
     "output_type": "stream",
     "text": [
      "\r\n",
      " 67%|######7   | 670/1000 [6:31:04<1:49:24, 19.89s/episodes]"
     ]
    },
    {
     "name": "stdout",
     "output_type": "stream",
     "text": [
      "271.44381337762405\n",
      "episode 671\n"
     ]
    },
    {
     "name": "stderr",
     "output_type": "stream",
     "text": [
      "\r\n",
      " 67%|######7   | 671/1000 [6:31:20<1:42:20, 18.67s/episodes]"
     ]
    },
    {
     "name": "stdout",
     "output_type": "stream",
     "text": [
      "266.86679759205714\n",
      "episode 672\n"
     ]
    },
    {
     "name": "stderr",
     "output_type": "stream",
     "text": [
      "\r\n",
      " 67%|######7   | 672/1000 [6:31:35<1:36:52, 17.72s/episodes]"
     ]
    },
    {
     "name": "stdout",
     "output_type": "stream",
     "text": [
      "232.00112137347944\n",
      "episode 673\n"
     ]
    },
    {
     "name": "stderr",
     "output_type": "stream",
     "text": [
      "\r\n",
      " 67%|######7   | 673/1000 [6:31:54<1:37:35, 17.91s/episodes]"
     ]
    },
    {
     "name": "stdout",
     "output_type": "stream",
     "text": [
      "264.920943465666\n",
      "episode 674\n"
     ]
    },
    {
     "name": "stderr",
     "output_type": "stream",
     "text": [
      "\r\n",
      " 67%|######7   | 674/1000 [6:32:09<1:33:04, 17.13s/episodes]"
     ]
    },
    {
     "name": "stdout",
     "output_type": "stream",
     "text": [
      "227.4962469348001\n",
      "episode 675\n"
     ]
    },
    {
     "name": "stderr",
     "output_type": "stream",
     "text": [
      "\r\n",
      " 68%|######7   | 675/1000 [6:32:45<2:02:58, 22.70s/episodes]"
     ]
    },
    {
     "name": "stdout",
     "output_type": "stream",
     "text": [
      "222.1342383704775\n",
      "episode 676\n"
     ]
    },
    {
     "name": "stderr",
     "output_type": "stream",
     "text": [
      "\r\n",
      " 68%|######7   | 676/1000 [6:32:59<1:49:34, 20.29s/episodes]"
     ]
    },
    {
     "name": "stdout",
     "output_type": "stream",
     "text": [
      "247.82938421492625\n",
      "episode 677\n"
     ]
    },
    {
     "name": "stderr",
     "output_type": "stream",
     "text": [
      "\r\n",
      " 68%|######7   | 677/1000 [6:34:04<3:00:00, 33.44s/episodes]"
     ]
    },
    {
     "name": "stdout",
     "output_type": "stream",
     "text": [
      "185.46086294370429\n",
      "episode 678\n"
     ]
    },
    {
     "name": "stderr",
     "output_type": "stream",
     "text": [
      "\r\n",
      " 68%|######7   | 678/1000 [6:34:18<2:28:36, 27.69s/episodes]"
     ]
    },
    {
     "name": "stdout",
     "output_type": "stream",
     "text": [
      "50.33515821801191\n",
      "episode 679\n"
     ]
    },
    {
     "name": "stderr",
     "output_type": "stream",
     "text": [
      "\r\n",
      " 68%|######7   | 679/1000 [6:34:36<2:13:21, 24.93s/episodes]"
     ]
    },
    {
     "name": "stdout",
     "output_type": "stream",
     "text": [
      "224.96497493801914\n",
      "episode 680\n"
     ]
    },
    {
     "name": "stderr",
     "output_type": "stream",
     "text": [
      "\r\n",
      " 68%|######8   | 680/1000 [6:35:10<2:27:14, 27.61s/episodes]"
     ]
    },
    {
     "name": "stdout",
     "output_type": "stream",
     "text": [
      "252.05777084687293\n",
      "episode 681\n"
     ]
    },
    {
     "name": "stderr",
     "output_type": "stream",
     "text": [
      "\r\n",
      " 68%|######8   | 681/1000 [6:36:07<3:12:50, 36.27s/episodes]"
     ]
    },
    {
     "name": "stdout",
     "output_type": "stream",
     "text": [
      "124.54110203067411\n",
      "episode 682\n"
     ]
    },
    {
     "name": "stderr",
     "output_type": "stream",
     "text": [
      "\r\n",
      " 68%|######8   | 682/1000 [6:36:42<3:10:01, 35.85s/episodes]"
     ]
    },
    {
     "name": "stdout",
     "output_type": "stream",
     "text": [
      "285.72151283894095\n",
      "episode 683\n"
     ]
    },
    {
     "name": "stderr",
     "output_type": "stream",
     "text": [
      "\r\n",
      " 68%|######8   | 683/1000 [6:36:57<2:37:19, 29.78s/episodes]"
     ]
    },
    {
     "name": "stdout",
     "output_type": "stream",
     "text": [
      "260.2635838404134\n",
      "episode 684\n"
     ]
    },
    {
     "name": "stderr",
     "output_type": "stream",
     "text": [
      "\r\n",
      " 68%|######8   | 684/1000 [6:37:11<2:11:08, 24.90s/episodes]"
     ]
    },
    {
     "name": "stdout",
     "output_type": "stream",
     "text": [
      "36.14053598639978\n",
      "episode 685\n"
     ]
    },
    {
     "name": "stderr",
     "output_type": "stream",
     "text": [
      "\r\n",
      " 68%|######8   | 685/1000 [6:37:30<2:02:37, 23.36s/episodes]"
     ]
    },
    {
     "name": "stdout",
     "output_type": "stream",
     "text": [
      "252.66910407023417\n",
      "episode 686\n"
     ]
    },
    {
     "name": "stderr",
     "output_type": "stream",
     "text": [
      "\r\n",
      " 69%|######8   | 686/1000 [6:38:19<2:42:33, 31.06s/episodes]"
     ]
    },
    {
     "name": "stdout",
     "output_type": "stream",
     "text": [
      "241.39469821704998\n",
      "episode 687\n"
     ]
    },
    {
     "name": "stderr",
     "output_type": "stream",
     "text": [
      "\r\n",
      " 69%|######8   | 687/1000 [6:38:34<2:16:08, 26.10s/episodes]"
     ]
    },
    {
     "name": "stdout",
     "output_type": "stream",
     "text": [
      "220.2548804359667\n",
      "episode 688\n"
     ]
    },
    {
     "name": "stderr",
     "output_type": "stream",
     "text": [
      "\r\n",
      " 69%|######8   | 688/1000 [6:39:58<3:46:14, 43.51s/episodes]"
     ]
    },
    {
     "name": "stdout",
     "output_type": "stream",
     "text": [
      "133.1357813144988\n",
      "episode 689\n"
     ]
    },
    {
     "name": "stderr",
     "output_type": "stream",
     "text": [
      "\r\n",
      " 69%|######8   | 689/1000 [6:40:14<3:02:24, 35.19s/episodes]"
     ]
    },
    {
     "name": "stdout",
     "output_type": "stream",
     "text": [
      "240.96930467714063\n",
      "episode 690\n"
     ]
    },
    {
     "name": "stderr",
     "output_type": "stream",
     "text": [
      "\r\n",
      " 69%|######9   | 690/1000 [6:40:29<2:30:48, 29.19s/episodes]"
     ]
    },
    {
     "name": "stdout",
     "output_type": "stream",
     "text": [
      "259.7385305188534\n",
      "episode 691\n",
      "258.85770443548085\n"
     ]
    },
    {
     "name": "stderr",
     "output_type": "stream",
     "text": [
      "\r\n",
      " 69%|######9   | 691/1000 [6:40:55<2:25:45, 28.30s/episodes]"
     ]
    },
    {
     "name": "stdout",
     "output_type": "stream",
     "text": [
      "episode 692\n"
     ]
    },
    {
     "name": "stderr",
     "output_type": "stream",
     "text": [
      "\r\n",
      " 69%|######9   | 692/1000 [6:41:11<2:05:54, 24.53s/episodes]"
     ]
    },
    {
     "name": "stdout",
     "output_type": "stream",
     "text": [
      "239.23182949959997\n",
      "episode 693\n"
     ]
    },
    {
     "name": "stderr",
     "output_type": "stream",
     "text": [
      "\r\n",
      " 69%|######9   | 693/1000 [6:41:26<1:51:24, 21.77s/episodes]"
     ]
    },
    {
     "name": "stdout",
     "output_type": "stream",
     "text": [
      "262.4769666634214\n",
      "episode 694\n"
     ]
    },
    {
     "name": "stderr",
     "output_type": "stream",
     "text": [
      "\r\n",
      " 69%|######9   | 694/1000 [6:41:41<1:40:43, 19.75s/episodes]"
     ]
    },
    {
     "name": "stdout",
     "output_type": "stream",
     "text": [
      "253.3270622791149\n",
      "episode 695\n"
     ]
    },
    {
     "name": "stderr",
     "output_type": "stream",
     "text": [
      "\r\n",
      " 70%|######9   | 695/1000 [6:42:12<1:57:00, 23.02s/episodes]"
     ]
    },
    {
     "name": "stdout",
     "output_type": "stream",
     "text": [
      "283.22749313066527\n",
      "episode 696\n"
     ]
    },
    {
     "name": "stderr",
     "output_type": "stream",
     "text": [
      "\r\n",
      " 70%|######9   | 696/1000 [6:42:56<2:28:23, 29.29s/episodes]"
     ]
    },
    {
     "name": "stdout",
     "output_type": "stream",
     "text": [
      "264.6867211947683\n",
      "episode 697\n"
     ]
    },
    {
     "name": "stderr",
     "output_type": "stream",
     "text": [
      "\r\n",
      " 70%|######9   | 697/1000 [6:43:35<2:43:05, 32.30s/episodes]"
     ]
    },
    {
     "name": "stdout",
     "output_type": "stream",
     "text": [
      "276.9866134870597\n",
      "episode 698\n"
     ]
    },
    {
     "name": "stderr",
     "output_type": "stream",
     "text": [
      "\r\n",
      " 70%|######9   | 698/1000 [6:43:51<2:18:07, 27.44s/episodes]"
     ]
    },
    {
     "name": "stdout",
     "output_type": "stream",
     "text": [
      "239.89934137038463\n",
      "episode 699\n"
     ]
    },
    {
     "name": "stderr",
     "output_type": "stream",
     "text": [
      "\r\n",
      " 72%|#######1  | 717/1000 [6:55:38<3:28:31, 44.21s/episodes]"
     ]
    },
    {
     "name": "stdout",
     "output_type": "stream",
     "text": [
      "189.37673052081183\n",
      "episode 718\n"
     ]
    },
    {
     "name": "stderr",
     "output_type": "stream",
     "text": [
      "\r\n",
      " 72%|#######1  | 718/1000 [6:55:52<2:44:18, 34.96s/episodes]"
     ]
    },
    {
     "name": "stdout",
     "output_type": "stream",
     "text": [
      "-17.333716243368457\n",
      "episode 719\n"
     ]
    },
    {
     "name": "stderr",
     "output_type": "stream",
     "text": [
      "\r\n",
      " 72%|#######1  | 719/1000 [6:57:16<3:53:54, 49.94s/episodes]"
     ]
    },
    {
     "name": "stdout",
     "output_type": "stream",
     "text": [
      "-6.967565072893778\n",
      "episode 720\n"
     ]
    },
    {
     "name": "stderr",
     "output_type": "stream",
     "text": [
      "\r\n",
      " 72%|#######2  | 720/1000 [6:57:33<3:06:28, 39.96s/episodes]"
     ]
    },
    {
     "name": "stdout",
     "output_type": "stream",
     "text": [
      "279.3312722841572\n",
      "episode 721\n"
     ]
    },
    {
     "name": "stderr",
     "output_type": "stream",
     "text": [
      "\r\n",
      " 72%|#######2  | 721/1000 [6:57:46<2:27:54, 31.81s/episodes]"
     ]
    },
    {
     "name": "stdout",
     "output_type": "stream",
     "text": [
      "251.60000165454554\n",
      "episode 722\n"
     ]
    },
    {
     "name": "stderr",
     "output_type": "stream",
     "text": [
      "\r\n",
      " 72%|#######2  | 722/1000 [6:57:59<2:01:45, 26.28s/episodes]"
     ]
    },
    {
     "name": "stdout",
     "output_type": "stream",
     "text": [
      "233.22461745073565\n",
      "episode 723\n"
     ]
    },
    {
     "name": "stderr",
     "output_type": "stream",
     "text": [
      "\r\n",
      " 72%|#######2  | 723/1000 [6:58:13<1:43:33, 22.43s/episodes]"
     ]
    },
    {
     "name": "stdout",
     "output_type": "stream",
     "text": [
      "243.2989847983316\n",
      "episode 724\n"
     ]
    },
    {
     "name": "stderr",
     "output_type": "stream",
     "text": [
      "\r\n",
      " 72%|#######2  | 724/1000 [6:58:31<1:37:28, 21.19s/episodes]"
     ]
    },
    {
     "name": "stdout",
     "output_type": "stream",
     "text": [
      "279.7758485134284\n",
      "episode 725\n"
     ]
    },
    {
     "name": "stderr",
     "output_type": "stream",
     "text": [
      "\r\n",
      " 72%|#######2  | 725/1000 [6:58:43<1:24:50, 18.51s/episodes]"
     ]
    },
    {
     "name": "stdout",
     "output_type": "stream",
     "text": [
      "281.1433679120173\n",
      "episode 726\n"
     ]
    },
    {
     "name": "stderr",
     "output_type": "stream",
     "text": [
      "\r\n",
      " 73%|#######2  | 726/1000 [7:00:07<2:54:21, 38.18s/episodes]"
     ]
    },
    {
     "name": "stdout",
     "output_type": "stream",
     "text": [
      "160.27738984003906\n",
      "episode 727\n"
     ]
    },
    {
     "name": "stderr",
     "output_type": "stream",
     "text": [
      "\r\n",
      " 73%|#######2  | 727/1000 [7:00:24<2:23:59, 31.65s/episodes]"
     ]
    },
    {
     "name": "stdout",
     "output_type": "stream",
     "text": [
      "282.6398853963974\n",
      "episode 728\n"
     ]
    },
    {
     "name": "stderr",
     "output_type": "stream",
     "text": [
      "\r\n",
      " 73%|#######2  | 728/1000 [7:00:41<2:04:30, 27.46s/episodes]"
     ]
    },
    {
     "name": "stdout",
     "output_type": "stream",
     "text": [
      "290.19264741633583\n",
      "episode 729\n"
     ]
    },
    {
     "name": "stderr",
     "output_type": "stream",
     "text": [
      "\r\n",
      " 73%|#######2  | 729/1000 [7:01:05<1:58:37, 26.26s/episodes]"
     ]
    },
    {
     "name": "stdout",
     "output_type": "stream",
     "text": [
      "276.91632821417215\n",
      "episode 730\n"
     ]
    },
    {
     "name": "stderr",
     "output_type": "stream",
     "text": [
      "\r\n",
      " 73%|#######3  | 730/1000 [7:01:36<2:05:18, 27.85s/episodes]"
     ]
    },
    {
     "name": "stdout",
     "output_type": "stream",
     "text": [
      "262.89339323457455\n",
      "episode 731\n"
     ]
    },
    {
     "name": "stderr",
     "output_type": "stream",
     "text": [
      "\r\n",
      " 73%|#######3  | 731/1000 [7:01:56<1:54:14, 25.48s/episodes]"
     ]
    },
    {
     "name": "stdout",
     "output_type": "stream",
     "text": [
      "294.1487606670486\n",
      "episode 732\n"
     ]
    },
    {
     "name": "stderr",
     "output_type": "stream",
     "text": [
      "\r\n",
      " 73%|#######3  | 732/1000 [7:02:14<1:43:31, 23.18s/episodes]"
     ]
    },
    {
     "name": "stdout",
     "output_type": "stream",
     "text": [
      "269.99338443590386\n",
      "episode 733\n"
     ]
    },
    {
     "name": "stderr",
     "output_type": "stream",
     "text": [
      "\r\n",
      " 73%|#######3  | 733/1000 [7:02:30<1:33:21, 20.98s/episodes]"
     ]
    },
    {
     "name": "stdout",
     "output_type": "stream",
     "text": [
      "238.55203227745122\n",
      "episode 734\n"
     ]
    },
    {
     "name": "stderr",
     "output_type": "stream",
     "text": [
      "\r\n",
      " 73%|#######3  | 734/1000 [7:02:53<1:35:54, 21.63s/episodes]"
     ]
    },
    {
     "name": "stdout",
     "output_type": "stream",
     "text": [
      "265.2409994086343\n",
      "episode 735\n"
     ]
    },
    {
     "name": "stderr",
     "output_type": "stream",
     "text": [
      "\r\n",
      " 74%|#######3  | 735/1000 [7:03:07<1:24:30, 19.14s/episodes]"
     ]
    },
    {
     "name": "stdout",
     "output_type": "stream",
     "text": [
      "276.15146124753784\n",
      "episode 736\n"
     ]
    },
    {
     "name": "stderr",
     "output_type": "stream",
     "text": [
      "\r\n",
      " 74%|#######3  | 736/1000 [7:03:23<1:20:17, 18.25s/episodes]"
     ]
    },
    {
     "name": "stdout",
     "output_type": "stream",
     "text": [
      "296.3403847804505\n",
      "episode 737\n"
     ]
    },
    {
     "name": "stderr",
     "output_type": "stream",
     "text": [
      "\r\n",
      " 74%|#######3  | 737/1000 [7:03:44<1:23:27, 19.04s/episodes]"
     ]
    },
    {
     "name": "stdout",
     "output_type": "stream",
     "text": [
      "300.28831608133305\n",
      "episode 738\n"
     ]
    },
    {
     "name": "stderr",
     "output_type": "stream",
     "text": [
      "\r\n",
      " 74%|#######3  | 738/1000 [7:05:09<2:50:19, 39.01s/episodes]"
     ]
    },
    {
     "name": "stdout",
     "output_type": "stream",
     "text": [
      "-17.281021971270135\n",
      "episode 739\n"
     ]
    },
    {
     "name": "stderr",
     "output_type": "stream",
     "text": [
      "\r\n",
      " 74%|#######3  | 739/1000 [7:05:27<2:22:03, 32.66s/episodes]"
     ]
    },
    {
     "name": "stdout",
     "output_type": "stream",
     "text": [
      "265.28972553500455\n",
      "episode 740\n"
     ]
    },
    {
     "name": "stderr",
     "output_type": "stream",
     "text": [
      "\r\n",
      " 74%|#######4  | 740/1000 [7:05:44<2:01:38, 28.07s/episodes]"
     ]
    },
    {
     "name": "stdout",
     "output_type": "stream",
     "text": [
      "271.05238812662725\n",
      "episode 741\n"
     ]
    },
    {
     "name": "stderr",
     "output_type": "stream",
     "text": [
      "\r\n",
      " 74%|#######4  | 741/1000 [7:07:09<3:13:59, 44.94s/episodes]"
     ]
    },
    {
     "name": "stdout",
     "output_type": "stream",
     "text": [
      "162.07580639249284\n",
      "episode 742\n"
     ]
    },
    {
     "name": "stderr",
     "output_type": "stream",
     "text": [
      "\r\n",
      " 74%|#######4  | 742/1000 [7:07:26<2:38:00, 36.75s/episodes]"
     ]
    },
    {
     "name": "stdout",
     "output_type": "stream",
     "text": [
      "290.2805268120426\n",
      "episode 743\n"
     ]
    },
    {
     "name": "stderr",
     "output_type": "stream",
     "text": [
      "\r\n",
      " 74%|#######4  | 743/1000 [7:07:57<2:29:53, 34.99s/episodes]"
     ]
    },
    {
     "name": "stdout",
     "output_type": "stream",
     "text": [
      "231.8803290968465\n",
      "episode 744\n"
     ]
    },
    {
     "name": "stderr",
     "output_type": "stream",
     "text": [
      "\r\n",
      " 74%|#######4  | 744/1000 [7:08:10<2:00:34, 28.26s/episodes]"
     ]
    },
    {
     "name": "stdout",
     "output_type": "stream",
     "text": [
      "28.600214814456308\n",
      "episode 745\n"
     ]
    },
    {
     "name": "stderr",
     "output_type": "stream",
     "text": [
      "\r\n",
      " 74%|#######4  | 745/1000 [7:08:34<1:54:41, 26.99s/episodes]"
     ]
    },
    {
     "name": "stdout",
     "output_type": "stream",
     "text": [
      "278.5209007525267\n",
      "episode 746\n"
     ]
    },
    {
     "name": "stderr",
     "output_type": "stream",
     "text": [
      "\r\n",
      " 75%|#######4  | 746/1000 [7:08:50<1:39:55, 23.61s/episodes]"
     ]
    },
    {
     "name": "stdout",
     "output_type": "stream",
     "text": [
      "277.09479220103947\n",
      "episode 747\n"
     ]
    },
    {
     "name": "stderr",
     "output_type": "stream",
     "text": [
      "\r\n",
      " 75%|#######4  | 747/1000 [7:09:08<1:33:21, 22.14s/episodes]"
     ]
    },
    {
     "name": "stdout",
     "output_type": "stream",
     "text": [
      "272.3716159383712\n",
      "episode 748\n"
     ]
    },
    {
     "name": "stderr",
     "output_type": "stream",
     "text": [
      "\r\n",
      " 75%|#######4  | 748/1000 [7:09:25<1:25:31, 20.36s/episodes]"
     ]
    },
    {
     "name": "stdout",
     "output_type": "stream",
     "text": [
      "245.5877181824947\n",
      "episode 749\n"
     ]
    },
    {
     "name": "stderr",
     "output_type": "stream",
     "text": [
      "\r\n",
      " 75%|#######4  | 749/1000 [7:09:40<1:19:37, 19.03s/episodes]"
     ]
    },
    {
     "name": "stdout",
     "output_type": "stream",
     "text": [
      "247.8076272383365\n",
      "episode 750\n"
     ]
    },
    {
     "name": "stderr",
     "output_type": "stream",
     "text": [
      "\r\n",
      " 75%|#######5  | 750/1000 [7:09:57<1:15:40, 18.16s/episodes]"
     ]
    },
    {
     "name": "stdout",
     "output_type": "stream",
     "text": [
      "258.1215824295643\n",
      "episode 751\n"
     ]
    },
    {
     "name": "stderr",
     "output_type": "stream",
     "text": [
      "\r\n",
      " 75%|#######5  | 751/1000 [7:10:18<1:19:18, 19.11s/episodes]"
     ]
    },
    {
     "name": "stdout",
     "output_type": "stream",
     "text": [
      "252.6112311590118\n",
      "episode 752\n"
     ]
    },
    {
     "name": "stderr",
     "output_type": "stream",
     "text": [
      "\r\n",
      " 75%|#######5  | 752/1000 [7:11:05<1:53:14, 27.40s/episodes]"
     ]
    },
    {
     "name": "stdout",
     "output_type": "stream",
     "text": [
      "230.08744368798952\n",
      "episode 753\n"
     ]
    },
    {
     "name": "stderr",
     "output_type": "stream",
     "text": [
      "\r\n",
      " 75%|#######5  | 753/1000 [7:11:37<1:58:45, 28.85s/episodes]"
     ]
    },
    {
     "name": "stdout",
     "output_type": "stream",
     "text": [
      "263.7923265354593\n",
      "episode 754\n"
     ]
    },
    {
     "name": "stderr",
     "output_type": "stream",
     "text": [
      "\r\n",
      " 75%|#######5  | 754/1000 [7:11:51<1:40:01, 24.40s/episodes]"
     ]
    },
    {
     "name": "stdout",
     "output_type": "stream",
     "text": [
      "285.99774682854684\n",
      "episode 755\n"
     ]
    },
    {
     "name": "stderr",
     "output_type": "stream",
     "text": [
      "\r\n",
      " 76%|#######5  | 755/1000 [7:12:04<1:25:48, 21.01s/episodes]"
     ]
    },
    {
     "name": "stdout",
     "output_type": "stream",
     "text": [
      "277.1946673187979\n",
      "episode 756\n"
     ]
    },
    {
     "name": "stderr",
     "output_type": "stream",
     "text": [
      "\r\n",
      " 76%|#######5  | 756/1000 [7:12:19<1:17:54, 19.16s/episodes]"
     ]
    },
    {
     "name": "stdout",
     "output_type": "stream",
     "text": [
      "270.7632248331591\n",
      "episode 757\n"
     ]
    },
    {
     "name": "stderr",
     "output_type": "stream",
     "text": [
      "\r\n",
      " 76%|#######5  | 757/1000 [7:12:35<1:14:05, 18.30s/episodes]"
     ]
    },
    {
     "name": "stdout",
     "output_type": "stream",
     "text": [
      "256.15603005715883\n",
      "episode 758\n"
     ]
    },
    {
     "name": "stderr",
     "output_type": "stream",
     "text": [
      "\r\n",
      " 76%|#######5  | 758/1000 [7:12:49<1:09:01, 17.11s/episodes]"
     ]
    },
    {
     "name": "stdout",
     "output_type": "stream",
     "text": [
      "275.7837852819806\n",
      "episode 759\n"
     ]
    },
    {
     "name": "stderr",
     "output_type": "stream",
     "text": [
      "\r\n",
      " 76%|#######5  | 759/1000 [7:13:05<1:06:31, 16.56s/episodes]"
     ]
    },
    {
     "name": "stdout",
     "output_type": "stream",
     "text": [
      "245.60022525279845\n",
      "episode 760\n"
     ]
    },
    {
     "name": "stderr",
     "output_type": "stream",
     "text": [
      "\r\n",
      " 76%|#######6  | 760/1000 [7:13:20<1:04:43, 16.18s/episodes]"
     ]
    },
    {
     "name": "stdout",
     "output_type": "stream",
     "text": [
      "240.46031571390358\n",
      "episode 761\n"
     ]
    },
    {
     "name": "stderr",
     "output_type": "stream",
     "text": [
      "\r\n",
      " 76%|#######6  | 761/1000 [7:13:42<1:10:49, 17.78s/episodes]"
     ]
    },
    {
     "name": "stdout",
     "output_type": "stream",
     "text": [
      "272.5288964464197\n",
      "episode 762\n"
     ]
    },
    {
     "name": "stderr",
     "output_type": "stream",
     "text": [
      "\r\n",
      " 76%|#######6  | 762/1000 [7:13:57<1:07:50, 17.10s/episodes]"
     ]
    },
    {
     "name": "stdout",
     "output_type": "stream",
     "text": [
      "250.6363644655505\n",
      "episode 763\n"
     ]
    },
    {
     "name": "stderr",
     "output_type": "stream",
     "text": [
      "\r\n",
      " 76%|#######6  | 763/1000 [7:14:54<1:54:53, 29.08s/episodes]"
     ]
    },
    {
     "name": "stdout",
     "output_type": "stream",
     "text": [
      "206.08796212737928\n",
      "episode 764\n"
     ]
    },
    {
     "name": "stderr",
     "output_type": "stream",
     "text": [
      "\r\n",
      " 76%|#######6  | 764/1000 [7:15:14<1:43:31, 26.32s/episodes]"
     ]
    },
    {
     "name": "stdout",
     "output_type": "stream",
     "text": [
      "256.12732753527285\n",
      "episode 765\n"
     ]
    },
    {
     "name": "stderr",
     "output_type": "stream",
     "text": [
      "\r\n",
      " 76%|#######6  | 765/1000 [7:15:33<1:33:57, 23.99s/episodes]"
     ]
    },
    {
     "name": "stdout",
     "output_type": "stream",
     "text": [
      "260.5343102666081\n",
      "episode 766\n"
     ]
    },
    {
     "name": "stderr",
     "output_type": "stream",
     "text": [
      "\r\n",
      " 77%|#######6  | 766/1000 [7:15:50<1:26:26, 22.17s/episodes]"
     ]
    },
    {
     "name": "stdout",
     "output_type": "stream",
     "text": [
      "282.23611821095454\n",
      "episode 767\n"
     ]
    },
    {
     "name": "stderr",
     "output_type": "stream",
     "text": [
      "\r\n",
      " 77%|#######6  | 767/1000 [7:16:13<1:26:38, 22.31s/episodes]"
     ]
    },
    {
     "name": "stdout",
     "output_type": "stream",
     "text": [
      "265.75692137950705\n",
      "episode 768\n"
     ]
    },
    {
     "name": "stderr",
     "output_type": "stream",
     "text": [
      "\r\n",
      " 77%|#######6  | 768/1000 [7:16:37<1:27:44, 22.69s/episodes]"
     ]
    },
    {
     "name": "stdout",
     "output_type": "stream",
     "text": [
      "232.7681054922141\n",
      "episode 769\n"
     ]
    },
    {
     "name": "stderr",
     "output_type": "stream",
     "text": [
      "\r\n",
      " 77%|#######6  | 769/1000 [7:16:53<1:19:42, 20.70s/episodes]"
     ]
    },
    {
     "name": "stdout",
     "output_type": "stream",
     "text": [
      "258.94267383717863\n",
      "episode 770\n"
     ]
    },
    {
     "name": "stderr",
     "output_type": "stream",
     "text": [
      "\r\n",
      " 77%|#######7  | 770/1000 [7:17:13<1:19:13, 20.67s/episodes]"
     ]
    },
    {
     "name": "stdout",
     "output_type": "stream",
     "text": [
      "268.6420235837136\n",
      "episode 771\n"
     ]
    },
    {
     "name": "stderr",
     "output_type": "stream",
     "text": [
      "\r\n",
      " 77%|#######7  | 771/1000 [7:17:41<1:27:25, 22.91s/episodes]"
     ]
    },
    {
     "name": "stdout",
     "output_type": "stream",
     "text": [
      "291.82020420667556\n",
      "episode 772\n"
     ]
    },
    {
     "name": "stderr",
     "output_type": "stream",
     "text": [
      "\r\n",
      " 77%|#######7  | 772/1000 [7:17:58<1:19:23, 20.89s/episodes]"
     ]
    },
    {
     "name": "stdout",
     "output_type": "stream",
     "text": [
      "274.8453604270778\n",
      "episode 773\n"
     ]
    },
    {
     "name": "stderr",
     "output_type": "stream",
     "text": [
      "\r\n",
      " 77%|#######7  | 773/1000 [7:18:15<1:15:01, 19.83s/episodes]"
     ]
    },
    {
     "name": "stdout",
     "output_type": "stream",
     "text": [
      "274.82916204327336\n",
      "episode 774\n"
     ]
    },
    {
     "name": "stderr",
     "output_type": "stream",
     "text": [
      "\r\n",
      " 77%|#######7  | 774/1000 [7:18:30<1:09:11, 18.37s/episodes]"
     ]
    },
    {
     "name": "stdout",
     "output_type": "stream",
     "text": [
      "277.42118121151725\n",
      "episode 775\n"
     ]
    },
    {
     "name": "stderr",
     "output_type": "stream",
     "text": [
      "\r\n",
      " 78%|#######7  | 775/1000 [7:18:52<1:12:37, 19.37s/episodes]"
     ]
    },
    {
     "name": "stdout",
     "output_type": "stream",
     "text": [
      "267.7548380977733\n",
      "episode 776\n"
     ]
    },
    {
     "name": "stderr",
     "output_type": "stream",
     "text": [
      "\r\n",
      " 78%|#######7  | 776/1000 [7:19:12<1:12:56, 19.54s/episodes]"
     ]
    },
    {
     "name": "stdout",
     "output_type": "stream",
     "text": [
      "270.8299180647764\n",
      "episode 777\n"
     ]
    },
    {
     "name": "stderr",
     "output_type": "stream",
     "text": [
      "\r\n",
      " 78%|#######7  | 777/1000 [7:19:33<1:15:12, 20.24s/episodes]"
     ]
    },
    {
     "name": "stdout",
     "output_type": "stream",
     "text": [
      "251.8024867113499\n",
      "episode 778\n"
     ]
    },
    {
     "name": "stderr",
     "output_type": "stream",
     "text": [
      "\r\n",
      " 78%|#######7  | 778/1000 [7:19:59<1:20:42, 21.81s/episodes]"
     ]
    },
    {
     "name": "stdout",
     "output_type": "stream",
     "text": [
      "232.21722285858556\n",
      "episode 779\n"
     ]
    },
    {
     "name": "stderr",
     "output_type": "stream",
     "text": [
      "\r\n",
      " 78%|#######7  | 779/1000 [7:20:17<1:16:11, 20.69s/episodes]"
     ]
    },
    {
     "name": "stdout",
     "output_type": "stream",
     "text": [
      "232.61676826024188\n",
      "episode 780\n"
     ]
    },
    {
     "name": "stderr",
     "output_type": "stream",
     "text": [
      "\r\n",
      " 78%|#######8  | 780/1000 [7:21:12<1:53:48, 31.04s/episodes]"
     ]
    },
    {
     "name": "stdout",
     "output_type": "stream",
     "text": [
      "256.95780260343344\n",
      "episode 781\n"
     ]
    },
    {
     "name": "stderr",
     "output_type": "stream",
     "text": [
      "\r\n",
      " 78%|#######8  | 781/1000 [7:21:31<1:39:44, 27.33s/episodes]"
     ]
    },
    {
     "name": "stdout",
     "output_type": "stream",
     "text": [
      "275.865818526589\n",
      "episode 782\n"
     ]
    },
    {
     "name": "stderr",
     "output_type": "stream",
     "text": [
      "\r\n",
      " 78%|#######8  | 782/1000 [7:21:46<1:26:16, 23.75s/episodes]"
     ]
    },
    {
     "name": "stdout",
     "output_type": "stream",
     "text": [
      "264.9371328105985\n",
      "episode 783\n"
     ]
    },
    {
     "name": "stderr",
     "output_type": "stream",
     "text": [
      "\r\n",
      " 78%|#######8  | 783/1000 [7:22:11<1:26:43, 23.98s/episodes]"
     ]
    },
    {
     "name": "stdout",
     "output_type": "stream",
     "text": [
      "-167.7232655933942\n",
      "episode 784\n"
     ]
    },
    {
     "name": "stderr",
     "output_type": "stream",
     "text": [
      "\r\n",
      " 78%|#######8  | 784/1000 [7:22:25<1:15:46, 21.05s/episodes]"
     ]
    },
    {
     "name": "stdout",
     "output_type": "stream",
     "text": [
      "273.0437402039708\n",
      "episode 785\n"
     ]
    },
    {
     "name": "stderr",
     "output_type": "stream",
     "text": [
      "\r\n",
      " 78%|#######8  | 785/1000 [7:22:56<1:26:31, 24.15s/episodes]"
     ]
    },
    {
     "name": "stdout",
     "output_type": "stream",
     "text": [
      "-222.04240475707635\n",
      "episode 786\n"
     ]
    },
    {
     "name": "stderr",
     "output_type": "stream",
     "text": [
      "\r\n",
      " 79%|#######8  | 786/1000 [7:23:44<1:50:58, 31.11s/episodes]"
     ]
    },
    {
     "name": "stdout",
     "output_type": "stream",
     "text": [
      "-258.28221006812123\n",
      "episode 787\n"
     ]
    },
    {
     "name": "stderr",
     "output_type": "stream",
     "text": [
      "\r\n",
      " 79%|#######8  | 787/1000 [7:24:03<1:37:40, 27.51s/episodes]"
     ]
    },
    {
     "name": "stdout",
     "output_type": "stream",
     "text": [
      "258.5913347296365\n",
      "episode 788\n"
     ]
    },
    {
     "name": "stderr",
     "output_type": "stream",
     "text": [
      "\r\n",
      " 79%|#######8  | 788/1000 [7:24:20<1:26:22, 24.45s/episodes]"
     ]
    },
    {
     "name": "stdout",
     "output_type": "stream",
     "text": [
      "282.453677483545\n",
      "episode 789\n"
     ]
    },
    {
     "name": "stderr",
     "output_type": "stream",
     "text": [
      "\r\n",
      " 79%|#######8  | 789/1000 [7:24:37<1:18:30, 22.32s/episodes]"
     ]
    },
    {
     "name": "stdout",
     "output_type": "stream",
     "text": [
      "273.5345656938264\n",
      "episode 790\n"
     ]
    },
    {
     "name": "stderr",
     "output_type": "stream",
     "text": [
      "\r\n",
      " 79%|#######9  | 790/1000 [7:25:00<1:18:21, 22.39s/episodes]"
     ]
    },
    {
     "name": "stdout",
     "output_type": "stream",
     "text": [
      "259.82756082948356\n",
      "episode 791\n"
     ]
    },
    {
     "name": "stderr",
     "output_type": "stream",
     "text": [
      "\r\n",
      " 79%|#######9  | 791/1000 [7:25:17<1:11:55, 20.65s/episodes]"
     ]
    },
    {
     "name": "stdout",
     "output_type": "stream",
     "text": [
      "259.17796899420995\n",
      "episode 792\n"
     ]
    },
    {
     "name": "stderr",
     "output_type": "stream",
     "text": [
      "\r\n",
      " 79%|#######9  | 792/1000 [7:25:38<1:12:13, 20.84s/episodes]"
     ]
    },
    {
     "name": "stdout",
     "output_type": "stream",
     "text": [
      "256.9736657329269\n",
      "episode 793\n"
     ]
    },
    {
     "name": "stderr",
     "output_type": "stream",
     "text": [
      "\r\n",
      " 79%|#######9  | 793/1000 [7:26:44<1:59:06, 34.53s/episodes]"
     ]
    },
    {
     "name": "stdout",
     "output_type": "stream",
     "text": [
      "284.6271705186491\n",
      "episode 794\n"
     ]
    },
    {
     "name": "stderr",
     "output_type": "stream",
     "text": [
      "\r\n",
      " 79%|#######9  | 794/1000 [7:26:58<1:37:00, 28.26s/episodes]"
     ]
    },
    {
     "name": "stdout",
     "output_type": "stream",
     "text": [
      "277.1156006403662\n",
      "episode 795\n"
     ]
    },
    {
     "name": "stderr",
     "output_type": "stream",
     "text": [
      "\r\n",
      " 80%|#######9  | 795/1000 [7:27:15<1:24:37, 24.77s/episodes]"
     ]
    },
    {
     "name": "stdout",
     "output_type": "stream",
     "text": [
      "257.5600657622617\n",
      "episode 796\n"
     ]
    },
    {
     "name": "stderr",
     "output_type": "stream",
     "text": [
      "\r\n",
      " 80%|#######9  | 796/1000 [7:27:46<1:30:48, 26.71s/episodes]"
     ]
    },
    {
     "name": "stdout",
     "output_type": "stream",
     "text": [
      "250.02699638484728\n",
      "episode 797\n"
     ]
    },
    {
     "name": "stderr",
     "output_type": "stream",
     "text": [
      "\r\n",
      " 80%|#######9  | 797/1000 [7:28:05<1:22:45, 24.46s/episodes]"
     ]
    },
    {
     "name": "stdout",
     "output_type": "stream",
     "text": [
      "269.75332672921854\n",
      "episode 798\n"
     ]
    },
    {
     "name": "stderr",
     "output_type": "stream",
     "text": [
      "\r\n",
      " 80%|#######9  | 798/1000 [7:28:22<1:14:37, 22.16s/episodes]"
     ]
    },
    {
     "name": "stdout",
     "output_type": "stream",
     "text": [
      "253.80563964303755\n",
      "episode 799\n"
     ]
    },
    {
     "name": "stderr",
     "output_type": "stream",
     "text": [
      "\r\n",
      " 80%|#######9  | 799/1000 [7:28:39<1:09:03, 20.61s/episodes]"
     ]
    },
    {
     "name": "stdout",
     "output_type": "stream",
     "text": [
      "260.5184636204119\n",
      "episode 800\n"
     ]
    },
    {
     "name": "stderr",
     "output_type": "stream",
     "text": [
      "\r\n",
      " 80%|########  | 800/1000 [7:28:54<1:02:47, 18.84s/episodes]"
     ]
    },
    {
     "name": "stdout",
     "output_type": "stream",
     "text": [
      "274.3101414501414\n",
      "episode 801\n"
     ]
    },
    {
     "name": "stderr",
     "output_type": "stream",
     "text": [
      "\r\n",
      " 80%|########  | 801/1000 [7:29:09<59:00, 17.79s/episodes]  "
     ]
    },
    {
     "name": "stdout",
     "output_type": "stream",
     "text": [
      "252.08177661671834\n",
      "episode 802\n"
     ]
    },
    {
     "name": "stderr",
     "output_type": "stream",
     "text": [
      "\r\n",
      " 80%|########  | 802/1000 [7:29:24<55:47, 16.91s/episodes]"
     ]
    },
    {
     "name": "stdout",
     "output_type": "stream",
     "text": [
      "246.83281385726536\n",
      "episode 803\n"
     ]
    },
    {
     "name": "stderr",
     "output_type": "stream",
     "text": [
      "\r\n",
      " 80%|########  | 803/1000 [7:29:39<53:55, 16.42s/episodes]"
     ]
    },
    {
     "name": "stdout",
     "output_type": "stream",
     "text": [
      "262.97277186154156\n",
      "episode 804\n"
     ]
    },
    {
     "name": "stderr",
     "output_type": "stream",
     "text": [
      "\r\n",
      " 80%|########  | 804/1000 [7:29:56<54:14, 16.60s/episodes]"
     ]
    },
    {
     "name": "stdout",
     "output_type": "stream",
     "text": [
      "265.27531061089394\n",
      "episode 805\n"
     ]
    },
    {
     "name": "stderr",
     "output_type": "stream",
     "text": [
      "\r\n",
      " 80%|########  | 805/1000 [7:30:10<51:44, 15.92s/episodes]"
     ]
    },
    {
     "name": "stdout",
     "output_type": "stream",
     "text": [
      "246.76239492101192\n",
      "episode 806\n"
     ]
    },
    {
     "name": "stderr",
     "output_type": "stream",
     "text": [
      "\r\n",
      " 81%|########  | 806/1000 [7:30:22<47:24, 14.66s/episodes]"
     ]
    },
    {
     "name": "stdout",
     "output_type": "stream",
     "text": [
      "49.037893379545494\n",
      "episode 807\n"
     ]
    },
    {
     "name": "stderr",
     "output_type": "stream",
     "text": [
      "\r\n",
      " 81%|########  | 807/1000 [7:30:39<49:22, 15.35s/episodes]"
     ]
    },
    {
     "name": "stdout",
     "output_type": "stream",
     "text": [
      "274.3435423703056\n",
      "episode 808\n"
     ]
    },
    {
     "name": "stderr",
     "output_type": "stream",
     "text": [
      "\r\n",
      " 81%|########  | 808/1000 [7:30:55<50:05, 15.65s/episodes]"
     ]
    },
    {
     "name": "stdout",
     "output_type": "stream",
     "text": [
      "282.9487371697791\n",
      "episode 809\n"
     ]
    },
    {
     "name": "stderr",
     "output_type": "stream",
     "text": [
      "\r\n",
      " 81%|########  | 809/1000 [7:31:14<52:25, 16.47s/episodes]"
     ]
    },
    {
     "name": "stdout",
     "output_type": "stream",
     "text": [
      "232.20834031637602\n",
      "episode 810\n"
     ]
    },
    {
     "name": "stderr",
     "output_type": "stream",
     "text": [
      "\r\n",
      " 81%|########1 | 810/1000 [7:32:02<1:22:06, 25.93s/episodes]"
     ]
    },
    {
     "name": "stdout",
     "output_type": "stream",
     "text": [
      "241.20865310810427\n",
      "episode 811\n"
     ]
    },
    {
     "name": "stderr",
     "output_type": "stream",
     "text": [
      "\r\n",
      " 81%|########1 | 811/1000 [7:32:30<1:24:07, 26.70s/episodes]"
     ]
    },
    {
     "name": "stdout",
     "output_type": "stream",
     "text": [
      "252.8997724976161\n",
      "episode 812\n"
     ]
    },
    {
     "name": "stderr",
     "output_type": "stream",
     "text": [
      "\r\n",
      " 81%|########1 | 812/1000 [7:32:46<1:13:25, 23.43s/episodes]"
     ]
    },
    {
     "name": "stdout",
     "output_type": "stream",
     "text": [
      "274.9298978655943\n",
      "episode 813\n"
     ]
    },
    {
     "name": "stderr",
     "output_type": "stream",
     "text": [
      "\r\n",
      " 81%|########1 | 813/1000 [7:33:05<1:08:38, 22.02s/episodes]"
     ]
    },
    {
     "name": "stdout",
     "output_type": "stream",
     "text": [
      "247.37419091538402\n",
      "episode 814\n"
     ]
    },
    {
     "name": "stderr",
     "output_type": "stream",
     "text": [
      "\r\n",
      " 81%|########1 | 814/1000 [7:33:22<1:03:29, 20.48s/episodes]"
     ]
    },
    {
     "name": "stdout",
     "output_type": "stream",
     "text": [
      "280.0271204046788\n",
      "episode 815\n"
     ]
    },
    {
     "name": "stderr",
     "output_type": "stream",
     "text": [
      "\r\n",
      " 82%|########1 | 815/1000 [7:33:44<1:05:03, 21.10s/episodes]"
     ]
    },
    {
     "name": "stdout",
     "output_type": "stream",
     "text": [
      "241.42326503703137\n",
      "episode 816\n"
     ]
    },
    {
     "name": "stderr",
     "output_type": "stream",
     "text": [
      "\r\n",
      " 82%|########1 | 816/1000 [7:34:01<1:00:33, 19.75s/episodes]"
     ]
    },
    {
     "name": "stdout",
     "output_type": "stream",
     "text": [
      "273.732326064743\n",
      "episode 817\n"
     ]
    },
    {
     "name": "stderr",
     "output_type": "stream",
     "text": [
      "\r\n",
      " 82%|########1 | 817/1000 [7:34:15<55:31, 18.21s/episodes]  "
     ]
    },
    {
     "name": "stdout",
     "output_type": "stream",
     "text": [
      "284.31082752208107\n",
      "episode 818\n"
     ]
    },
    {
     "name": "stderr",
     "output_type": "stream",
     "text": [
      "\r\n",
      " 82%|########1 | 818/1000 [7:34:35<56:27, 18.61s/episodes]"
     ]
    },
    {
     "name": "stdout",
     "output_type": "stream",
     "text": [
      "290.08821403278665\n",
      "episode 819\n"
     ]
    },
    {
     "name": "stderr",
     "output_type": "stream",
     "text": [
      "\r\n",
      " 82%|########1 | 819/1000 [7:34:55<57:18, 19.00s/episodes]"
     ]
    },
    {
     "name": "stdout",
     "output_type": "stream",
     "text": [
      "259.60800956389494\n",
      "episode 820\n"
     ]
    },
    {
     "name": "stderr",
     "output_type": "stream",
     "text": [
      "\r\n",
      " 82%|########2 | 820/1000 [7:35:14<56:50, 18.95s/episodes]"
     ]
    },
    {
     "name": "stdout",
     "output_type": "stream",
     "text": [
      "273.0797500214368\n",
      "episode 821\n"
     ]
    },
    {
     "name": "stderr",
     "output_type": "stream",
     "text": [
      "\r\n",
      " 82%|########2 | 821/1000 [7:35:32<55:56, 18.75s/episodes]"
     ]
    },
    {
     "name": "stdout",
     "output_type": "stream",
     "text": [
      "263.12500211072427\n",
      "episode 822\n"
     ]
    },
    {
     "name": "stderr",
     "output_type": "stream",
     "text": [
      "\r\n",
      " 82%|########2 | 822/1000 [7:35:47<52:31, 17.70s/episodes]"
     ]
    },
    {
     "name": "stdout",
     "output_type": "stream",
     "text": [
      "255.25183753280857\n",
      "episode 823\n"
     ]
    },
    {
     "name": "stderr",
     "output_type": "stream",
     "text": [
      "\r\n",
      " 82%|########2 | 823/1000 [7:36:03<50:41, 17.18s/episodes]"
     ]
    },
    {
     "name": "stdout",
     "output_type": "stream",
     "text": [
      "295.3408202505558\n",
      "episode 824\n"
     ]
    },
    {
     "name": "stderr",
     "output_type": "stream",
     "text": [
      "\r\n",
      " 82%|########2 | 824/1000 [7:36:20<49:34, 16.90s/episodes]"
     ]
    },
    {
     "name": "stdout",
     "output_type": "stream",
     "text": [
      "263.36114680983746\n",
      "episode 825\n"
     ]
    },
    {
     "name": "stderr",
     "output_type": "stream",
     "text": [
      "\r\n",
      " 82%|########2 | 825/1000 [7:36:33<46:37, 15.99s/episodes]"
     ]
    },
    {
     "name": "stdout",
     "output_type": "stream",
     "text": [
      "262.47748087797953\n",
      "episode 826\n"
     ]
    },
    {
     "name": "stderr",
     "output_type": "stream",
     "text": [
      "\r\n",
      " 83%|########2 | 826/1000 [7:36:46<43:27, 14.99s/episodes]"
     ]
    },
    {
     "name": "stdout",
     "output_type": "stream",
     "text": [
      "247.64202972481084\n",
      "episode 827\n"
     ]
    },
    {
     "name": "stderr",
     "output_type": "stream",
     "text": [
      "\r\n",
      " 83%|########2 | 827/1000 [7:37:04<45:58, 15.94s/episodes]"
     ]
    },
    {
     "name": "stdout",
     "output_type": "stream",
     "text": [
      "278.49651946940116\n",
      "episode 828\n"
     ]
    },
    {
     "name": "stderr",
     "output_type": "stream",
     "text": [
      "\r\n",
      " 83%|########2 | 828/1000 [7:37:13<39:56, 13.93s/episodes]"
     ]
    },
    {
     "name": "stdout",
     "output_type": "stream",
     "text": [
      "61.371498642196315\n",
      "episode 829\n"
     ]
    },
    {
     "name": "stderr",
     "output_type": "stream",
     "text": [
      "\r\n",
      " 83%|########2 | 829/1000 [7:37:30<41:53, 14.70s/episodes]"
     ]
    },
    {
     "name": "stdout",
     "output_type": "stream",
     "text": [
      "287.1505755753476\n",
      "episode 830\n"
     ]
    },
    {
     "name": "stderr",
     "output_type": "stream",
     "text": [
      "\r\n",
      " 83%|########2 | 830/1000 [7:37:48<44:37, 15.75s/episodes]"
     ]
    },
    {
     "name": "stdout",
     "output_type": "stream",
     "text": [
      "242.1634009150756\n",
      "episode 831\n"
     ]
    },
    {
     "name": "stderr",
     "output_type": "stream",
     "text": [
      "\r\n",
      " 83%|########3 | 831/1000 [7:38:04<44:49, 15.92s/episodes]"
     ]
    },
    {
     "name": "stdout",
     "output_type": "stream",
     "text": [
      "259.24366504453917\n",
      "episode 832\n"
     ]
    },
    {
     "name": "stderr",
     "output_type": "stream",
     "text": [
      "\r\n",
      " 83%|########3 | 832/1000 [7:38:32<54:08, 19.34s/episodes]"
     ]
    },
    {
     "name": "stdout",
     "output_type": "stream",
     "text": [
      "257.3856591192131\n",
      "episode 833\n"
     ]
    },
    {
     "name": "stderr",
     "output_type": "stream",
     "text": [
      "\r\n",
      " 83%|########3 | 833/1000 [7:38:50<52:30, 18.87s/episodes]"
     ]
    },
    {
     "name": "stdout",
     "output_type": "stream",
     "text": [
      "305.2301378589127\n",
      "episode 834\n"
     ]
    },
    {
     "name": "stderr",
     "output_type": "stream",
     "text": [
      "\r\n",
      " 83%|########3 | 834/1000 [7:39:10<53:42, 19.41s/episodes]"
     ]
    },
    {
     "name": "stdout",
     "output_type": "stream",
     "text": [
      "278.3390578797646\n",
      "episode 835\n"
     ]
    },
    {
     "name": "stderr",
     "output_type": "stream",
     "text": [
      "\r\n",
      " 84%|########3 | 835/1000 [7:39:27<51:03, 18.57s/episodes]"
     ]
    },
    {
     "name": "stdout",
     "output_type": "stream",
     "text": [
      "275.43691800318294\n",
      "episode 836\n"
     ]
    },
    {
     "name": "stderr",
     "output_type": "stream",
     "text": [
      "\r\n",
      " 84%|########3 | 836/1000 [7:39:43<48:43, 17.82s/episodes]"
     ]
    },
    {
     "name": "stdout",
     "output_type": "stream",
     "text": [
      "265.24193285711783\n",
      "episode 837\n"
     ]
    },
    {
     "name": "stderr",
     "output_type": "stream",
     "text": [
      "\r\n",
      " 84%|########3 | 837/1000 [7:39:58<46:06, 16.97s/episodes]"
     ]
    },
    {
     "name": "stdout",
     "output_type": "stream",
     "text": [
      "264.46764282790275\n",
      "episode 838\n"
     ]
    },
    {
     "name": "stderr",
     "output_type": "stream",
     "text": [
      "\r\n",
      " 84%|########3 | 838/1000 [7:40:17<47:23, 17.55s/episodes]"
     ]
    },
    {
     "name": "stdout",
     "output_type": "stream",
     "text": [
      "272.0697584704443\n",
      "episode 839\n"
     ]
    },
    {
     "name": "stderr",
     "output_type": "stream",
     "text": [
      "\r\n",
      " 84%|########3 | 839/1000 [7:40:52<1:01:13, 22.82s/episodes]"
     ]
    },
    {
     "name": "stdout",
     "output_type": "stream",
     "text": [
      "229.27444340041637\n",
      "episode 840\n"
     ]
    },
    {
     "name": "stderr",
     "output_type": "stream",
     "text": [
      "\r\n",
      " 84%|########4 | 840/1000 [7:41:14<1:00:38, 22.74s/episodes]"
     ]
    },
    {
     "name": "stdout",
     "output_type": "stream",
     "text": [
      "284.08815949910263\n",
      "episode 841\n"
     ]
    },
    {
     "name": "stderr",
     "output_type": "stream",
     "text": [
      "\r\n",
      " 84%|########4 | 841/1000 [7:41:29<53:55, 20.35s/episodes]  "
     ]
    },
    {
     "name": "stdout",
     "output_type": "stream",
     "text": [
      "270.762486783858\n",
      "episode 842\n"
     ]
    },
    {
     "name": "stderr",
     "output_type": "stream",
     "text": [
      "\r\n",
      " 84%|########4 | 842/1000 [7:41:41<46:46, 17.76s/episodes]"
     ]
    },
    {
     "name": "stdout",
     "output_type": "stream",
     "text": [
      "47.19971256525807\n",
      "episode 843\n"
     ]
    },
    {
     "name": "stderr",
     "output_type": "stream",
     "text": [
      "\r\n",
      " 84%|########4 | 843/1000 [7:42:11<56:23, 21.55s/episodes]"
     ]
    },
    {
     "name": "stdout",
     "output_type": "stream",
     "text": [
      "262.2694922009021\n",
      "episode 844\n"
     ]
    },
    {
     "name": "stderr",
     "output_type": "stream",
     "text": [
      "\r\n",
      " 84%|########4 | 844/1000 [7:42:27<51:20, 19.75s/episodes]"
     ]
    },
    {
     "name": "stdout",
     "output_type": "stream",
     "text": [
      "275.1401339113076\n",
      "episode 845\n"
     ]
    },
    {
     "name": "stderr",
     "output_type": "stream",
     "text": [
      "\r\n",
      " 84%|########4 | 845/1000 [7:42:44<48:55, 18.94s/episodes]"
     ]
    },
    {
     "name": "stdout",
     "output_type": "stream",
     "text": [
      "280.4945714639943\n",
      "episode 846\n"
     ]
    },
    {
     "name": "stderr",
     "output_type": "stream",
     "text": [
      "\r\n",
      " 85%|########4 | 846/1000 [7:43:04<49:39, 19.35s/episodes]"
     ]
    },
    {
     "name": "stdout",
     "output_type": "stream",
     "text": [
      "253.3132746889274\n",
      "episode 847\n"
     ]
    },
    {
     "name": "stderr",
     "output_type": "stream",
     "text": [
      "\r\n",
      " 85%|########4 | 847/1000 [7:43:19<45:34, 17.87s/episodes]"
     ]
    },
    {
     "name": "stdout",
     "output_type": "stream",
     "text": [
      "261.74526980246696\n",
      "episode 848\n"
     ]
    },
    {
     "name": "stderr",
     "output_type": "stream",
     "text": [
      "\r\n",
      " 85%|########4 | 848/1000 [7:43:35<43:55, 17.34s/episodes]"
     ]
    },
    {
     "name": "stdout",
     "output_type": "stream",
     "text": [
      "297.1206882079574\n",
      "episode 849\n"
     ]
    },
    {
     "name": "stderr",
     "output_type": "stream",
     "text": [
      "\r\n",
      " 85%|########4 | 849/1000 [7:43:47<40:04, 15.93s/episodes]"
     ]
    },
    {
     "name": "stdout",
     "output_type": "stream",
     "text": [
      "43.907046054948125\n",
      "episode 850\n"
     ]
    },
    {
     "name": "stderr",
     "output_type": "stream",
     "text": [
      "\r\n",
      " 85%|########5 | 850/1000 [7:44:03<39:14, 15.70s/episodes]"
     ]
    },
    {
     "name": "stdout",
     "output_type": "stream",
     "text": [
      "271.58364345659834\n",
      "episode 851\n"
     ]
    },
    {
     "name": "stderr",
     "output_type": "stream",
     "text": [
      "\r\n",
      " 85%|########5 | 851/1000 [7:44:23<42:16, 17.02s/episodes]"
     ]
    },
    {
     "name": "stdout",
     "output_type": "stream",
     "text": [
      "249.15293459752232\n",
      "episode 852\n"
     ]
    },
    {
     "name": "stderr",
     "output_type": "stream",
     "text": [
      "\r\n",
      " 85%|########5 | 852/1000 [7:44:37<39:52, 16.16s/episodes]"
     ]
    },
    {
     "name": "stdout",
     "output_type": "stream",
     "text": [
      "246.27360310012122\n",
      "episode 853\n"
     ]
    },
    {
     "name": "stderr",
     "output_type": "stream",
     "text": [
      "\r\n",
      " 85%|########5 | 853/1000 [7:44:52<38:55, 15.89s/episodes]"
     ]
    },
    {
     "name": "stdout",
     "output_type": "stream",
     "text": [
      "263.97617314509625\n",
      "episode 854\n"
     ]
    },
    {
     "name": "stderr",
     "output_type": "stream",
     "text": [
      "\r\n",
      " 85%|########5 | 854/1000 [7:45:06<37:24, 15.37s/episodes]"
     ]
    },
    {
     "name": "stdout",
     "output_type": "stream",
     "text": [
      "261.77196567908027\n",
      "episode 855\n"
     ]
    },
    {
     "name": "stderr",
     "output_type": "stream",
     "text": [
      "\r\n",
      " 86%|########5 | 855/1000 [7:45:22<37:15, 15.42s/episodes]"
     ]
    },
    {
     "name": "stdout",
     "output_type": "stream",
     "text": [
      "261.5859271655431\n",
      "episode 856\n"
     ]
    },
    {
     "name": "stderr",
     "output_type": "stream",
     "text": [
      "\r\n",
      " 86%|########5 | 856/1000 [7:45:37<37:10, 15.49s/episodes]"
     ]
    },
    {
     "name": "stdout",
     "output_type": "stream",
     "text": [
      "249.65556407070721\n",
      "episode 857\n"
     ]
    },
    {
     "name": "stderr",
     "output_type": "stream",
     "text": [
      "\r\n",
      " 86%|########5 | 857/1000 [7:45:55<38:18, 16.07s/episodes]"
     ]
    },
    {
     "name": "stdout",
     "output_type": "stream",
     "text": [
      "291.40484948476336\n",
      "episode 858\n"
     ]
    },
    {
     "name": "stderr",
     "output_type": "stream",
     "text": [
      "\r\n",
      " 86%|########5 | 858/1000 [7:46:11<38:25, 16.24s/episodes]"
     ]
    },
    {
     "name": "stdout",
     "output_type": "stream",
     "text": [
      "260.956777329901\n",
      "episode 859\n"
     ]
    },
    {
     "name": "stderr",
     "output_type": "stream",
     "text": [
      "\r\n",
      " 86%|########5 | 859/1000 [7:46:26<37:08, 15.80s/episodes]"
     ]
    },
    {
     "name": "stdout",
     "output_type": "stream",
     "text": [
      "256.6019260628231\n",
      "episode 860\n"
     ]
    },
    {
     "name": "stderr",
     "output_type": "stream",
     "text": [
      "\r\n",
      " 86%|########6 | 860/1000 [7:46:43<37:36, 16.11s/episodes]"
     ]
    },
    {
     "name": "stdout",
     "output_type": "stream",
     "text": [
      "274.40997848729035\n",
      "episode 861\n"
     ]
    },
    {
     "name": "stderr",
     "output_type": "stream",
     "text": [
      "\r\n",
      " 86%|########6 | 861/1000 [7:46:56<35:00, 15.11s/episodes]"
     ]
    },
    {
     "name": "stdout",
     "output_type": "stream",
     "text": [
      "275.3593945701103\n",
      "episode 862\n"
     ]
    },
    {
     "name": "stderr",
     "output_type": "stream",
     "text": [
      "\r\n",
      " 86%|########6 | 862/1000 [7:47:11<35:05, 15.26s/episodes]"
     ]
    },
    {
     "name": "stdout",
     "output_type": "stream",
     "text": [
      "291.8133926180087\n",
      "episode 863\n"
     ]
    },
    {
     "name": "stderr",
     "output_type": "stream",
     "text": [
      "\r\n",
      " 86%|########6 | 863/1000 [7:47:27<35:07, 15.38s/episodes]"
     ]
    },
    {
     "name": "stdout",
     "output_type": "stream",
     "text": [
      "282.6784044668212\n",
      "episode 864\n"
     ]
    },
    {
     "name": "stderr",
     "output_type": "stream",
     "text": [
      "\r\n",
      " 86%|########6 | 864/1000 [7:47:43<35:05, 15.49s/episodes]"
     ]
    },
    {
     "name": "stdout",
     "output_type": "stream",
     "text": [
      "305.20856487729844\n",
      "episode 865\n"
     ]
    },
    {
     "name": "stderr",
     "output_type": "stream",
     "text": [
      "\r\n",
      " 86%|########6 | 865/1000 [7:48:01<36:23, 16.18s/episodes]"
     ]
    },
    {
     "name": "stdout",
     "output_type": "stream",
     "text": [
      "270.7904090545976\n",
      "episode 866\n"
     ]
    },
    {
     "name": "stderr",
     "output_type": "stream",
     "text": [
      "\r\n",
      " 87%|########6 | 866/1000 [7:48:18<37:02, 16.59s/episodes]"
     ]
    },
    {
     "name": "stdout",
     "output_type": "stream",
     "text": [
      "305.2774626785721\n",
      "episode 867\n"
     ]
    },
    {
     "name": "stderr",
     "output_type": "stream",
     "text": [
      "\r\n",
      " 87%|########6 | 867/1000 [7:48:38<39:09, 17.67s/episodes]"
     ]
    },
    {
     "name": "stdout",
     "output_type": "stream",
     "text": [
      "286.1629846291104\n",
      "episode 868\n"
     ]
    },
    {
     "name": "stderr",
     "output_type": "stream",
     "text": [
      "\r\n",
      " 87%|########6 | 868/1000 [7:48:56<38:43, 17.60s/episodes]"
     ]
    },
    {
     "name": "stdout",
     "output_type": "stream",
     "text": [
      "289.84264442675124\n",
      "episode 869\n"
     ]
    },
    {
     "name": "stderr",
     "output_type": "stream",
     "text": [
      "\r\n",
      " 87%|########6 | 869/1000 [7:49:14<38:31, 17.65s/episodes]"
     ]
    },
    {
     "name": "stdout",
     "output_type": "stream",
     "text": [
      "297.2587968599403\n",
      "episode 870\n"
     ]
    },
    {
     "name": "stderr",
     "output_type": "stream",
     "text": [
      "\r\n",
      " 87%|########7 | 870/1000 [7:49:32<38:54, 17.96s/episodes]"
     ]
    },
    {
     "name": "stdout",
     "output_type": "stream",
     "text": [
      "257.717628735674\n",
      "episode 871\n"
     ]
    },
    {
     "name": "stderr",
     "output_type": "stream",
     "text": [
      "\r\n",
      " 87%|########7 | 871/1000 [7:49:50<38:36, 17.96s/episodes]"
     ]
    },
    {
     "name": "stdout",
     "output_type": "stream",
     "text": [
      "266.0842611994521\n",
      "episode 872\n"
     ]
    },
    {
     "name": "stderr",
     "output_type": "stream",
     "text": [
      "\r\n",
      " 87%|########7 | 872/1000 [7:50:05<36:02, 16.89s/episodes]"
     ]
    },
    {
     "name": "stdout",
     "output_type": "stream",
     "text": [
      "283.59116883513474\n",
      "episode 873\n"
     ]
    },
    {
     "name": "stderr",
     "output_type": "stream",
     "text": [
      "\r\n",
      " 87%|########7 | 873/1000 [7:50:18<33:46, 15.96s/episodes]"
     ]
    },
    {
     "name": "stdout",
     "output_type": "stream",
     "text": [
      "251.3131557076436\n",
      "episode 874\n"
     ]
    },
    {
     "name": "stderr",
     "output_type": "stream",
     "text": [
      "\r\n",
      " 87%|########7 | 874/1000 [7:50:40<37:07, 17.68s/episodes]"
     ]
    },
    {
     "name": "stdout",
     "output_type": "stream",
     "text": [
      "300.2606240214708\n",
      "episode 875\n"
     ]
    },
    {
     "name": "stderr",
     "output_type": "stream",
     "text": [
      "\r\n",
      " 88%|########7 | 875/1000 [7:50:59<37:47, 18.14s/episodes]"
     ]
    },
    {
     "name": "stdout",
     "output_type": "stream",
     "text": [
      "274.0350909478873\n",
      "episode 876\n"
     ]
    },
    {
     "name": "stderr",
     "output_type": "stream",
     "text": [
      "\r\n",
      " 88%|########7 | 876/1000 [7:51:16<36:37, 17.72s/episodes]"
     ]
    },
    {
     "name": "stdout",
     "output_type": "stream",
     "text": [
      "271.79683903164727\n",
      "episode 877\n"
     ]
    },
    {
     "name": "stderr",
     "output_type": "stream",
     "text": [
      "\r\n",
      " 88%|########7 | 877/1000 [7:51:29<33:25, 16.31s/episodes]"
     ]
    },
    {
     "name": "stdout",
     "output_type": "stream",
     "text": [
      "263.50440577735424\n",
      "episode 878\n"
     ]
    },
    {
     "name": "stderr",
     "output_type": "stream",
     "text": [
      "\r\n",
      " 88%|########7 | 878/1000 [7:51:44<32:12, 15.84s/episodes]"
     ]
    },
    {
     "name": "stdout",
     "output_type": "stream",
     "text": [
      "248.4780860436775\n",
      "episode 879\n"
     ]
    },
    {
     "name": "stderr",
     "output_type": "stream",
     "text": [
      "\r\n",
      " 88%|########7 | 879/1000 [7:52:48<1:01:08, 30.32s/episodes]"
     ]
    },
    {
     "name": "stdout",
     "output_type": "stream",
     "text": [
      "293.3901240763889\n",
      "episode 880\n"
     ]
    },
    {
     "name": "stderr",
     "output_type": "stream",
     "text": [
      "\r\n",
      " 88%|########8 | 880/1000 [7:53:03<51:12, 25.60s/episodes]  "
     ]
    },
    {
     "name": "stdout",
     "output_type": "stream",
     "text": [
      "268.49754194794076\n",
      "episode 881\n"
     ]
    },
    {
     "name": "stderr",
     "output_type": "stream",
     "text": [
      "\r\n",
      " 88%|########8 | 881/1000 [7:53:20<46:10, 23.28s/episodes]"
     ]
    },
    {
     "name": "stdout",
     "output_type": "stream",
     "text": [
      "267.71374446316224\n",
      "episode 882\n"
     ]
    },
    {
     "name": "stderr",
     "output_type": "stream",
     "text": [
      "\r\n",
      " 88%|########8 | 882/1000 [7:53:41<44:21, 22.55s/episodes]"
     ]
    },
    {
     "name": "stdout",
     "output_type": "stream",
     "text": [
      "307.91396076220434\n",
      "episode 883\n"
     ]
    },
    {
     "name": "stderr",
     "output_type": "stream",
     "text": [
      "\r\n",
      " 88%|########8 | 883/1000 [7:53:58<40:19, 20.68s/episodes]"
     ]
    },
    {
     "name": "stdout",
     "output_type": "stream",
     "text": [
      "244.7709397046955\n",
      "episode 884\n"
     ]
    },
    {
     "name": "stderr",
     "output_type": "stream",
     "text": [
      "\r\n",
      " 88%|########8 | 884/1000 [7:54:17<39:02, 20.19s/episodes]"
     ]
    },
    {
     "name": "stdout",
     "output_type": "stream",
     "text": [
      "251.26843825466813\n",
      "episode 885\n"
     ]
    },
    {
     "name": "stderr",
     "output_type": "stream",
     "text": [
      "\r\n",
      " 88%|########8 | 885/1000 [7:54:39<40:07, 20.93s/episodes]"
     ]
    },
    {
     "name": "stdout",
     "output_type": "stream",
     "text": [
      "279.7344358839009\n",
      "episode 886\n"
     ]
    },
    {
     "name": "stderr",
     "output_type": "stream",
     "text": [
      "\r\n",
      " 89%|########8 | 886/1000 [7:54:55<36:44, 19.34s/episodes]"
     ]
    },
    {
     "name": "stdout",
     "output_type": "stream",
     "text": [
      "273.34636326608256\n",
      "episode 887\n"
     ]
    },
    {
     "name": "stderr",
     "output_type": "stream",
     "text": [
      "\r\n",
      " 89%|########8 | 887/1000 [7:56:19<1:12:44, 38.63s/episodes]"
     ]
    },
    {
     "name": "stdout",
     "output_type": "stream",
     "text": [
      "165.5392424464754\n",
      "episode 888\n"
     ]
    },
    {
     "name": "stderr",
     "output_type": "stream",
     "text": [
      "\r\n",
      " 89%|########8 | 888/1000 [7:56:33<58:32, 31.36s/episodes]  "
     ]
    },
    {
     "name": "stdout",
     "output_type": "stream",
     "text": [
      "251.5594549360192\n",
      "episode 889\n"
     ]
    },
    {
     "name": "stderr",
     "output_type": "stream",
     "text": [
      "\r\n",
      " 89%|########8 | 889/1000 [7:56:53<51:52, 28.04s/episodes]"
     ]
    },
    {
     "name": "stdout",
     "output_type": "stream",
     "text": [
      "278.2873082989519\n",
      "episode 890\n"
     ]
    },
    {
     "name": "stderr",
     "output_type": "stream",
     "text": [
      "\r\n",
      " 89%|########9 | 890/1000 [7:57:08<43:49, 23.90s/episodes]"
     ]
    },
    {
     "name": "stdout",
     "output_type": "stream",
     "text": [
      "274.3481621381502\n",
      "episode 891\n"
     ]
    },
    {
     "name": "stderr",
     "output_type": "stream",
     "text": [
      "\r\n",
      " 89%|########9 | 891/1000 [7:57:27<40:55, 22.53s/episodes]"
     ]
    },
    {
     "name": "stdout",
     "output_type": "stream",
     "text": [
      "268.32991753460726\n",
      "episode 892\n"
     ]
    },
    {
     "name": "stderr",
     "output_type": "stream",
     "text": [
      "\r\n",
      " 89%|########9 | 892/1000 [7:57:47<39:05, 21.72s/episodes]"
     ]
    },
    {
     "name": "stdout",
     "output_type": "stream",
     "text": [
      "255.35553617472013\n",
      "episode 893\n"
     ]
    },
    {
     "name": "stderr",
     "output_type": "stream",
     "text": [
      "\r\n",
      " 89%|########9 | 893/1000 [7:58:04<36:09, 20.27s/episodes]"
     ]
    },
    {
     "name": "stdout",
     "output_type": "stream",
     "text": [
      "307.022248797142\n",
      "episode 894\n"
     ]
    },
    {
     "name": "stderr",
     "output_type": "stream",
     "text": [
      "\r\n",
      " 89%|########9 | 894/1000 [7:58:20<33:59, 19.24s/episodes]"
     ]
    },
    {
     "name": "stdout",
     "output_type": "stream",
     "text": [
      "263.5331761166352\n",
      "episode 895\n"
     ]
    },
    {
     "name": "stderr",
     "output_type": "stream",
     "text": [
      "\r\n",
      " 90%|########9 | 895/1000 [7:58:35<31:04, 17.76s/episodes]"
     ]
    },
    {
     "name": "stdout",
     "output_type": "stream",
     "text": [
      "263.0045669942368\n",
      "episode 896\n"
     ]
    },
    {
     "name": "stderr",
     "output_type": "stream",
     "text": [
      "\r\n",
      " 90%|########9 | 896/1000 [7:58:51<30:06, 17.37s/episodes]"
     ]
    },
    {
     "name": "stdout",
     "output_type": "stream",
     "text": [
      "277.4341675244187\n",
      "episode 897\n"
     ]
    },
    {
     "name": "stderr",
     "output_type": "stream",
     "text": [
      "\r\n",
      " 90%|########9 | 897/1000 [8:00:00<56:30, 32.91s/episodes]"
     ]
    },
    {
     "name": "stdout",
     "output_type": "stream",
     "text": [
      "223.14448506965766\n",
      "episode 898\n"
     ]
    },
    {
     "name": "stderr",
     "output_type": "stream",
     "text": [
      "\r\n",
      " 90%|########9 | 898/1000 [8:00:17<47:47, 28.11s/episodes]"
     ]
    },
    {
     "name": "stdout",
     "output_type": "stream",
     "text": [
      "263.10223593646106\n",
      "episode 899\n"
     ]
    },
    {
     "name": "stderr",
     "output_type": "stream",
     "text": [
      "\r\n",
      " 90%|########9 | 899/1000 [8:00:36<42:35, 25.31s/episodes]"
     ]
    },
    {
     "name": "stdout",
     "output_type": "stream",
     "text": [
      "250.8065541318206\n",
      "episode 900\n"
     ]
    },
    {
     "name": "stderr",
     "output_type": "stream",
     "text": [
      "\r\n",
      " 90%|######### | 900/1000 [8:00:58<40:36, 24.37s/episodes]"
     ]
    },
    {
     "name": "stdout",
     "output_type": "stream",
     "text": [
      "287.38967142305114\n",
      "episode 901\n"
     ]
    },
    {
     "name": "stderr",
     "output_type": "stream",
     "text": [
      "\r\n",
      " 90%|######### | 901/1000 [8:01:14<36:10, 21.92s/episodes]"
     ]
    },
    {
     "name": "stdout",
     "output_type": "stream",
     "text": [
      "255.37256091834695\n",
      "episode 902\n"
     ]
    },
    {
     "name": "stderr",
     "output_type": "stream",
     "text": [
      "\r\n",
      " 90%|######### | 902/1000 [8:02:34<1:04:16, 39.35s/episodes]"
     ]
    },
    {
     "name": "stdout",
     "output_type": "stream",
     "text": [
      "251.5840237309265\n",
      "episode 903\n"
     ]
    },
    {
     "name": "stderr",
     "output_type": "stream",
     "text": [
      "\r\n",
      " 90%|######### | 903/1000 [8:02:57<55:21, 34.25s/episodes]  "
     ]
    },
    {
     "name": "stdout",
     "output_type": "stream",
     "text": [
      "239.96617990625165\n",
      "episode 904\n"
     ]
    },
    {
     "name": "stderr",
     "output_type": "stream",
     "text": [
      "\r\n",
      " 90%|######### | 904/1000 [8:03:19<49:10, 30.73s/episodes]"
     ]
    },
    {
     "name": "stdout",
     "output_type": "stream",
     "text": [
      "271.4901267523109\n",
      "episode 905\n"
     ]
    },
    {
     "name": "stderr",
     "output_type": "stream",
     "text": [
      "\r\n",
      " 90%|######### | 905/1000 [8:03:36<41:46, 26.39s/episodes]"
     ]
    },
    {
     "name": "stdout",
     "output_type": "stream",
     "text": [
      "241.3819385774603\n",
      "episode 906\n"
     ]
    },
    {
     "name": "stderr",
     "output_type": "stream",
     "text": [
      "\r\n",
      " 91%|######### | 906/1000 [8:03:55<37:56, 24.22s/episodes]"
     ]
    },
    {
     "name": "stdout",
     "output_type": "stream",
     "text": [
      "271.52893630491565\n",
      "episode 907\n"
     ]
    },
    {
     "name": "stderr",
     "output_type": "stream",
     "text": [
      "\r\n",
      " 91%|######### | 907/1000 [8:04:14<35:16, 22.75s/episodes]"
     ]
    },
    {
     "name": "stdout",
     "output_type": "stream",
     "text": [
      "299.5636581162637\n",
      "episode 908\n"
     ]
    },
    {
     "name": "stderr",
     "output_type": "stream",
     "text": [
      "\r\n",
      " 91%|######### | 908/1000 [8:04:49<40:36, 26.48s/episodes]"
     ]
    },
    {
     "name": "stdout",
     "output_type": "stream",
     "text": [
      "255.62886408253502\n",
      "episode 909\n"
     ]
    },
    {
     "name": "stderr",
     "output_type": "stream",
     "text": [
      "\r\n",
      " 91%|######### | 909/1000 [8:05:07<36:06, 23.81s/episodes]"
     ]
    },
    {
     "name": "stdout",
     "output_type": "stream",
     "text": [
      "250.46806420788442\n",
      "episode 910\n"
     ]
    },
    {
     "name": "stderr",
     "output_type": "stream",
     "text": [
      "\r\n",
      " 91%|#########1| 910/1000 [8:05:31<35:41, 23.79s/episodes]"
     ]
    },
    {
     "name": "stdout",
     "output_type": "stream",
     "text": [
      "253.8463365212332\n",
      "episode 911\n"
     ]
    },
    {
     "name": "stderr",
     "output_type": "stream",
     "text": [
      "\r\n",
      " 91%|#########1| 911/1000 [8:05:48<32:18, 21.78s/episodes]"
     ]
    },
    {
     "name": "stdout",
     "output_type": "stream",
     "text": [
      "271.5483864085577\n",
      "episode 912\n"
     ]
    },
    {
     "name": "stderr",
     "output_type": "stream",
     "text": [
      "\r\n",
      " 91%|#########1| 912/1000 [8:06:38<44:42, 30.49s/episodes]"
     ]
    },
    {
     "name": "stdout",
     "output_type": "stream",
     "text": [
      "171.83228660451903\n",
      "episode 913\n"
     ]
    },
    {
     "name": "stderr",
     "output_type": "stream",
     "text": [
      "\r\n",
      " 91%|#########1| 913/1000 [8:06:46<34:23, 23.72s/episodes]"
     ]
    },
    {
     "name": "stdout",
     "output_type": "stream",
     "text": [
      "10.357359086633693\n",
      "episode 914\n"
     ]
    },
    {
     "name": "stderr",
     "output_type": "stream",
     "text": [
      "\r\n",
      " 91%|#########1| 914/1000 [8:06:52<26:12, 18.28s/episodes]"
     ]
    },
    {
     "name": "stdout",
     "output_type": "stream",
     "text": [
      "-40.48520526746162\n",
      "episode 915\n"
     ]
    },
    {
     "name": "stderr",
     "output_type": "stream",
     "text": [
      "\r\n",
      " 92%|#########1| 915/1000 [8:06:59<21:04, 14.88s/episodes]"
     ]
    },
    {
     "name": "stdout",
     "output_type": "stream",
     "text": [
      "28.78004176137739\n",
      "episode 916\n"
     ]
    },
    {
     "name": "stderr",
     "output_type": "stream",
     "text": [
      "\r\n",
      " 92%|#########1| 916/1000 [8:07:07<18:11, 13.00s/episodes]"
     ]
    },
    {
     "name": "stdout",
     "output_type": "stream",
     "text": [
      "3.968516203019888\n",
      "episode 917\n"
     ]
    },
    {
     "name": "stderr",
     "output_type": "stream",
     "text": [
      "\r\n",
      " 92%|#########1| 917/1000 [8:07:27<20:38, 14.92s/episodes]"
     ]
    },
    {
     "name": "stdout",
     "output_type": "stream",
     "text": [
      "251.1648863515623\n",
      "episode 918\n"
     ]
    },
    {
     "name": "stderr",
     "output_type": "stream",
     "text": [
      "\r\n",
      " 92%|#########1| 918/1000 [8:07:45<21:31, 15.75s/episodes]"
     ]
    },
    {
     "name": "stdout",
     "output_type": "stream",
     "text": [
      "272.1876035921915\n",
      "episode 919\n"
     ]
    },
    {
     "name": "stderr",
     "output_type": "stream",
     "text": [
      "\r\n",
      " 92%|#########1| 919/1000 [8:08:15<27:11, 20.14s/episodes]"
     ]
    },
    {
     "name": "stdout",
     "output_type": "stream",
     "text": [
      "288.94823027259275\n",
      "episode 920\n"
     ]
    },
    {
     "name": "stderr",
     "output_type": "stream",
     "text": [
      "\r\n",
      " 92%|#########2| 920/1000 [8:08:41<29:21, 22.02s/episodes]"
     ]
    },
    {
     "name": "stdout",
     "output_type": "stream",
     "text": [
      "244.85779221480084\n",
      "episode 921\n"
     ]
    },
    {
     "name": "stderr",
     "output_type": "stream",
     "text": [
      "\r\n",
      " 92%|#########2| 921/1000 [8:09:02<28:37, 21.74s/episodes]"
     ]
    },
    {
     "name": "stdout",
     "output_type": "stream",
     "text": [
      "229.5158834032227\n",
      "episode 922\n"
     ]
    },
    {
     "name": "stderr",
     "output_type": "stream",
     "text": [
      "\r\n",
      " 92%|#########2| 922/1000 [8:09:19<26:13, 20.17s/episodes]"
     ]
    },
    {
     "name": "stdout",
     "output_type": "stream",
     "text": [
      "272.40190553342154\n",
      "episode 923\n"
     ]
    },
    {
     "name": "stderr",
     "output_type": "stream",
     "text": [
      "\r\n",
      " 92%|#########2| 923/1000 [8:09:39<25:41, 20.02s/episodes]"
     ]
    },
    {
     "name": "stdout",
     "output_type": "stream",
     "text": [
      "267.0119476299411\n",
      "episode 924\n"
     ]
    },
    {
     "name": "stderr",
     "output_type": "stream",
     "text": [
      "\r\n",
      " 92%|#########2| 924/1000 [8:09:55<24:05, 19.02s/episodes]"
     ]
    },
    {
     "name": "stdout",
     "output_type": "stream",
     "text": [
      "273.3207461115163\n",
      "episode 925\n"
     ]
    },
    {
     "name": "stderr",
     "output_type": "stream",
     "text": [
      "\r\n",
      " 92%|#########2| 925/1000 [8:10:15<24:02, 19.24s/episodes]"
     ]
    },
    {
     "name": "stdout",
     "output_type": "stream",
     "text": [
      "249.3725508660339\n",
      "episode 926\n"
     ]
    },
    {
     "name": "stderr",
     "output_type": "stream",
     "text": [
      "\r\n",
      " 93%|#########2| 926/1000 [8:10:32<22:52, 18.55s/episodes]"
     ]
    },
    {
     "name": "stdout",
     "output_type": "stream",
     "text": [
      "258.4084231317523\n",
      "episode 927\n"
     ]
    },
    {
     "name": "stderr",
     "output_type": "stream",
     "text": [
      "\r\n",
      " 93%|#########2| 927/1000 [8:11:00<26:06, 21.46s/episodes]"
     ]
    },
    {
     "name": "stdout",
     "output_type": "stream",
     "text": [
      "212.21452672346044\n",
      "episode 928\n"
     ]
    },
    {
     "name": "stderr",
     "output_type": "stream",
     "text": [
      "\r\n",
      " 93%|#########2| 928/1000 [8:11:21<25:39, 21.38s/episodes]"
     ]
    },
    {
     "name": "stdout",
     "output_type": "stream",
     "text": [
      "285.16066743239776\n",
      "episode 929\n"
     ]
    },
    {
     "name": "stderr",
     "output_type": "stream",
     "text": [
      "\r\n",
      " 93%|#########2| 929/1000 [8:11:41<24:40, 20.86s/episodes]"
     ]
    },
    {
     "name": "stdout",
     "output_type": "stream",
     "text": [
      "274.47029627245905\n",
      "episode 930\n"
     ]
    },
    {
     "name": "stderr",
     "output_type": "stream",
     "text": [
      "\r\n",
      " 93%|#########3| 930/1000 [8:12:01<24:07, 20.68s/episodes]"
     ]
    },
    {
     "name": "stdout",
     "output_type": "stream",
     "text": [
      "291.7535109446264\n",
      "episode 931\n"
     ]
    },
    {
     "name": "stderr",
     "output_type": "stream",
     "text": [
      "\r\n",
      " 93%|#########3| 931/1000 [8:12:21<23:18, 20.27s/episodes]"
     ]
    },
    {
     "name": "stdout",
     "output_type": "stream",
     "text": [
      "249.9217280179794\n",
      "episode 932\n"
     ]
    },
    {
     "name": "stderr",
     "output_type": "stream",
     "text": [
      "\r\n",
      " 93%|#########3| 932/1000 [8:12:37<21:36, 19.07s/episodes]"
     ]
    },
    {
     "name": "stdout",
     "output_type": "stream",
     "text": [
      "239.92563484948104\n",
      "episode 933\n"
     ]
    },
    {
     "name": "stderr",
     "output_type": "stream",
     "text": [
      "\r\n",
      " 93%|#########3| 933/1000 [8:13:15<27:43, 24.83s/episodes]"
     ]
    },
    {
     "name": "stdout",
     "output_type": "stream",
     "text": [
      "252.70148052863058\n",
      "episode 934\n"
     ]
    },
    {
     "name": "stderr",
     "output_type": "stream",
     "text": [
      "\r\n",
      " 93%|#########3| 934/1000 [8:13:34<25:28, 23.17s/episodes]"
     ]
    },
    {
     "name": "stdout",
     "output_type": "stream",
     "text": [
      "250.99688387776123\n",
      "episode 935\n"
     ]
    },
    {
     "name": "stderr",
     "output_type": "stream",
     "text": [
      "\r\n",
      " 94%|#########3| 935/1000 [8:14:15<30:39, 28.30s/episodes]"
     ]
    },
    {
     "name": "stdout",
     "output_type": "stream",
     "text": [
      "242.21084955118505\n",
      "episode 936\n"
     ]
    },
    {
     "name": "stderr",
     "output_type": "stream",
     "text": [
      "\r\n",
      " 94%|#########3| 936/1000 [8:14:41<29:35, 27.74s/episodes]"
     ]
    },
    {
     "name": "stdout",
     "output_type": "stream",
     "text": [
      "292.5396511714539\n",
      "episode 937\n"
     ]
    },
    {
     "name": "stderr",
     "output_type": "stream",
     "text": [
      "\r\n",
      " 94%|#########3| 937/1000 [8:15:00<26:14, 24.99s/episodes]"
     ]
    },
    {
     "name": "stdout",
     "output_type": "stream",
     "text": [
      "232.84996420133135\n",
      "episode 938\n"
     ]
    },
    {
     "name": "stderr",
     "output_type": "stream",
     "text": [
      "\r\n",
      " 94%|#########3| 938/1000 [8:15:20<24:15, 23.47s/episodes]"
     ]
    },
    {
     "name": "stdout",
     "output_type": "stream",
     "text": [
      "209.8741074267375\n",
      "episode 939\n"
     ]
    },
    {
     "name": "stderr",
     "output_type": "stream",
     "text": [
      "\r\n",
      " 94%|#########3| 939/1000 [8:15:40<22:59, 22.62s/episodes]"
     ]
    },
    {
     "name": "stdout",
     "output_type": "stream",
     "text": [
      "292.1931669840427\n",
      "episode 940\n"
     ]
    },
    {
     "name": "stderr",
     "output_type": "stream",
     "text": [
      "\r\n",
      " 94%|#########3| 940/1000 [8:15:58<21:05, 21.09s/episodes]"
     ]
    },
    {
     "name": "stdout",
     "output_type": "stream",
     "text": [
      "211.0607506081213\n",
      "episode 941\n"
     ]
    },
    {
     "name": "stderr",
     "output_type": "stream",
     "text": [
      "\r\n",
      " 94%|#########4| 941/1000 [8:16:09<17:55, 18.24s/episodes]"
     ]
    },
    {
     "name": "stdout",
     "output_type": "stream",
     "text": [
      "-3.930761519320825\n",
      "episode 942\n"
     ]
    },
    {
     "name": "stderr",
     "output_type": "stream",
     "text": [
      "\r\n",
      " 94%|#########4| 942/1000 [8:16:25<16:49, 17.41s/episodes]"
     ]
    },
    {
     "name": "stdout",
     "output_type": "stream",
     "text": [
      "262.78350042280204\n",
      "episode 943\n"
     ]
    },
    {
     "name": "stderr",
     "output_type": "stream",
     "text": [
      "\r\n",
      " 94%|#########4| 943/1000 [8:16:44<16:58, 17.88s/episodes]"
     ]
    },
    {
     "name": "stdout",
     "output_type": "stream",
     "text": [
      "261.8696607662103\n",
      "episode 944\n"
     ]
    },
    {
     "name": "stderr",
     "output_type": "stream",
     "text": [
      "\r\n",
      " 94%|#########4| 944/1000 [8:17:02<16:50, 18.04s/episodes]"
     ]
    },
    {
     "name": "stdout",
     "output_type": "stream",
     "text": [
      "285.1481525085551\n",
      "episode 945\n"
     ]
    },
    {
     "name": "stderr",
     "output_type": "stream",
     "text": [
      "\r\n",
      " 94%|#########4| 945/1000 [8:17:15<15:11, 16.57s/episodes]"
     ]
    },
    {
     "name": "stdout",
     "output_type": "stream",
     "text": [
      "248.74789058002682\n",
      "episode 946\n"
     ]
    },
    {
     "name": "stderr",
     "output_type": "stream",
     "text": [
      "\r\n",
      " 95%|#########4| 946/1000 [8:17:34<15:22, 17.08s/episodes]"
     ]
    },
    {
     "name": "stdout",
     "output_type": "stream",
     "text": [
      "281.5456956239556\n",
      "episode 947\n"
     ]
    },
    {
     "name": "stderr",
     "output_type": "stream",
     "text": [
      "\r\n",
      " 95%|#########4| 947/1000 [8:18:11<20:19, 23.01s/episodes]"
     ]
    },
    {
     "name": "stdout",
     "output_type": "stream",
     "text": [
      "279.2098860129728\n",
      "episode 948\n"
     ]
    },
    {
     "name": "stderr",
     "output_type": "stream",
     "text": [
      "\r\n",
      " 95%|#########4| 948/1000 [8:18:27<18:14, 21.05s/episodes]"
     ]
    },
    {
     "name": "stdout",
     "output_type": "stream",
     "text": [
      "291.53511888250307\n",
      "episode 949\n"
     ]
    },
    {
     "name": "stderr",
     "output_type": "stream",
     "text": [
      "\r\n",
      " 95%|#########4| 949/1000 [8:19:25<27:25, 32.27s/episodes]"
     ]
    },
    {
     "name": "stdout",
     "output_type": "stream",
     "text": [
      "-107.4821769844368\n",
      "episode 950\n"
     ]
    },
    {
     "name": "stderr",
     "output_type": "stream",
     "text": [
      "\r\n",
      " 95%|#########5| 950/1000 [8:19:52<25:34, 30.68s/episodes]"
     ]
    },
    {
     "name": "stdout",
     "output_type": "stream",
     "text": [
      "276.1026835343027\n",
      "episode 951\n"
     ]
    },
    {
     "name": "stderr",
     "output_type": "stream",
     "text": [
      "\r\n",
      " 95%|#########5| 951/1000 [8:20:10<21:45, 26.64s/episodes]"
     ]
    },
    {
     "name": "stdout",
     "output_type": "stream",
     "text": [
      "287.34472751347295\n",
      "episode 952\n"
     ]
    },
    {
     "name": "stderr",
     "output_type": "stream",
     "text": [
      "\r\n",
      " 95%|#########5| 952/1000 [8:20:23<18:01, 22.53s/episodes]"
     ]
    },
    {
     "name": "stdout",
     "output_type": "stream",
     "text": [
      "269.6450853572144\n",
      "episode 953\n"
     ]
    },
    {
     "name": "stderr",
     "output_type": "stream",
     "text": [
      "\r\n",
      " 95%|#########5| 953/1000 [8:20:47<18:05, 23.11s/episodes]"
     ]
    },
    {
     "name": "stdout",
     "output_type": "stream",
     "text": [
      "313.676362918235\n",
      "episode 954\n"
     ]
    },
    {
     "name": "stderr",
     "output_type": "stream",
     "text": [
      "\r\n",
      " 95%|#########5| 954/1000 [8:21:01<15:42, 20.48s/episodes]"
     ]
    },
    {
     "name": "stdout",
     "output_type": "stream",
     "text": [
      "263.70124270534507\n",
      "episode 955\n"
     ]
    },
    {
     "name": "stderr",
     "output_type": "stream",
     "text": [
      "\r\n",
      " 96%|#########5| 955/1000 [8:21:16<14:03, 18.74s/episodes]"
     ]
    },
    {
     "name": "stdout",
     "output_type": "stream",
     "text": [
      "296.4834655795787\n",
      "episode 956\n"
     ]
    },
    {
     "name": "stderr",
     "output_type": "stream",
     "text": [
      "\r\n",
      " 96%|#########5| 956/1000 [8:21:32<13:06, 17.88s/episodes]"
     ]
    },
    {
     "name": "stdout",
     "output_type": "stream",
     "text": [
      "249.3913797817591\n",
      "episode 957\n"
     ]
    },
    {
     "name": "stderr",
     "output_type": "stream",
     "text": [
      "\r\n",
      " 96%|#########5| 957/1000 [8:21:53<13:31, 18.87s/episodes]"
     ]
    },
    {
     "name": "stdout",
     "output_type": "stream",
     "text": [
      "299.36306050358394\n",
      "episode 958\n"
     ]
    },
    {
     "name": "stderr",
     "output_type": "stream",
     "text": [
      "\r\n",
      " 96%|#########5| 958/1000 [8:22:06<12:01, 17.18s/episodes]"
     ]
    },
    {
     "name": "stdout",
     "output_type": "stream",
     "text": [
      "272.3787531657944\n",
      "episode 959\n"
     ]
    },
    {
     "name": "stderr",
     "output_type": "stream",
     "text": [
      "\r\n",
      " 96%|#########5| 959/1000 [8:22:26<12:17, 17.98s/episodes]"
     ]
    },
    {
     "name": "stdout",
     "output_type": "stream",
     "text": [
      "260.42835142233344\n",
      "episode 960\n"
     ]
    },
    {
     "name": "stderr",
     "output_type": "stream",
     "text": [
      "\r\n",
      " 96%|#########6| 960/1000 [8:23:51<25:24, 38.11s/episodes]"
     ]
    },
    {
     "name": "stdout",
     "output_type": "stream",
     "text": [
      "-31.501034006553333\n",
      "episode 961\n"
     ]
    },
    {
     "name": "stderr",
     "output_type": "stream",
     "text": [
      "\r\n",
      " 96%|#########6| 961/1000 [8:24:06<20:17, 31.22s/episodes]"
     ]
    },
    {
     "name": "stdout",
     "output_type": "stream",
     "text": [
      "277.494600107797\n",
      "episode 962\n"
     ]
    },
    {
     "name": "stderr",
     "output_type": "stream",
     "text": [
      "\r\n",
      " 96%|#########6| 962/1000 [8:24:22<16:49, 26.58s/episodes]"
     ]
    },
    {
     "name": "stdout",
     "output_type": "stream",
     "text": [
      "268.48240774973567\n",
      "episode 963\n"
     ]
    },
    {
     "name": "stderr",
     "output_type": "stream",
     "text": [
      "\r\n",
      " 96%|#########6| 963/1000 [8:24:52<17:01, 27.61s/episodes]"
     ]
    },
    {
     "name": "stdout",
     "output_type": "stream",
     "text": [
      "232.70820829357623\n",
      "episode 964\n"
     ]
    },
    {
     "name": "stderr",
     "output_type": "stream",
     "text": [
      "\r\n",
      " 96%|#########6| 964/1000 [8:25:18<16:12, 27.03s/episodes]"
     ]
    },
    {
     "name": "stdout",
     "output_type": "stream",
     "text": [
      "249.31820319155122\n",
      "episode 965\n"
     ]
    },
    {
     "name": "stderr",
     "output_type": "stream",
     "text": [
      "\r\n",
      " 96%|#########6| 965/1000 [8:25:33<13:44, 23.55s/episodes]"
     ]
    },
    {
     "name": "stdout",
     "output_type": "stream",
     "text": [
      "277.5922070869981\n",
      "episode 966\n"
     ]
    },
    {
     "name": "stderr",
     "output_type": "stream",
     "text": [
      "\r\n",
      " 97%|#########6| 966/1000 [8:25:50<12:06, 21.37s/episodes]"
     ]
    },
    {
     "name": "stdout",
     "output_type": "stream",
     "text": [
      "309.33395955065737\n",
      "episode 967\n"
     ]
    },
    {
     "name": "stderr",
     "output_type": "stream",
     "text": [
      "\r\n",
      " 97%|#########6| 967/1000 [8:26:05<10:43, 19.50s/episodes]"
     ]
    },
    {
     "name": "stdout",
     "output_type": "stream",
     "text": [
      "274.8573580751883\n",
      "episode 968\n"
     ]
    },
    {
     "name": "stderr",
     "output_type": "stream",
     "text": [
      "\r\n",
      " 97%|#########6| 968/1000 [8:26:21<09:50, 18.45s/episodes]"
     ]
    },
    {
     "name": "stdout",
     "output_type": "stream",
     "text": [
      "307.72141315147223\n",
      "episode 969\n"
     ]
    },
    {
     "name": "stderr",
     "output_type": "stream",
     "text": [
      "\r\n",
      " 97%|#########6| 969/1000 [8:26:38<09:20, 18.09s/episodes]"
     ]
    },
    {
     "name": "stdout",
     "output_type": "stream",
     "text": [
      "275.01138451064037\n",
      "episode 970\n"
     ]
    },
    {
     "name": "stderr",
     "output_type": "stream",
     "text": [
      "\r\n",
      " 97%|#########7| 970/1000 [8:26:55<08:55, 17.85s/episodes]"
     ]
    },
    {
     "name": "stdout",
     "output_type": "stream",
     "text": [
      "304.0764186389697\n",
      "episode 971\n"
     ]
    },
    {
     "name": "stderr",
     "output_type": "stream",
     "text": [
      "\r\n",
      " 97%|#########7| 971/1000 [8:27:05<07:28, 15.48s/episodes]"
     ]
    },
    {
     "name": "stdout",
     "output_type": "stream",
     "text": [
      "-6.3537539593063315\n",
      "episode 972\n"
     ]
    },
    {
     "name": "stderr",
     "output_type": "stream",
     "text": [
      "\r\n",
      " 97%|#########7| 972/1000 [8:27:25<07:47, 16.71s/episodes]"
     ]
    },
    {
     "name": "stdout",
     "output_type": "stream",
     "text": [
      "226.33858046816022\n",
      "episode 973\n"
     ]
    },
    {
     "name": "stderr",
     "output_type": "stream",
     "text": [
      "\r\n",
      " 97%|#########7| 973/1000 [8:27:43<07:45, 17.24s/episodes]"
     ]
    },
    {
     "name": "stdout",
     "output_type": "stream",
     "text": [
      "274.13010134894506\n",
      "episode 974\n"
     ]
    },
    {
     "name": "stderr",
     "output_type": "stream",
     "text": [
      "\r\n",
      " 97%|#########7| 974/1000 [8:28:46<13:21, 30.82s/episodes]"
     ]
    },
    {
     "name": "stdout",
     "output_type": "stream",
     "text": [
      "170.46559190304276\n",
      "episode 975\n"
     ]
    },
    {
     "name": "stderr",
     "output_type": "stream",
     "text": [
      "\r\n",
      " 98%|#########7| 975/1000 [8:29:01<10:50, 26.03s/episodes]"
     ]
    },
    {
     "name": "stdout",
     "output_type": "stream",
     "text": [
      "258.52791785746393\n",
      "episode 976\n"
     ]
    },
    {
     "name": "stderr",
     "output_type": "stream",
     "text": [
      "\r\n",
      " 98%|#########7| 976/1000 [8:29:17<09:12, 23.02s/episodes]"
     ]
    },
    {
     "name": "stdout",
     "output_type": "stream",
     "text": [
      "311.4086667496872\n",
      "episode 977\n"
     ]
    },
    {
     "name": "stderr",
     "output_type": "stream",
     "text": [
      "\r\n",
      " 98%|#########7| 977/1000 [8:29:29<07:34, 19.75s/episodes]"
     ]
    },
    {
     "name": "stdout",
     "output_type": "stream",
     "text": [
      "286.8805767724227\n",
      "episode 978\n"
     ]
    },
    {
     "name": "stderr",
     "output_type": "stream",
     "text": [
      "\r\n",
      " 98%|#########7| 978/1000 [8:29:38<06:08, 16.75s/episodes]"
     ]
    },
    {
     "name": "stdout",
     "output_type": "stream",
     "text": [
      "22.563346509797398\n",
      "episode 979\n"
     ]
    },
    {
     "name": "stderr",
     "output_type": "stream",
     "text": [
      "\r\n",
      " 98%|#########7| 979/1000 [8:29:53<05:37, 16.09s/episodes]"
     ]
    },
    {
     "name": "stdout",
     "output_type": "stream",
     "text": [
      "276.9468759955889\n",
      "episode 980\n"
     ]
    },
    {
     "name": "stderr",
     "output_type": "stream",
     "text": [
      "\r\n",
      " 98%|#########8| 980/1000 [8:30:11<05:31, 16.55s/episodes]"
     ]
    },
    {
     "name": "stdout",
     "output_type": "stream",
     "text": [
      "294.8495082630926\n",
      "episode 981\n"
     ]
    },
    {
     "name": "stderr",
     "output_type": "stream",
     "text": [
      "\r\n",
      " 98%|#########8| 981/1000 [8:31:02<08:30, 26.89s/episodes]"
     ]
    },
    {
     "name": "stdout",
     "output_type": "stream",
     "text": [
      "204.9189749006187\n",
      "episode 982\n"
     ]
    },
    {
     "name": "stderr",
     "output_type": "stream",
     "text": [
      "\r\n",
      " 98%|#########8| 982/1000 [8:31:21<07:23, 24.66s/episodes]"
     ]
    },
    {
     "name": "stdout",
     "output_type": "stream",
     "text": [
      "257.3498449136167\n",
      "episode 983\n"
     ]
    },
    {
     "name": "stderr",
     "output_type": "stream",
     "text": [
      "\r\n",
      " 98%|#########8| 983/1000 [8:31:38<06:19, 22.33s/episodes]"
     ]
    },
    {
     "name": "stdout",
     "output_type": "stream",
     "text": [
      "297.24499119414634\n",
      "episode 984\n"
     ]
    },
    {
     "name": "stderr",
     "output_type": "stream",
     "text": [
      "\r\n",
      " 98%|#########8| 984/1000 [8:32:54<10:16, 38.54s/episodes]"
     ]
    },
    {
     "name": "stdout",
     "output_type": "stream",
     "text": [
      "93.71573692208351\n",
      "episode 985\n"
     ]
    },
    {
     "name": "stderr",
     "output_type": "stream",
     "text": [
      "\r\n",
      " 98%|#########8| 985/1000 [8:33:21<08:42, 34.82s/episodes]"
     ]
    },
    {
     "name": "stdout",
     "output_type": "stream",
     "text": [
      "254.0985330664779\n",
      "episode 986\n"
     ]
    },
    {
     "name": "stderr",
     "output_type": "stream",
     "text": [
      "\r\n",
      " 99%|#########8| 986/1000 [8:34:01<08:29, 36.42s/episodes]"
     ]
    },
    {
     "name": "stdout",
     "output_type": "stream",
     "text": [
      "262.75363725592314\n",
      "episode 987\n"
     ]
    },
    {
     "name": "stderr",
     "output_type": "stream",
     "text": [
      "\r\n",
      " 99%|#########8| 987/1000 [8:34:52<08:52, 40.93s/episodes]"
     ]
    },
    {
     "name": "stdout",
     "output_type": "stream",
     "text": [
      "200.6956048330277\n",
      "episode 988\n"
     ]
    },
    {
     "name": "stderr",
     "output_type": "stream",
     "text": [
      "\r\n",
      " 99%|#########8| 988/1000 [8:35:14<07:03, 35.31s/episodes]"
     ]
    },
    {
     "name": "stdout",
     "output_type": "stream",
     "text": [
      "288.6515752860065\n",
      "episode 989\n"
     ]
    },
    {
     "name": "stderr",
     "output_type": "stream",
     "text": [
      "\r\n",
      " 99%|#########8| 989/1000 [8:35:28<05:17, 28.83s/episodes]"
     ]
    },
    {
     "name": "stdout",
     "output_type": "stream",
     "text": [
      "262.5185887664403\n",
      "episode 990\n"
     ]
    },
    {
     "name": "stderr",
     "output_type": "stream",
     "text": [
      "\r\n",
      " 99%|#########9| 990/1000 [8:35:44<04:08, 24.83s/episodes]"
     ]
    },
    {
     "name": "stdout",
     "output_type": "stream",
     "text": [
      "283.5134348934831\n",
      "episode 991\n"
     ]
    },
    {
     "name": "stderr",
     "output_type": "stream",
     "text": [
      "\r\n",
      " 99%|#########9| 991/1000 [8:36:00<03:21, 22.36s/episodes]"
     ]
    },
    {
     "name": "stdout",
     "output_type": "stream",
     "text": [
      "284.28877840548466\n",
      "episode 992\n"
     ]
    },
    {
     "name": "stderr",
     "output_type": "stream",
     "text": [
      "\r\n",
      " 99%|#########9| 992/1000 [8:36:17<02:46, 20.78s/episodes]"
     ]
    },
    {
     "name": "stdout",
     "output_type": "stream",
     "text": [
      "310.2824291923198\n",
      "episode 993\n"
     ]
    },
    {
     "name": "stderr",
     "output_type": "stream",
     "text": [
      "\r\n",
      " 99%|#########9| 993/1000 [8:37:04<03:19, 28.53s/episodes]"
     ]
    },
    {
     "name": "stdout",
     "output_type": "stream",
     "text": [
      "278.498949855789\n",
      "episode 994\n"
     ]
    },
    {
     "name": "stderr",
     "output_type": "stream",
     "text": [
      "\r\n",
      " 99%|#########9| 994/1000 [8:37:27<02:42, 27.02s/episodes]"
     ]
    },
    {
     "name": "stdout",
     "output_type": "stream",
     "text": [
      "269.7792617048832\n",
      "episode 995\n"
     ]
    },
    {
     "name": "stderr",
     "output_type": "stream",
     "text": [
      "\r\n",
      "100%|#########9| 995/1000 [8:37:43<01:58, 23.69s/episodes]"
     ]
    },
    {
     "name": "stdout",
     "output_type": "stream",
     "text": [
      "263.8191678592565\n",
      "episode 996\n"
     ]
    },
    {
     "name": "stderr",
     "output_type": "stream",
     "text": [
      "\r\n",
      "100%|#########9| 996/1000 [8:38:02<01:28, 22.10s/episodes]"
     ]
    },
    {
     "name": "stdout",
     "output_type": "stream",
     "text": [
      "315.1639699583218\n",
      "episode 997\n"
     ]
    },
    {
     "name": "stderr",
     "output_type": "stream",
     "text": [
      "\r\n",
      "100%|#########9| 997/1000 [8:38:17<01:00, 20.18s/episodes]"
     ]
    },
    {
     "name": "stdout",
     "output_type": "stream",
     "text": [
      "257.70617104713324\n",
      "episode 998\n"
     ]
    },
    {
     "name": "stderr",
     "output_type": "stream",
     "text": [
      "\r\n",
      "100%|#########9| 998/1000 [8:38:32<00:37, 18.56s/episodes]"
     ]
    },
    {
     "name": "stdout",
     "output_type": "stream",
     "text": [
      "266.10943827468066\n",
      "episode 999\n"
     ]
    },
    {
     "name": "stderr",
     "output_type": "stream",
     "text": [
      "\r\n",
      "100%|#########9| 999/1000 [8:38:49<00:18, 18.01s/episodes]"
     ]
    },
    {
     "name": "stdout",
     "output_type": "stream",
     "text": [
      "271.66027837627735\n",
      "episode 1000\n"
     ]
    },
    {
     "name": "stderr",
     "output_type": "stream",
     "text": [
      "100%|##########| 1000/1000 [8:39:06<00:00, 31.15s/episodes]"
     ]
    },
    {
     "name": "stdout",
     "output_type": "stream",
     "text": [
      "270.57086240963696\n"
     ]
    },
    {
     "name": "stderr",
     "output_type": "stream",
     "text": [
      "\n"
     ]
    },
    {
     "name": "stdout",
     "output_type": "stream",
     "text": [
      "Total time passed: 31146.50846362114 seconds\n"
     ]
    },
    {
     "ename": "ValueError",
     "evalue": "too many values to unpack (expected 2)",
     "output_type": "error",
     "traceback": [
      "\u001b[0;31m---------------------------------------------------------------------------\u001b[0m",
      "\u001b[0;31mValueError\u001b[0m                                Traceback (most recent call last)",
      "Input \u001b[0;32mIn [8]\u001b[0m, in \u001b[0;36m<cell line: 3>\u001b[0;34m()\u001b[0m\n\u001b[1;32m      1\u001b[0m tf\u001b[38;5;241m.\u001b[39mconfig\u001b[38;5;241m.\u001b[39mrun_functions_eagerly(\u001b[38;5;28;01mTrue\u001b[39;00m)\n\u001b[1;32m      2\u001b[0m env \u001b[38;5;241m=\u001b[39m gym\u001b[38;5;241m.\u001b[39mmake(\u001b[38;5;124m\"\u001b[39m\u001b[38;5;124mLunarLanderContinuous-v2\u001b[39m\u001b[38;5;124m\"\u001b[39m)\n\u001b[0;32m----> 3\u001b[0m scores, model \u001b[38;5;241m=\u001b[39m ddpg(env)\n",
      "\u001b[0;31mValueError\u001b[0m: too many values to unpack (expected 2)"
     ]
    }
   ],
   "source": [
    "tf.config.run_functions_eagerly(True)\n",
    "env = gym.make(\"LunarLanderContinuous-v2\")\n",
    "scores, model = ddpg(env)"
   ]
  },
  {
   "cell_type": "code",
   "execution_count": 3,
   "id": "8a6a93ef",
   "metadata": {},
   "outputs": [
    {
     "data": {
      "text/html": [
       "<div>\n",
       "<style scoped>\n",
       "    .dataframe tbody tr th:only-of-type {\n",
       "        vertical-align: middle;\n",
       "    }\n",
       "\n",
       "    .dataframe tbody tr th {\n",
       "        vertical-align: top;\n",
       "    }\n",
       "\n",
       "    .dataframe thead th {\n",
       "        text-align: right;\n",
       "    }\n",
       "</style>\n",
       "<table border=\"1\" class=\"dataframe\">\n",
       "  <thead>\n",
       "    <tr style=\"text-align: right;\">\n",
       "      <th></th>\n",
       "      <th>episode</th>\n",
       "      <th>reward</th>\n",
       "      <th>average</th>\n",
       "    </tr>\n",
       "  </thead>\n",
       "  <tbody>\n",
       "    <tr>\n",
       "      <th>0</th>\n",
       "      <td>1</td>\n",
       "      <td>-316.007835</td>\n",
       "      <td>-316.007835</td>\n",
       "    </tr>\n",
       "    <tr>\n",
       "      <th>1</th>\n",
       "      <td>2</td>\n",
       "      <td>-348.838413</td>\n",
       "      <td>-332.423124</td>\n",
       "    </tr>\n",
       "    <tr>\n",
       "      <th>2</th>\n",
       "      <td>3</td>\n",
       "      <td>-499.654620</td>\n",
       "      <td>-388.166956</td>\n",
       "    </tr>\n",
       "    <tr>\n",
       "      <th>3</th>\n",
       "      <td>4</td>\n",
       "      <td>-333.152522</td>\n",
       "      <td>-374.413347</td>\n",
       "    </tr>\n",
       "    <tr>\n",
       "      <th>4</th>\n",
       "      <td>5</td>\n",
       "      <td>-226.435928</td>\n",
       "      <td>-344.817863</td>\n",
       "    </tr>\n",
       "  </tbody>\n",
       "</table>\n",
       "</div>"
      ],
      "text/plain": [
       "   episode      reward     average\n",
       "0        1 -316.007835 -316.007835\n",
       "1        2 -348.838413 -332.423124\n",
       "2        3 -499.654620 -388.166956\n",
       "3        4 -333.152522 -374.413347\n",
       "4        5 -226.435928 -344.817863"
      ]
     },
     "execution_count": 3,
     "metadata": {},
     "output_type": "execute_result"
    }
   ],
   "source": [
    "data = pd.read_csv('./logs/ddpg_progress.log', sep=';')\n",
    "data.head()"
   ]
  },
  {
   "cell_type": "code",
   "execution_count": 4,
   "id": "fc04cda5",
   "metadata": {},
   "outputs": [
    {
     "data": {
      "image/png": "[encoded data removed]",
      "text/plain": [
       "<Figure size 1440x720 with 1 Axes>"
      ]
     },
     "metadata": {
      "needs_background": "light"
     },
     "output_type": "display_data"
    }
   ],
   "source": [
    "\n",
    "\n",
    "plt.figure(figsize=(20,10))\n",
    "plt.plot(data['reward'])\n",
    "plt.plot(data['average'])\n",
    "plt.title('Reward')\n",
    "plt.ylabel('Reward')\n",
    "plt.xlabel('Episode')\n",
    "plt.legend(['Reward'], loc='best')\n",
    "plt.show()"
   ]
  },
  {
   "cell_type": "code",
   "execution_count": 6,
   "id": "e2ead116",
   "metadata": {},
   "outputs": [
    {
     "name": "stdout",
     "output_type": "stream",
     "text": [
      "episode 1 finished in 173 steps with reward 242.83850991004883.\n",
      "episode 2 finished in 195 steps with reward 280.6558424959344.\n",
      "episode 3 finished in 174 steps with reward 237.33583028554824.\n",
      "episode 4 finished in 180 steps with reward 254.10784907244067.\n",
      "episode 5 finished in 207 steps with reward 291.11042731886124.\n",
      "Episode reached the maximum number of steps. 300\n",
      "episode 6 finished in 300 steps with reward 92.52811976508346.\n",
      "episode 7 finished in 163 steps with reward 252.46278995265143.\n",
      "episode 8 finished in 168 steps with reward 248.79964463090855.\n",
      "episode 9 finished in 193 steps with reward 270.4895821122922.\n",
      "episode 10 finished in 189 steps with reward 285.1654880626137.\n"
     ]
    }
   ],
   "source": [
    "trained_model = load_model('./model/ggdp_model.h5') \n",
    "evaluation_max_episodes = 10\n",
    "evaluation_max_steps = 300\n",
    "\n",
    "rewards = []\n",
    "for episode in range(1, evaluation_max_episodes + 1):\n",
    "    state = env.reset()\n",
    "    state = state.reshape((1, 8))\n",
    "    state = tf.convert_to_tensor(state)\n",
    "    episode_reward = 0\n",
    "    step = 1\n",
    "    for step in range(1, evaluation_max_steps + 1):\n",
    "        env.render()\n",
    "        action = trained_model.predict(state)\n",
    "        new_state, reward, done, info = env.step(action[0])\n",
    "\n",
    "        fraction_finished = (step + 1) / evaluation_max_steps\n",
    "        # new_state = np.append(new_state, fraction_finished)\n",
    "        new_state = new_state.reshape((1, 8))\n",
    "        new_state = tf.convert_to_tensor(new_state) \n",
    "\n",
    "        episode_reward += reward\n",
    "\n",
    "        if step == evaluation_max_steps:\n",
    "            print(f\"Episode reached the maximum number of steps. {evaluation_max_steps}\")\n",
    "            done = True\n",
    "\n",
    "        state = new_state\n",
    "\n",
    "        if done:\n",
    "            break\n",
    "\n",
    "    print(f\"episode {episode} finished in {step} steps with reward {episode_reward}.\")\n",
    "    rewards.append(episode_reward)\n",
    "# print(\"Average reward: \" + np.average(rewards))\n",
    "env.close()"
   ]
  },
  {
   "cell_type": "code",
   "execution_count": 3,
   "id": "a45f7d67",
   "metadata": {},
   "outputs": [
    {
     "name": "stderr",
     "output_type": "stream",
     "text": [
      "C:\\Users\\akunanbaeva\\Anaconda3\\envs\\kera\\lib\\site-packages\\pyglet\\image\\codecs\\wic.py:289: UserWarning: [WinError -2147417850] Cannot change thread mode after it is set\n",
      "  warnings.warn(str(err))\n"
     ]
    },
    {
     "name": "stdout",
     "output_type": "stream",
     "text": [
      "episode finished in 190 steps with reward 285.1750912537548.\n"
     ]
    }
   ],
   "source": [
    "# trained_model = load_model('./model/actor_net.h5')\n",
    "# env = gym.make(\"LunarLanderContinuous-v2\")\n",
    "from gym import wrappers\n",
    "trained_model = load_model('./model/ggdp_model.h5') \n",
    "evaluation_max_steps = 300\n",
    "\n",
    "rewards = []\n",
    "env = wrappers.Monitor(env, \"./gym-results\", force=True)\n",
    "random.seed(42)\n",
    "state = env.reset()\n",
    "state = state.reshape((1, 8))\n",
    "state = tf.convert_to_tensor(state)\n",
    "# img = plt.imshow(env.render(mode='rgb_array'))\n",
    "episode_reward = 0\n",
    "step = 1\n",
    "for step in range(1, evaluation_max_steps + 1):\n",
    "    # img.set_data(env.render(mode='rgb_array')) # just update the data\n",
    "    # display.display(plt.gcf())\n",
    "    # display.clear_output(wait=True)\n",
    "#     env.render()\n",
    "    action = trained_model.predict(state)\n",
    "    new_state, reward, done, info = env.step(action[0])\n",
    "\n",
    "    fraction_finished = (step + 1) / evaluation_max_steps\n",
    "    # new_state = np.append(new_state, fraction_finished)\n",
    "    new_state = new_state.reshape((1, 8))\n",
    "    new_state = tf.convert_to_tensor(new_state) \n",
    "\n",
    "    episode_reward += reward\n",
    "\n",
    "    if step == evaluation_max_steps:\n",
    "        print(f\"Episode reached the maximum number of steps. {evaluation_max_steps}\")\n",
    "        done = True\n",
    "\n",
    "    state = new_state\n",
    "\n",
    "    if done:\n",
    "        break\n",
    "\n",
    "print(f\"episode finished in {step} steps with reward {episode_reward}.\")"
   ]
  },
  {
   "cell_type": "code",
   "execution_count": null,
   "id": "035efbd6",
   "metadata": {},
   "outputs": [],
   "source": []
  }
 ],
 "metadata": {
  "kernelspec": {
   "display_name": "Python 3",
   "language": "python",
   "name": "python3"
  },
  "language_info": {
   "codemirror_mode": {
    "name": "ipython",
    "version": 3
   },
   "file_extension": ".py",
   "mimetype": "text/x-python",
   "name": "python",
   "nbconvert_exporter": "python",
   "pygments_lexer": "ipython3",
   "version": "3.9.7"
  }
 },
 "nbformat": 4,
 "nbformat_minor": 5
}
